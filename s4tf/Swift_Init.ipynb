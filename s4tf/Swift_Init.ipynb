{
  "nbformat": 4,
  "nbformat_minor": 0,
  "metadata": {
    "colab": {
      "name": "Swift Init.ipynb",
      "provenance": [],
      "collapsed_sections": []
    },
    "kernelspec": {
      "name": "swift",
      "display_name": "Swift"
    },
    "accelerator": "GPU"
  },
  "cells": [
    {
      "cell_type": "code",
      "metadata": {
        "id": "kZRlD4utdPuX",
        "colab_type": "code",
        "colab": {}
      },
      "source": [
        "let a = 10"
      ],
      "execution_count": 0,
      "outputs": []
    },
    {
      "cell_type": "code",
      "metadata": {
        "id": "E_jet_mo_by6",
        "colab_type": "code",
        "outputId": "154826a0-6a55-4140-8864-fc37aa06dd14",
        "colab": {
          "base_uri": "https://localhost:8080/",
          "height": 34
        }
      },
      "source": [
        "print(\"swift is here to stay\")"
      ],
      "execution_count": 0,
      "outputs": [
        {
          "output_type": "stream",
          "text": [
            "swift is here to stay\r\n"
          ],
          "name": "stdout"
        }
      ]
    },
    {
      "cell_type": "code",
      "metadata": {
        "id": "hPVSNysT_k5h",
        "colab_type": "code",
        "colab": {}
      },
      "source": [
        "func dist(x : Float, y : Float) -> Float {\n",
        "  return (x*x + y*y)\n",
        "}"
      ],
      "execution_count": 0,
      "outputs": []
    },
    {
      "cell_type": "code",
      "metadata": {
        "id": "cZ3Jbuds_w2b",
        "colab_type": "code",
        "outputId": "fc05d2ee-ee0a-4bca-da2e-6d3e7a4fff73",
        "colab": {
          "base_uri": "https://localhost:8080/",
          "height": 34
        }
      },
      "source": [
        "dist(x: 2,y : 3)"
      ],
      "execution_count": 0,
      "outputs": [
        {
          "output_type": "execute_result",
          "data": {
            "text/plain": [
              "13.0\n"
            ]
          },
          "metadata": {
            "tags": []
          },
          "execution_count": 6
        }
      ]
    },
    {
      "cell_type": "code",
      "metadata": {
        "id": "sAoad6Iz_2HP",
        "colab_type": "code",
        "colab": {}
      },
      "source": [
        "func yelo(x : Float,_ y : Float) -> Float {\n",
        "  print(x)\n",
        "  print(y)\n",
        "\n",
        "  return x+y\n",
        "}"
      ],
      "execution_count": 0,
      "outputs": []
    },
    {
      "cell_type": "code",
      "metadata": {
        "id": "3QxDaJWFAADA",
        "colab_type": "code",
        "outputId": "511497ca-c981-40c5-b15b-e03988ea9cc9",
        "colab": {
          "base_uri": "https://localhost:8080/",
          "height": 34
        }
      },
      "source": [
        "yelo(2, y : Float(a))"
      ],
      "execution_count": 0,
      "outputs": [
        {
          "output_type": "execute_result",
          "data": {
            "text/plain": [
              "12.0\n"
            ]
          },
          "metadata": {
            "tags": []
          },
          "execution_count": 30
        }
      ]
    },
    {
      "cell_type": "markdown",
      "metadata": {
        "id": "jgZn4T6HBJPo",
        "colab_type": "text"
      },
      "source": [
        "Swift supports Unicode very well."
      ]
    },
    {
      "cell_type": "code",
      "metadata": {
        "id": "yO-W4ZtwACT7",
        "colab_type": "code",
        "colab": {}
      },
      "source": [
        ""
      ],
      "execution_count": 0,
      "outputs": []
    }
  ]
}