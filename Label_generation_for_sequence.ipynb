{
  "nbformat": 4,
  "nbformat_minor": 0,
  "metadata": {
    "colab": {
      "name": "Label generation for sequence.ipynb",
      "provenance": []
    },
    "kernelspec": {
      "name": "python3",
      "display_name": "Python 3"
    }
  },
  "cells": [
    {
      "cell_type": "markdown",
      "metadata": {
        "id": "AGKdwqblhv4x",
        "colab_type": "text"
      },
      "source": [
        "# Imports"
      ]
    },
    {
      "cell_type": "code",
      "metadata": {
        "id": "_skZ_g7ehB9o",
        "colab_type": "code",
        "outputId": "5476b2f7-d465-4f9e-cddb-0aab9357f8ca",
        "colab": {
          "base_uri": "https://localhost:8080/",
          "height": 71
        }
      },
      "source": [
        "from io import open\n",
        "import os, string, random, time, math\n",
        "import matplotlib.pyplot as plt\n",
        "import seaborn as sns\n",
        "import numpy as np"
      ],
      "execution_count": 1,
      "outputs": [
        {
          "output_type": "stream",
          "text": [
            "/usr/local/lib/python3.6/dist-packages/statsmodels/tools/_testing.py:19: FutureWarning: pandas.util.testing is deprecated. Use the functions in the public API at pandas.testing instead.\n",
            "  import pandas.util.testing as tm\n"
          ],
          "name": "stderr"
        }
      ]
    },
    {
      "cell_type": "code",
      "metadata": {
        "id": "hNbwxTRMhVFG",
        "colab_type": "code",
        "colab": {}
      },
      "source": [
        "from sklearn.model_selection import train_test_split"
      ],
      "execution_count": 0,
      "outputs": []
    },
    {
      "cell_type": "code",
      "metadata": {
        "id": "sXaO1SbvhZBS",
        "colab_type": "code",
        "colab": {}
      },
      "source": [
        "import torch\n",
        "import torch.nn as nn\n",
        "import torch.optim as optim"
      ],
      "execution_count": 0,
      "outputs": []
    },
    {
      "cell_type": "code",
      "metadata": {
        "id": "fWwSJRxxhfm2",
        "colab_type": "code",
        "colab": {}
      },
      "source": [
        "device = torch.device(\"cuda:0\" if torch.cuda.is_available() else \"cpu\")"
      ],
      "execution_count": 0,
      "outputs": []
    },
    {
      "cell_type": "code",
      "metadata": {
        "id": "mzOwBdEKhoGV",
        "colab_type": "code",
        "colab": {}
      },
      "source": [
        "from IPython.display import clear_output"
      ],
      "execution_count": 0,
      "outputs": []
    },
    {
      "cell_type": "code",
      "metadata": {
        "id": "GbxzhvE7mltI",
        "colab_type": "code",
        "colab": {}
      },
      "source": [
        ""
      ],
      "execution_count": 0,
      "outputs": []
    },
    {
      "cell_type": "markdown",
      "metadata": {
        "id": "9P4J8GPQhyK4",
        "colab_type": "text"
      },
      "source": [
        "# Dataset"
      ]
    },
    {
      "cell_type": "code",
      "metadata": {
        "id": "O9lbCrk1hrms",
        "colab_type": "code",
        "colab": {}
      },
      "source": [
        "languages = []\n",
        "data = []\n",
        "\n",
        "X = []\n",
        "Y = []\n",
        "\n",
        "with open('name2lang.txt','r') as f:\n",
        "  for line in f:\n",
        "    line = line.split(',')\n",
        "    name = line[0].strip()\n",
        "    lang = line[1].strip()\n",
        "    if not lang in languages:\n",
        "      languages.append(lang)\n",
        "    X.append(name)\n",
        "    Y.append(lang)\n",
        "    data.append((name,lang))"
      ],
      "execution_count": 0,
      "outputs": []
    },
    {
      "cell_type": "code",
      "metadata": {
        "id": "oABr0p__ifKH",
        "colab_type": "code",
        "colab": {}
      },
      "source": [
        "n_languages = len(languages)"
      ],
      "execution_count": 0,
      "outputs": []
    },
    {
      "cell_type": "code",
      "metadata": {
        "id": "nYpusT44ih31",
        "colab_type": "code",
        "outputId": "55e1f367-9052-45a5-dd97-76b5e96dbfcd",
        "colab": {
          "base_uri": "https://localhost:8080/",
          "height": 88
        }
      },
      "source": [
        "print(n_languages)\n",
        "print(languages)\n",
        "print(data[0:10])"
      ],
      "execution_count": 8,
      "outputs": [
        {
          "output_type": "stream",
          "text": [
            "18\n",
            "['Portuguese', 'Irish', 'Spanish', 'Vietnamese', 'Chinese', 'Greek', 'Czech', 'Dutch', 'Japanese', 'French', 'German', 'Scottish', 'English', 'Russian', 'Polish', 'Arabic', 'Korean', 'Italian']\n",
            "[('Abreu', 'Portuguese'), ('Albuquerque', 'Portuguese'), ('Almeida', 'Portuguese'), ('Alves', 'Portuguese'), ('Araujo', 'Portuguese'), ('Araullo', 'Portuguese'), ('Barros', 'Portuguese'), ('Basurto', 'Portuguese'), ('Belo', 'Portuguese'), ('Cabral', 'Portuguese')]\n"
          ],
          "name": "stdout"
        }
      ]
    },
    {
      "cell_type": "markdown",
      "metadata": {
        "id": "1DQ2f-qziy_-",
        "colab_type": "text"
      },
      "source": [
        "# Train-test split"
      ]
    },
    {
      "cell_type": "code",
      "metadata": {
        "id": "E5duOp_5iuiA",
        "colab_type": "code",
        "colab": {}
      },
      "source": [
        "X_train, X_test, Y_train, Y_test = train_test_split(X,Y, test_size = 0.2, random_state=0, stratify=Y)"
      ],
      "execution_count": 0,
      "outputs": []
    },
    {
      "cell_type": "markdown",
      "metadata": {
        "id": "2CtwZyCljFo6",
        "colab_type": "text"
      },
      "source": [
        "# Encoding names and languages"
      ]
    },
    {
      "cell_type": "code",
      "metadata": {
        "id": "oVG-h4syi_Ru",
        "colab_type": "code",
        "outputId": "b7ecd046-ab62-4848-9651-ad0ca6a14a07",
        "colab": {
          "base_uri": "https://localhost:8080/",
          "height": 51
        }
      },
      "source": [
        "all_letters = string.ascii_letters + \" .,;'\"\n",
        "n_letters = len(all_letters)\n",
        "\n",
        "print(n_letters)\n",
        "print(all_letters)"
      ],
      "execution_count": 10,
      "outputs": [
        {
          "output_type": "stream",
          "text": [
            "57\n",
            "abcdefghijklmnopqrstuvwxyzABCDEFGHIJKLMNOPQRSTUVWXYZ .,;'\n"
          ],
          "name": "stdout"
        }
      ]
    },
    {
      "cell_type": "code",
      "metadata": {
        "id": "DyChiajUjOsQ",
        "colab_type": "code",
        "colab": {}
      },
      "source": [
        "def name_rep(name):\n",
        "\n",
        "  \"\"\"\n",
        "  Returns the stacked one-hot encoding of the input word.\n",
        "  \"\"\"\n",
        "  rep = torch.zeros(len(name),1,n_letters) # Stacking\n",
        "  for index, letter in enumerate(name):\n",
        "    pos = all_letters.index(letter)\n",
        "    rep[index][0][pos] = 1 # Marking\n",
        "  return rep"
      ],
      "execution_count": 0,
      "outputs": []
    },
    {
      "cell_type": "code",
      "metadata": {
        "id": "QvZY-tHplks-",
        "colab_type": "code",
        "outputId": "b05a0819-dcc1-4b51-f2d6-162dc9370269",
        "colab": {
          "base_uri": "https://localhost:8080/",
          "height": 34
        }
      },
      "source": [
        "name_rep(\"Shiv\").shape"
      ],
      "execution_count": 12,
      "outputs": [
        {
          "output_type": "execute_result",
          "data": {
            "text/plain": [
              "torch.Size([4, 1, 57])"
            ]
          },
          "metadata": {
            "tags": []
          },
          "execution_count": 12
        }
      ]
    },
    {
      "cell_type": "code",
      "metadata": {
        "id": "xZFt8QZflBtr",
        "colab_type": "code",
        "colab": {}
      },
      "source": [
        "def lang_rep(lang):\n",
        "  \"\"\"\n",
        "  Returns the one-hot encoding of the language\n",
        "  \"\"\"\n",
        "  rep = torch.zeros(1,dtype=torch.long)\n",
        "  pos = languages.index(lang)\n",
        "  rep[0] = pos\n",
        "  return rep"
      ],
      "execution_count": 0,
      "outputs": []
    },
    {
      "cell_type": "code",
      "metadata": {
        "id": "QmPn2YpLlR7o",
        "colab_type": "code",
        "outputId": "abfbe4c7-d73a-4739-c501-210968cfae3a",
        "colab": {
          "base_uri": "https://localhost:8080/",
          "height": 34
        }
      },
      "source": [
        "lang_rep(\"Spanish\")"
      ],
      "execution_count": 47,
      "outputs": [
        {
          "output_type": "execute_result",
          "data": {
            "text/plain": [
              "tensor([2])"
            ]
          },
          "metadata": {
            "tags": []
          },
          "execution_count": 47
        }
      ]
    },
    {
      "cell_type": "markdown",
      "metadata": {
        "id": "OPRB3geLl7JH",
        "colab_type": "text"
      },
      "source": [
        "# Basic visualisation"
      ]
    },
    {
      "cell_type": "code",
      "metadata": {
        "id": "STgQX8ZXlW_E",
        "colab_type": "code",
        "outputId": "a3bba6a8-3350-4609-b1c8-22008a41f4e8",
        "colab": {
          "base_uri": "https://localhost:8080/",
          "height": 314
        }
      },
      "source": [
        "\"\"\"\n",
        "This can be used to figure out the baseline accuracy i.e. if we were to sample input randomly and output randomly,\n",
        "what accuracy would we achieve.\n",
        "\"\"\"\n",
        "\n",
        "count = {}\n",
        "for l in languages:\n",
        "  count[l] = 0\n",
        "\n",
        "for d in data:\n",
        "  count[d[1]]+=1\n",
        "\n",
        "plt_ = sns.barplot(list(count.keys()),list(count.values()))\n",
        "plt_.set_xticklabels(plt_.get_xticklabels(),rotation=90)\n",
        "plt.show()"
      ],
      "execution_count": 15,
      "outputs": [
        {
          "output_type": "display_data",
          "data": {
            "image/png": "[encoded data removed]",
            "text/plain": [
              "<Figure size 432x288 with 1 Axes>"
            ]
          },
          "metadata": {
            "tags": [],
            "needs_background": "light"
          }
        }
      ]
    },
    {
      "cell_type": "markdown",
      "metadata": {
        "id": "gDPOtR9ynepe",
        "colab_type": "text"
      },
      "source": [
        "# Dataloader"
      ]
    },
    {
      "cell_type": "code",
      "metadata": {
        "id": "DWfq-ROwndwg",
        "colab_type": "code",
        "colab": {}
      },
      "source": [
        "def dataloader(n_points, X_, Y_):\n",
        "  \"\"\"\n",
        "  Returns a list of (n_points) tuples containing (x,y,stacked ohe for x, along with ohe for y)\n",
        "  \"\"\"\n",
        "  to_ret = []\n",
        "  for i in range(n_points):\n",
        "    index_ = np.random.randint(len(X_))\n",
        "    name,lang = X_[index_],Y_[index_]\n",
        "    to_ret.append((name,lang, name_rep(name),lang_rep(lang)))\n",
        "  return to_ret"
      ],
      "execution_count": 0,
      "outputs": []
    },
    {
      "cell_type": "markdown",
      "metadata": {
        "id": "eTb7Ijr5oDIz",
        "colab_type": "text"
      },
      "source": [
        "# LSTM"
      ]
    },
    {
      "cell_type": "code",
      "metadata": {
        "id": "htjxFpbJni2r",
        "colab_type": "code",
        "colab": {}
      },
      "source": [
        "class LSTM_net(nn.Module):\n",
        "\n",
        "  def __init__(self, input_size, hidden_size, output_size):\n",
        "\n",
        "    super(LSTM_net, self).__init__()\n",
        "\n",
        "    self.hidden_size = hidden_size\n",
        "    self.output_size = output_size\n",
        "\n",
        "    self.lstm_cell = nn.LSTM(input_size, hidden_size)\n",
        "    self.h2o = nn.Linear(hidden_size, output_size)\n",
        "    self.softmax = nn.LogSoftmax(dim=2)\n",
        "\n",
        "  def forward(self,input_, hidden,verbose=False):\n",
        "\n",
        "    out, hidden = self.lstm_cell(input_, hidden)\n",
        "    output = self.softmax(self.h2o(out))\n",
        "\n",
        "    if verbose:\n",
        "      print(\"LSTM output:\",out.shape)\n",
        "      print(\"LSTM hidden state:\",hidden[0].shape)\n",
        "      print(\"Final output shape:\",output.shape)\n",
        "\n",
        "    return output[-1]\n",
        "    \n",
        "  def init_hidden(self):\n",
        "    return (torch.zeros(1,1,self.hidden_size),torch.zeros(1,1,self.hidden_size))"
      ],
      "execution_count": 0,
      "outputs": []
    },
    {
      "cell_type": "markdown",
      "metadata": {
        "id": "VLDiMjDtqVWu",
        "colab_type": "text"
      },
      "source": [
        "# Inference"
      ]
    },
    {
      "cell_type": "code",
      "metadata": {
        "id": "RpCtQiOrpBJW",
        "colab_type": "code",
        "colab": {}
      },
      "source": [
        "n_hidden = 128\n",
        "net_lstm = LSTM_net(n_letters, n_hidden, n_languages)"
      ],
      "execution_count": 0,
      "outputs": []
    },
    {
      "cell_type": "code",
      "metadata": {
        "id": "H-m6KJOgpULr",
        "colab_type": "code",
        "colab": {}
      },
      "source": [
        "def infer(net, name):\n",
        "  name_ohe = name_rep(name)\n",
        "  hidden = net.init_hidden()\n",
        "\n",
        "  output = net(name_ohe, hidden)\n",
        "  return output"
      ],
      "execution_count": 0,
      "outputs": []
    },
    {
      "cell_type": "code",
      "metadata": {
        "id": "nFk7PkdGssnm",
        "colab_type": "code",
        "colab": {
          "base_uri": "https://localhost:8080/",
          "height": 68
        },
        "outputId": "cd57812e-0396-4dea-af95-2a0acff0d65e"
      },
      "source": [
        "infer(net_lstm,\"Agrima\")"
      ],
      "execution_count": 42,
      "outputs": [
        {
          "output_type": "execute_result",
          "data": {
            "text/plain": [
              "tensor([[-2.9332, -2.9648, -2.8538, -2.8726, -2.8343, -2.7763, -2.9082, -2.9490,\n",
              "         -2.9709, -2.8107, -2.8782, -2.8751, -2.8659, -2.9289, -2.8883, -2.8691,\n",
              "         -2.9192, -2.9529]], grad_fn=<SelectBackward>)"
            ]
          },
          "metadata": {
            "tags": []
          },
          "execution_count": 42
        }
      ]
    },
    {
      "cell_type": "markdown",
      "metadata": {
        "id": "xM_NladetHnh",
        "colab_type": "text"
      },
      "source": [
        "# Evaluate"
      ]
    },
    {
      "cell_type": "code",
      "metadata": {
        "id": "D_qrrKYLszbj",
        "colab_type": "code",
        "colab": {}
      },
      "source": [
        "def evaluate(net, n_points, X_, Y_):\n",
        "\n",
        "  data = dataloader(n_points, X_, Y_)\n",
        "  correct = 0\n",
        "  \n",
        "  for sample in data:\n",
        "    hidden = net.init_hidden()\n",
        "    output = net(sample[2], hidden)\n",
        "    if output.argmax()==sample[3]:\n",
        "      correct+=1\n",
        "  \n",
        "  return (correct/n_points)*100"
      ],
      "execution_count": 0,
      "outputs": []
    },
    {
      "cell_type": "code",
      "metadata": {
        "id": "T1CdS3wuudpv",
        "colab_type": "code",
        "colab": {
          "base_uri": "https://localhost:8080/",
          "height": 34
        },
        "outputId": "cbd5a688-85b0-49ad-d9cc-13637e1009ba"
      },
      "source": [
        "evaluate(net_lstm,1000,X_train, Y_train)"
      ],
      "execution_count": 57,
      "outputs": [
        {
          "output_type": "execute_result",
          "data": {
            "text/plain": [
              "45.1"
            ]
          },
          "metadata": {
            "tags": []
          },
          "execution_count": 57
        }
      ]
    },
    {
      "cell_type": "markdown",
      "metadata": {
        "id": "lyxWLJTDutPm",
        "colab_type": "text"
      },
      "source": [
        "# Train"
      ]
    },
    {
      "cell_type": "code",
      "metadata": {
        "id": "_gafe-2DuuJm",
        "colab_type": "code",
        "colab": {}
      },
      "source": [
        "def train(net, opt, criterion, n_points):\n",
        "  opt.zero_grad()\n",
        "  total_loss = 0\n",
        "\n",
        "  data_ = dataloader(n_points, X_train, Y_train)\n",
        "  for sample in data_:\n",
        "    hidden = net.init_hidden()\n",
        "    output = net(sample[2],hidden)\n",
        "    loss = criterion(output, sample[3])\n",
        "    loss.backward(retain_graph=True)\n",
        "    total_loss += loss\n",
        "  \n",
        "  opt.step()\n",
        "\n",
        "  return total_loss/n_points"
      ],
      "execution_count": 0,
      "outputs": []
    },
    {
      "cell_type": "code",
      "metadata": {
        "id": "emLpNSwdw2ni",
        "colab_type": "code",
        "colab": {
          "base_uri": "https://localhost:8080/",
          "height": 34
        },
        "outputId": "17bd2015-8616-4991-ca3b-f51e10938ee5"
      },
      "source": [
        "opt = optim.SGD(net_lstm.parameters(),lr=0.005, momentum=0.9)\n",
        "criterion = nn.NLLLoss()\n",
        "train(net_lstm,opt,criterion, 256)"
      ],
      "execution_count": 59,
      "outputs": [
        {
          "output_type": "execute_result",
          "data": {
            "text/plain": [
              "tensor(2.6087, grad_fn=<DivBackward0>)"
            ]
          },
          "metadata": {
            "tags": []
          },
          "execution_count": 59
        }
      ]
    },
    {
      "cell_type": "code",
      "metadata": {
        "id": "HdB3jlS8xYXT",
        "colab_type": "code",
        "colab": {
          "base_uri": "https://localhost:8080/",
          "height": 34
        },
        "outputId": "03cb93dc-dcfc-435b-cf37-428af6989eea"
      },
      "source": [
        "evaluate(net_lstm,1000, X_train, Y_train)"
      ],
      "execution_count": 60,
      "outputs": [
        {
          "output_type": "execute_result",
          "data": {
            "text/plain": [
              "45.5"
            ]
          },
          "metadata": {
            "tags": []
          },
          "execution_count": 60
        }
      ]
    },
    {
      "cell_type": "code",
      "metadata": {
        "id": "agQo-qUKxyn7",
        "colab_type": "code",
        "colab": {
          "base_uri": "https://localhost:8080/",
          "height": 34
        },
        "outputId": "80f62faa-13ee-4d2b-85ee-3ad444243da3"
      },
      "source": [
        "evaluate(net_lstm,1000, X_test, Y_test)"
      ],
      "execution_count": 61,
      "outputs": [
        {
          "output_type": "execute_result",
          "data": {
            "text/plain": [
              "44.800000000000004"
            ]
          },
          "metadata": {
            "tags": []
          },
          "execution_count": 61
        }
      ]
    },
    {
      "cell_type": "markdown",
      "metadata": {
        "id": "dezYhCWJyLCL",
        "colab_type": "text"
      },
      "source": [
        "# Training Setup"
      ]
    },
    {
      "cell_type": "code",
      "metadata": {
        "id": "yQydHQ83yJiK",
        "colab_type": "code",
        "colab": {}
      },
      "source": [
        "def training_setup(net, batch_size=2, n_batches=100, lr=0.001, momentum=0.9,display_freq=5):\n",
        "\n",
        "  opt = optim.SGD(net.parameters(),lr=lr,momentum=momentum)\n",
        "  criterion = nn.NLLLoss()\n",
        "\n",
        "  loss_arr_avg = np.zeros(n_batches+1)\n",
        "\n",
        "  for i in range(n_batches):\n",
        "    loss = train(net, opt, criterion, batch_size) \n",
        "    loss_arr_avg[i+1] = (loss_arr_avg[i]*i + loss)/(i+1)\n",
        "\n",
        "    if i%display_freq==0:\n",
        "      clear_output(wait=True)\n",
        "      plt.figure()\n",
        "      plt.plot(loss_arr_avg[1:i],\"r-\")\n",
        "      plt.xlabel(\"Iteration\")\n",
        "      plt.ylabel(\"Loss\")\n",
        "      plt.show()\n",
        "      print(\"\\n\\n\")  "
      ],
      "execution_count": 0,
      "outputs": []
    },
    {
      "cell_type": "code",
      "metadata": {
        "id": "KXCauCGm31C-",
        "colab_type": "code",
        "colab": {
          "base_uri": "https://localhost:8080/",
          "height": 330
        },
        "outputId": "6c0d6b8e-9298-47ff-b570-091ffd299695"
      },
      "source": [
        "n_hidden = 128\n",
        "net_lstm = LSTM_net(n_letters, n_hidden, n_languages)\n",
        "training_setup(net_lstm, 256, 100, lr=0.005)"
      ],
      "execution_count": 82,
      "outputs": [
        {
          "output_type": "display_data",
          "data": {
            "image/png": "[encoded data removed]",
            "text/plain": [
              "<Figure size 432x288 with 1 Axes>"
            ]
          },
          "metadata": {
            "tags": [],
            "needs_background": "light"
          }
        },
        {
          "output_type": "stream",
          "text": [
            "\n",
            "\n",
            "\n"
          ],
          "name": "stdout"
        }
      ]
    },
    {
      "cell_type": "code",
      "metadata": {
        "id": "RNzu_v878m0_",
        "colab_type": "code",
        "colab": {
          "base_uri": "https://localhost:8080/",
          "height": 330
        },
        "outputId": "5965f3d1-5845-4858-880b-aaed4c67f634"
      },
      "source": [
        "n_hidden = 256\n",
        "net_lstm = LSTM_net(n_letters, n_hidden, n_languages)\n",
        "training_setup(net_lstm, 256, 100, lr=0.005)"
      ],
      "execution_count": 85,
      "outputs": [
        {
          "output_type": "display_data",
          "data": {
            "image/png": "[encoded data removed]",
            "text/plain": [
              "<Figure size 432x288 with 1 Axes>"
            ]
          },
          "metadata": {
            "tags": [],
            "needs_background": "light"
          }
        },
        {
          "output_type": "stream",
          "text": [
            "\n",
            "\n",
            "\n"
          ],
          "name": "stdout"
        }
      ]
    },
    {
      "cell_type": "code",
      "metadata": {
        "id": "R6PvWf0a9ifR",
        "colab_type": "code",
        "colab": {
          "base_uri": "https://localhost:8080/",
          "height": 330
        },
        "outputId": "26a308f6-ab6c-4fcd-f1ae-79212faed411"
      },
      "source": [
        "n_hidden = 128\n",
        "net_lstm = LSTM_net(n_letters, n_hidden, n_languages)\n",
        "training_setup(net_lstm, 256, 100, lr=0.01)"
      ],
      "execution_count": 88,
      "outputs": [
        {
          "output_type": "display_data",
          "data": {
            "image/png": "[encoded data removed]",
            "text/plain": [
              "<Figure size 432x288 with 1 Axes>"
            ]
          },
          "metadata": {
            "tags": [],
            "needs_background": "light"
          }
        },
        {
          "output_type": "stream",
          "text": [
            "\n",
            "\n",
            "\n"
          ],
          "name": "stdout"
        }
      ]
    },
    {
      "cell_type": "code",
      "metadata": {
        "id": "hPEU6Og0-FQk",
        "colab_type": "code",
        "colab": {
          "base_uri": "https://localhost:8080/",
          "height": 332
        },
        "outputId": "a92dddbf-3101-4383-9592-6bf67a3ef18c"
      },
      "source": [
        "n_hidden = 128\n",
        "net_lstm = LSTM_net(n_letters, n_hidden, n_languages)\n",
        "training_setup(net_lstm, 256, 1000, lr=0.005)"
      ],
      "execution_count": 94,
      "outputs": [
        {
          "output_type": "display_data",
          "data": {
            "image/png": "[encoded data removed]",
            "text/plain": [
              "<Figure size 432x288 with 1 Axes>"
            ]
          },
          "metadata": {
            "tags": [],
            "needs_background": "light"
          }
        },
        {
          "output_type": "stream",
          "text": [
            "\n",
            "\n",
            "\n"
          ],
          "name": "stdout"
        }
      ]
    },
    {
      "cell_type": "code",
      "metadata": {
        "id": "Y_3F73qX34io",
        "colab_type": "code",
        "colab": {
          "base_uri": "https://localhost:8080/",
          "height": 34
        },
        "outputId": "e6a2dc60-5136-49d4-dc08-f238e79ac0a8"
      },
      "source": [
        "evaluate(net_lstm, 1000, X_train, Y_train)"
      ],
      "execution_count": 101,
      "outputs": [
        {
          "output_type": "execute_result",
          "data": {
            "text/plain": [
              "91.5"
            ]
          },
          "metadata": {
            "tags": []
          },
          "execution_count": 101
        }
      ]
    },
    {
      "cell_type": "code",
      "metadata": {
        "id": "hM5RLTiA4d-6",
        "colab_type": "code",
        "colab": {
          "base_uri": "https://localhost:8080/",
          "height": 34
        },
        "outputId": "8641fd2a-0301-4501-da1e-da368d43dcf0"
      },
      "source": [
        "evaluate(net_lstm, 1000, X_test, Y_test)"
      ],
      "execution_count": 100,
      "outputs": [
        {
          "output_type": "execute_result",
          "data": {
            "text/plain": [
              "80.2"
            ]
          },
          "metadata": {
            "tags": []
          },
          "execution_count": 100
        }
      ]
    },
    {
      "cell_type": "code",
      "metadata": {
        "id": "NajC_SdB4hNb",
        "colab_type": "code",
        "colab": {}
      },
      "source": [
        ""
      ],
      "execution_count": 0,
      "outputs": []
    }
  ]
}