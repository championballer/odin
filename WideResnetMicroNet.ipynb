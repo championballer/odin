{
  "nbformat": 4,
  "nbformat_minor": 0,
  "metadata": {
    "colab": {
      "name": "WideResnet2.ipynb",
      "provenance": []
    },
    "kernelspec": {
      "name": "python3",
      "display_name": "Python 3"
    },
    "accelerator": "GPU"
  },
  "cells": [
    {
      "cell_type": "code",
      "metadata": {
        "id": "lR884J0vB7gq",
        "colab_type": "code",
        "colab": {}
      },
      "source": [
        "import pdb\n",
        "import argparse\n",
        "import numpy as np\n",
        "from tqdm import tqdm\n",
        "import math\n",
        "\n",
        "import torch\n",
        "import torch.nn as nn\n",
        "import torch.nn.functional as F\n",
        "from torch.autograd import Variable\n",
        "import torch.backends.cudnn as cudnn\n",
        "from torch.optim.lr_scheduler import MultiStepLR\n",
        "\n",
        "import torchvision\n",
        "import torchvision.transforms as transforms\n",
        "from torchvision.utils import make_grid\n",
        "from torchvision import datasets, transforms"
      ],
      "execution_count": 0,
      "outputs": []
    },
    {
      "cell_type": "code",
      "metadata": {
        "id": "tJZXJtNWCBjG",
        "colab_type": "code",
        "colab": {}
      },
      "source": [
        "from google.colab import drive\n",
        "drive.mount('/content/gdrive')"
      ],
      "execution_count": 0,
      "outputs": []
    },
    {
      "cell_type": "code",
      "metadata": {
        "id": "JgMp34avCEhW",
        "colab_type": "code",
        "colab": {}
      },
      "source": [
        "class Cutout(object):\n",
        "    \"\"\"Randomly mask out one or more patches from an image.\n",
        "\n",
        "    Args:\n",
        "        n_holes (int): Number of patches to cut out of each image.\n",
        "        length (int): The length (in pixels) of each square patch.\n",
        "    \"\"\"\n",
        "    def __init__(self, n_holes, length):\n",
        "        self.n_holes = n_holes\n",
        "        self.length = length\n",
        "\n",
        "    def __call__(self, img):\n",
        "        \"\"\"\n",
        "        Args:\n",
        "            img (Tensor): Tensor image of size (C, H, W).\n",
        "        Returns:\n",
        "            Tensor: Image with n_holes of dimension length x length cut out of it.\n",
        "        \"\"\"\n",
        "        h = img.size(1)\n",
        "        w = img.size(2)\n",
        "\n",
        "        mask = np.ones((h, w), np.float32)\n",
        "\n",
        "        for n in range(self.n_holes):\n",
        "            y = np.random.randint(h)\n",
        "            x = np.random.randint(w)\n",
        "\n",
        "            y1 = np.clip(y - self.length // 2, 0, h)\n",
        "            y2 = np.clip(y + self.length // 2, 0, h)\n",
        "            x1 = np.clip(x - self.length // 2, 0, w)\n",
        "            x2 = np.clip(x + self.length // 2, 0, w)\n",
        "\n",
        "            mask[y1: y2, x1: x2] = 0.\n",
        "\n",
        "        mask = torch.from_numpy(mask)\n",
        "        mask = mask.expand_as(img)\n",
        "        img = img * mask\n",
        "\n",
        "        return img\n"
      ],
      "execution_count": 0,
      "outputs": []
    },
    {
      "cell_type": "code",
      "metadata": {
        "id": "v4Nx3En1CcrH",
        "colab_type": "code",
        "colab": {}
      },
      "source": [
        "class BasicBlock(nn.Module):\n",
        "    def __init__(self, in_planes, out_planes, stride, dropRate=0.0):\n",
        "        super(BasicBlock, self).__init__()\n",
        "        self.bn1 = nn.BatchNorm2d(in_planes)\n",
        "        self.relu1 = nn.ReLU(inplace=True)\n",
        "        self.conv1 = nn.Conv2d(in_planes, out_planes, kernel_size=3, stride=stride,\n",
        "                               padding=1, bias=False)\n",
        "        self.bn2 = nn.BatchNorm2d(out_planes)\n",
        "        self.relu2 = nn.ReLU(inplace=True)\n",
        "        self.conv2 = nn.Conv2d(out_planes, out_planes, kernel_size=3, stride=1,\n",
        "                               padding=1, bias=False)\n",
        "        self.droprate = dropRate\n",
        "        self.equalInOut = (in_planes == out_planes)\n",
        "        self.convShortcut = (not self.equalInOut) and nn.Conv2d(in_planes, out_planes, kernel_size=1, stride=stride,\n",
        "                               padding=0, bias=False) or None\n",
        "    def forward(self, x):\n",
        "        if not self.equalInOut:\n",
        "            x = self.relu1(self.bn1(x))\n",
        "        else:\n",
        "            out = self.relu1(self.bn1(x))\n",
        "        out = self.relu2(self.bn2(self.conv1(out if self.equalInOut else x)))\n",
        "        if self.droprate > 0:\n",
        "            out = F.dropout(out, p=self.droprate, training=self.training)\n",
        "        out = self.conv2(out)\n",
        "        return torch.add(x if self.equalInOut else self.convShortcut(x), out)\n",
        "\n",
        "class NetworkBlock(nn.Module):\n",
        "    def __init__(self, nb_layers, in_planes, out_planes, block, stride, dropRate=0.0):\n",
        "        super(NetworkBlock, self).__init__()\n",
        "        self.layer = self._make_layer(block, in_planes, out_planes, nb_layers, stride, dropRate)\n",
        "    def _make_layer(self, block, in_planes, out_planes, nb_layers, stride, dropRate):\n",
        "        layers = []\n",
        "        for i in range(int(nb_layers)):\n",
        "            layers.append(block(i == 0 and in_planes or out_planes, out_planes, i == 0 and stride or 1, dropRate))\n",
        "        return nn.Sequential(*layers)\n",
        "    def forward(self, x):\n",
        "        return self.layer(x)\n",
        "\n",
        "class WideResNet(nn.Module):\n",
        "    def __init__(self, depth, num_classes, widen_factor=1, dropRate=0.0):\n",
        "        super(WideResNet, self).__init__()\n",
        "        nChannels = [16, 16*widen_factor, 32*widen_factor, 64*widen_factor]\n",
        "        assert((depth - 4) % 6 == 0)\n",
        "        n = (depth - 4) / 6\n",
        "        block = BasicBlock\n",
        "        # 1st conv before any network block\n",
        "        self.conv1 = nn.Conv2d(3, nChannels[0], kernel_size=3, stride=1,\n",
        "                               padding=1, bias=False)\n",
        "        # 1st block\n",
        "        self.block1 = NetworkBlock(n, nChannels[0], nChannels[1], block, 1, dropRate)\n",
        "        # 2nd block\n",
        "        self.block2 = NetworkBlock(n, nChannels[1], nChannels[2], block, 2, dropRate)\n",
        "        # 3rd block\n",
        "        self.block3 = NetworkBlock(n, nChannels[2], nChannels[3], block, 2, dropRate)\n",
        "        # global average pooling and classifier\n",
        "        self.bn1 = nn.BatchNorm2d(nChannels[3])\n",
        "        self.relu = nn.ReLU(inplace=True)\n",
        "        self.fc = nn.Linear(nChannels[3], num_classes)\n",
        "        self.nChannels = nChannels[3]\n",
        "\n",
        "        for m in self.modules():\n",
        "            if isinstance(m, nn.Conv2d):\n",
        "                n = m.kernel_size[0] * m.kernel_size[1] * m.out_channels\n",
        "                m.weight.data.normal_(0, math.sqrt(2. / n))\n",
        "            elif isinstance(m, nn.BatchNorm2d):\n",
        "                m.weight.data.fill_(1)\n",
        "                m.bias.data.zero_()\n",
        "            elif isinstance(m, nn.Linear):\n",
        "                m.bias.data.zero_()\n",
        "    def forward(self, x):\n",
        "        out = self.conv1(x)\n",
        "        out = self.block1(out)\n",
        "        out = self.block2(out)\n",
        "        out = self.block3(out)\n",
        "        out = self.relu(self.bn1(out))\n",
        "\n",
        "        out = F.avg_pool2d(out, 8)\n",
        "        out = out.view(-1, self.nChannels)\n",
        "        out = self.fc(out)\n",
        "        return out\n"
      ],
      "execution_count": 0,
      "outputs": []
    },
    {
      "cell_type": "code",
      "metadata": {
        "id": "5gt9LiapCeOM",
        "colab_type": "code",
        "colab": {}
      },
      "source": [
        "normalize = transforms.Normalize(mean=[x / 255.0 for x in [125.3, 123.0, 113.9]],\n",
        "                                     std=[x / 255.0 for x in [63.0, 62.1, 66.7]])"
      ],
      "execution_count": 0,
      "outputs": []
    },
    {
      "cell_type": "code",
      "metadata": {
        "id": "nl0tEK39CfwT",
        "colab_type": "code",
        "colab": {}
      },
      "source": [
        "train_transform = transforms.Compose([])\n",
        "train_transform.transforms.append(transforms.RandomCrop(32, padding=4))\n",
        "train_transform.transforms.append(transforms.RandomHorizontalFlip())\n",
        "train_transform.transforms.append(transforms.ToTensor())\n",
        "train_transform.transforms.append(normalize)\n",
        "train_transform.transforms.append(Cutout(n_holes=1, length=16))"
      ],
      "execution_count": 0,
      "outputs": []
    },
    {
      "cell_type": "code",
      "metadata": {
        "id": "zX05fcMSChA4",
        "colab_type": "code",
        "colab": {}
      },
      "source": [
        "test_transform = transforms.Compose([\n",
        "    transforms.ToTensor(),\n",
        "    normalize])"
      ],
      "execution_count": 0,
      "outputs": []
    },
    {
      "cell_type": "code",
      "metadata": {
        "id": "XxxCTj80Ciji",
        "colab_type": "code",
        "colab": {
          "base_uri": "https://localhost:8080/",
          "height": 34
        },
        "outputId": "3a1d84cd-c8ae-49e4-f395-b9ccc1f4e90a"
      },
      "source": [
        "trainset = torchvision.datasets.CIFAR100(root='./data',train=True,download=True,transform=train_transform)"
      ],
      "execution_count": 8,
      "outputs": [
        {
          "output_type": "stream",
          "text": [
            "Files already downloaded and verified\n"
          ],
          "name": "stdout"
        }
      ]
    },
    {
      "cell_type": "code",
      "metadata": {
        "id": "Xs5EaHleCj5R",
        "colab_type": "code",
        "colab": {}
      },
      "source": [
        "trainLoader = torch.utils.data.DataLoader(trainset, batch_size=128, shuffle=True,num_workers=2,pin_memory=True)"
      ],
      "execution_count": 0,
      "outputs": []
    },
    {
      "cell_type": "code",
      "metadata": {
        "id": "4PR0yu6gClwo",
        "colab_type": "code",
        "colab": {
          "base_uri": "https://localhost:8080/",
          "height": 34
        },
        "outputId": "591eb85d-c889-4f1a-a8ac-963b284ef13b"
      },
      "source": [
        "testset = torchvision.datasets.CIFAR100(root='./data',train=False,download=True,transform = test_transform)"
      ],
      "execution_count": 10,
      "outputs": [
        {
          "output_type": "stream",
          "text": [
            "Files already downloaded and verified\n"
          ],
          "name": "stdout"
        }
      ]
    },
    {
      "cell_type": "code",
      "metadata": {
        "id": "5AnPjwQQCnqm",
        "colab_type": "code",
        "colab": {}
      },
      "source": [
        "testLoader = torch.utils.data.DataLoader(testset, batch_size=64,shuffle=False,num_workers=2,pin_memory=True)"
      ],
      "execution_count": 0,
      "outputs": []
    },
    {
      "cell_type": "code",
      "metadata": {
        "id": "QeZOwfYdC541",
        "colab_type": "code",
        "colab": {}
      },
      "source": [
        "classes = tuple(trainset.classes)"
      ],
      "execution_count": 0,
      "outputs": []
    },
    {
      "cell_type": "code",
      "metadata": {
        "id": "YpZkbs0sC7Xx",
        "colab_type": "code",
        "colab": {}
      },
      "source": [
        "cnn = WideResNet(28,100)"
      ],
      "execution_count": 0,
      "outputs": []
    },
    {
      "cell_type": "code",
      "metadata": {
        "id": "JX-6l5WoDNOm",
        "colab_type": "code",
        "colab": {}
      },
      "source": [
        "path_wcuda = F\"/content/gdrive/My Drive/checkpoints/cudamodel2cifar100.pt\""
      ],
      "execution_count": 0,
      "outputs": []
    },
    {
      "cell_type": "code",
      "metadata": {
        "id": "hFm0US20DFif",
        "colab_type": "code",
        "colab": {
          "base_uri": "https://localhost:8080/",
          "height": 1000
        },
        "outputId": "1b2a6192-803b-43d7-bd0e-effba3cda059"
      },
      "source": [
        "cnn.load_state_dict(torch.load(path_wcuda))\n",
        "cnn.eval()"
      ],
      "execution_count": 15,
      "outputs": [
        {
          "output_type": "execute_result",
          "data": {
            "text/plain": [
              "WideResNet(\n",
              "  (conv1): Conv2d(3, 16, kernel_size=(3, 3), stride=(1, 1), padding=(1, 1), bias=False)\n",
              "  (block1): NetworkBlock(\n",
              "    (layer): Sequential(\n",
              "      (0): BasicBlock(\n",
              "        (bn1): BatchNorm2d(16, eps=1e-05, momentum=0.1, affine=True, track_running_stats=True)\n",
              "        (relu1): ReLU(inplace)\n",
              "        (conv1): Conv2d(16, 16, kernel_size=(3, 3), stride=(1, 1), padding=(1, 1), bias=False)\n",
              "        (bn2): BatchNorm2d(16, eps=1e-05, momentum=0.1, affine=True, track_running_stats=True)\n",
              "        (relu2): ReLU(inplace)\n",
              "        (conv2): Conv2d(16, 16, kernel_size=(3, 3), stride=(1, 1), padding=(1, 1), bias=False)\n",
              "      )\n",
              "      (1): BasicBlock(\n",
              "        (bn1): BatchNorm2d(16, eps=1e-05, momentum=0.1, affine=True, track_running_stats=True)\n",
              "        (relu1): ReLU(inplace)\n",
              "        (conv1): Conv2d(16, 16, kernel_size=(3, 3), stride=(1, 1), padding=(1, 1), bias=False)\n",
              "        (bn2): BatchNorm2d(16, eps=1e-05, momentum=0.1, affine=True, track_running_stats=True)\n",
              "        (relu2): ReLU(inplace)\n",
              "        (conv2): Conv2d(16, 16, kernel_size=(3, 3), stride=(1, 1), padding=(1, 1), bias=False)\n",
              "      )\n",
              "      (2): BasicBlock(\n",
              "        (bn1): BatchNorm2d(16, eps=1e-05, momentum=0.1, affine=True, track_running_stats=True)\n",
              "        (relu1): ReLU(inplace)\n",
              "        (conv1): Conv2d(16, 16, kernel_size=(3, 3), stride=(1, 1), padding=(1, 1), bias=False)\n",
              "        (bn2): BatchNorm2d(16, eps=1e-05, momentum=0.1, affine=True, track_running_stats=True)\n",
              "        (relu2): ReLU(inplace)\n",
              "        (conv2): Conv2d(16, 16, kernel_size=(3, 3), stride=(1, 1), padding=(1, 1), bias=False)\n",
              "      )\n",
              "      (3): BasicBlock(\n",
              "        (bn1): BatchNorm2d(16, eps=1e-05, momentum=0.1, affine=True, track_running_stats=True)\n",
              "        (relu1): ReLU(inplace)\n",
              "        (conv1): Conv2d(16, 16, kernel_size=(3, 3), stride=(1, 1), padding=(1, 1), bias=False)\n",
              "        (bn2): BatchNorm2d(16, eps=1e-05, momentum=0.1, affine=True, track_running_stats=True)\n",
              "        (relu2): ReLU(inplace)\n",
              "        (conv2): Conv2d(16, 16, kernel_size=(3, 3), stride=(1, 1), padding=(1, 1), bias=False)\n",
              "      )\n",
              "    )\n",
              "  )\n",
              "  (block2): NetworkBlock(\n",
              "    (layer): Sequential(\n",
              "      (0): BasicBlock(\n",
              "        (bn1): BatchNorm2d(16, eps=1e-05, momentum=0.1, affine=True, track_running_stats=True)\n",
              "        (relu1): ReLU(inplace)\n",
              "        (conv1): Conv2d(16, 32, kernel_size=(3, 3), stride=(2, 2), padding=(1, 1), bias=False)\n",
              "        (bn2): BatchNorm2d(32, eps=1e-05, momentum=0.1, affine=True, track_running_stats=True)\n",
              "        (relu2): ReLU(inplace)\n",
              "        (conv2): Conv2d(32, 32, kernel_size=(3, 3), stride=(1, 1), padding=(1, 1), bias=False)\n",
              "        (convShortcut): Conv2d(16, 32, kernel_size=(1, 1), stride=(2, 2), bias=False)\n",
              "      )\n",
              "      (1): BasicBlock(\n",
              "        (bn1): BatchNorm2d(32, eps=1e-05, momentum=0.1, affine=True, track_running_stats=True)\n",
              "        (relu1): ReLU(inplace)\n",
              "        (conv1): Conv2d(32, 32, kernel_size=(3, 3), stride=(1, 1), padding=(1, 1), bias=False)\n",
              "        (bn2): BatchNorm2d(32, eps=1e-05, momentum=0.1, affine=True, track_running_stats=True)\n",
              "        (relu2): ReLU(inplace)\n",
              "        (conv2): Conv2d(32, 32, kernel_size=(3, 3), stride=(1, 1), padding=(1, 1), bias=False)\n",
              "      )\n",
              "      (2): BasicBlock(\n",
              "        (bn1): BatchNorm2d(32, eps=1e-05, momentum=0.1, affine=True, track_running_stats=True)\n",
              "        (relu1): ReLU(inplace)\n",
              "        (conv1): Conv2d(32, 32, kernel_size=(3, 3), stride=(1, 1), padding=(1, 1), bias=False)\n",
              "        (bn2): BatchNorm2d(32, eps=1e-05, momentum=0.1, affine=True, track_running_stats=True)\n",
              "        (relu2): ReLU(inplace)\n",
              "        (conv2): Conv2d(32, 32, kernel_size=(3, 3), stride=(1, 1), padding=(1, 1), bias=False)\n",
              "      )\n",
              "      (3): BasicBlock(\n",
              "        (bn1): BatchNorm2d(32, eps=1e-05, momentum=0.1, affine=True, track_running_stats=True)\n",
              "        (relu1): ReLU(inplace)\n",
              "        (conv1): Conv2d(32, 32, kernel_size=(3, 3), stride=(1, 1), padding=(1, 1), bias=False)\n",
              "        (bn2): BatchNorm2d(32, eps=1e-05, momentum=0.1, affine=True, track_running_stats=True)\n",
              "        (relu2): ReLU(inplace)\n",
              "        (conv2): Conv2d(32, 32, kernel_size=(3, 3), stride=(1, 1), padding=(1, 1), bias=False)\n",
              "      )\n",
              "    )\n",
              "  )\n",
              "  (block3): NetworkBlock(\n",
              "    (layer): Sequential(\n",
              "      (0): BasicBlock(\n",
              "        (bn1): BatchNorm2d(32, eps=1e-05, momentum=0.1, affine=True, track_running_stats=True)\n",
              "        (relu1): ReLU(inplace)\n",
              "        (conv1): Conv2d(32, 64, kernel_size=(3, 3), stride=(2, 2), padding=(1, 1), bias=False)\n",
              "        (bn2): BatchNorm2d(64, eps=1e-05, momentum=0.1, affine=True, track_running_stats=True)\n",
              "        (relu2): ReLU(inplace)\n",
              "        (conv2): Conv2d(64, 64, kernel_size=(3, 3), stride=(1, 1), padding=(1, 1), bias=False)\n",
              "        (convShortcut): Conv2d(32, 64, kernel_size=(1, 1), stride=(2, 2), bias=False)\n",
              "      )\n",
              "      (1): BasicBlock(\n",
              "        (bn1): BatchNorm2d(64, eps=1e-05, momentum=0.1, affine=True, track_running_stats=True)\n",
              "        (relu1): ReLU(inplace)\n",
              "        (conv1): Conv2d(64, 64, kernel_size=(3, 3), stride=(1, 1), padding=(1, 1), bias=False)\n",
              "        (bn2): BatchNorm2d(64, eps=1e-05, momentum=0.1, affine=True, track_running_stats=True)\n",
              "        (relu2): ReLU(inplace)\n",
              "        (conv2): Conv2d(64, 64, kernel_size=(3, 3), stride=(1, 1), padding=(1, 1), bias=False)\n",
              "      )\n",
              "      (2): BasicBlock(\n",
              "        (bn1): BatchNorm2d(64, eps=1e-05, momentum=0.1, affine=True, track_running_stats=True)\n",
              "        (relu1): ReLU(inplace)\n",
              "        (conv1): Conv2d(64, 64, kernel_size=(3, 3), stride=(1, 1), padding=(1, 1), bias=False)\n",
              "        (bn2): BatchNorm2d(64, eps=1e-05, momentum=0.1, affine=True, track_running_stats=True)\n",
              "        (relu2): ReLU(inplace)\n",
              "        (conv2): Conv2d(64, 64, kernel_size=(3, 3), stride=(1, 1), padding=(1, 1), bias=False)\n",
              "      )\n",
              "      (3): BasicBlock(\n",
              "        (bn1): BatchNorm2d(64, eps=1e-05, momentum=0.1, affine=True, track_running_stats=True)\n",
              "        (relu1): ReLU(inplace)\n",
              "        (conv1): Conv2d(64, 64, kernel_size=(3, 3), stride=(1, 1), padding=(1, 1), bias=False)\n",
              "        (bn2): BatchNorm2d(64, eps=1e-05, momentum=0.1, affine=True, track_running_stats=True)\n",
              "        (relu2): ReLU(inplace)\n",
              "        (conv2): Conv2d(64, 64, kernel_size=(3, 3), stride=(1, 1), padding=(1, 1), bias=False)\n",
              "      )\n",
              "    )\n",
              "  )\n",
              "  (bn1): BatchNorm2d(64, eps=1e-05, momentum=0.1, affine=True, track_running_stats=True)\n",
              "  (relu): ReLU(inplace)\n",
              "  (fc): Linear(in_features=64, out_features=100, bias=True)\n",
              ")"
            ]
          },
          "metadata": {
            "tags": []
          },
          "execution_count": 15
        }
      ]
    },
    {
      "cell_type": "code",
      "metadata": {
        "id": "hZg8-eM6D-C7",
        "colab_type": "code",
        "colab": {}
      },
      "source": [
        "import torch.optim as optim\n",
        "cnn = cnn.cuda()\n",
        "criterion = nn.CrossEntropyLoss().cuda()\n",
        "cnn_optimizer = torch.optim.SGD(cnn.parameters(), lr=0.1,\n",
        "                                momentum=0.9, nesterov=True, weight_decay=5e-4)"
      ],
      "execution_count": 0,
      "outputs": []
    },
    {
      "cell_type": "code",
      "metadata": {
        "id": "NeeHxKulDe5Q",
        "colab_type": "code",
        "colab": {}
      },
      "source": [
        "def test(loader):\n",
        "    cnn.eval()    # Change model to 'eval' mode (BN uses moving mean/var).\n",
        "    correct = 0.\n",
        "    total = 0.\n",
        "    for images, labels in loader:\n",
        "        images = images.cuda()\n",
        "        labels = labels.cuda()\n",
        "\n",
        "        with torch.no_grad():\n",
        "            pred = cnn(images)\n",
        "\n",
        "        pred = torch.max(pred.data, 1)[1]\n",
        "        total += labels.size(0)\n",
        "        correct += (pred == labels).sum().item()\n",
        "\n",
        "    val_acc = correct / total\n",
        "    cnn.train()\n",
        "    return val_acc"
      ],
      "execution_count": 0,
      "outputs": []
    },
    {
      "cell_type": "code",
      "metadata": {
        "id": "Pa-P9G9rDwqL",
        "colab_type": "code",
        "colab": {
          "base_uri": "https://localhost:8080/",
          "height": 34
        },
        "outputId": "06477b17-9dec-40b0-96e9-e572d5587a1d"
      },
      "source": [
        "test_acc = test(testLoader)\n",
        "print(test_acc)"
      ],
      "execution_count": 18,
      "outputs": [
        {
          "output_type": "stream",
          "text": [
            "0.7014\n"
          ],
          "name": "stdout"
        }
      ]
    },
    {
      "cell_type": "code",
      "metadata": {
        "id": "vwmlx-xZD1Eh",
        "colab_type": "code",
        "colab": {}
      },
      "source": [
        "def train(sepoch, eepoch, lr):\n",
        "  for param_group in cnn_optimizer.param_groups:\n",
        "        param_group['lr'] = lr\n",
        "\n",
        "  for epoch in range(sepoch,eepoch):\n",
        "\n",
        "    xentropy_loss_avg = 0.\n",
        "    correct = 0.\n",
        "    total = 0.\n",
        "\n",
        "    progress_bar = tqdm(trainLoader)\n",
        "    for i, (images, labels) in enumerate(progress_bar):\n",
        "        progress_bar.set_description('Epoch ' + str(epoch))\n",
        "\n",
        "        images = images.cuda()\n",
        "        labels = labels.cuda()\n",
        "\n",
        "        cnn.zero_grad()\n",
        "        pred = cnn(images)\n",
        "\n",
        "        xentropy_loss = criterion(pred, labels)\n",
        "        xentropy_loss.backward()\n",
        "        cnn_optimizer.step()\n",
        "\n",
        "        xentropy_loss_avg += xentropy_loss.item()\n",
        "\n",
        "        # Calculate running average of accuracy\n",
        "        pred = torch.max(pred.data, 1)[1]\n",
        "        total += labels.size(0)\n",
        "        correct += (pred == labels.data).sum().item()\n",
        "        accuracy = correct / total\n",
        "\n",
        "        progress_bar.set_postfix(\n",
        "            xentropy='%.3f' % (xentropy_loss_avg / (i + 1)),\n",
        "            acc='%.3f' % accuracy)\n",
        "\n",
        "    test_acc = test(testLoader)\n",
        "    tqdm.write('test_acc: %.3f' % (test_acc))"
      ],
      "execution_count": 0,
      "outputs": []
    },
    {
      "cell_type": "code",
      "metadata": {
        "id": "02H6z1o1EKtH",
        "colab_type": "code",
        "colab": {
          "base_uri": "https://localhost:8080/",
          "height": 1000
        },
        "outputId": "496c7ff7-d55c-4a99-b211-a100b3c033c3"
      },
      "source": [
        "train(0,50,0.001)"
      ],
      "execution_count": 35,
      "outputs": [
        {
          "output_type": "stream",
          "text": [
            "Epoch 0: 100%|██████████| 391/391 [00:23<00:00, 16.32it/s, acc=0.798, xentropy=0.677]\n",
            "  0%|          | 0/391 [00:00<?, ?it/s]"
          ],
          "name": "stderr"
        },
        {
          "output_type": "stream",
          "text": [
            "test_acc: 0.697\n"
          ],
          "name": "stdout"
        },
        {
          "output_type": "stream",
          "text": [
            "Epoch 1: 100%|██████████| 391/391 [00:23<00:00, 16.42it/s, acc=0.799, xentropy=0.680]\n",
            "  0%|          | 0/391 [00:00<?, ?it/s]"
          ],
          "name": "stderr"
        },
        {
          "output_type": "stream",
          "text": [
            "test_acc: 0.698\n"
          ],
          "name": "stdout"
        },
        {
          "output_type": "stream",
          "text": [
            "Epoch 2: 100%|██████████| 391/391 [00:24<00:00, 16.17it/s, acc=0.799, xentropy=0.682]\n",
            "  0%|          | 0/391 [00:00<?, ?it/s]"
          ],
          "name": "stderr"
        },
        {
          "output_type": "stream",
          "text": [
            "test_acc: 0.695\n"
          ],
          "name": "stdout"
        },
        {
          "output_type": "stream",
          "text": [
            "Epoch 3: 100%|██████████| 391/391 [00:24<00:00, 16.22it/s, acc=0.798, xentropy=0.682]\n",
            "  0%|          | 0/391 [00:00<?, ?it/s]"
          ],
          "name": "stderr"
        },
        {
          "output_type": "stream",
          "text": [
            "test_acc: 0.694\n"
          ],
          "name": "stdout"
        },
        {
          "output_type": "stream",
          "text": [
            "Epoch 4: 100%|██████████| 391/391 [00:24<00:00, 16.15it/s, acc=0.799, xentropy=0.680]\n",
            "  0%|          | 0/391 [00:00<?, ?it/s]"
          ],
          "name": "stderr"
        },
        {
          "output_type": "stream",
          "text": [
            "test_acc: 0.693\n"
          ],
          "name": "stdout"
        },
        {
          "output_type": "stream",
          "text": [
            "Epoch 5: 100%|██████████| 391/391 [00:23<00:00, 16.31it/s, acc=0.798, xentropy=0.680]\n",
            "  0%|          | 0/391 [00:00<?, ?it/s]"
          ],
          "name": "stderr"
        },
        {
          "output_type": "stream",
          "text": [
            "test_acc: 0.699\n"
          ],
          "name": "stdout"
        },
        {
          "output_type": "stream",
          "text": [
            "Epoch 6: 100%|██████████| 391/391 [00:23<00:00, 16.36it/s, acc=0.799, xentropy=0.682]\n",
            "  0%|          | 0/391 [00:00<?, ?it/s]"
          ],
          "name": "stderr"
        },
        {
          "output_type": "stream",
          "text": [
            "test_acc: 0.703\n"
          ],
          "name": "stdout"
        },
        {
          "output_type": "stream",
          "text": [
            "Epoch 7: 100%|██████████| 391/391 [00:23<00:00, 16.48it/s, acc=0.797, xentropy=0.682]\n",
            "  0%|          | 0/391 [00:00<?, ?it/s]"
          ],
          "name": "stderr"
        },
        {
          "output_type": "stream",
          "text": [
            "test_acc: 0.698\n"
          ],
          "name": "stdout"
        },
        {
          "output_type": "stream",
          "text": [
            "Epoch 8: 100%|██████████| 391/391 [00:24<00:00, 16.22it/s, acc=0.796, xentropy=0.685]\n",
            "  0%|          | 0/391 [00:00<?, ?it/s]"
          ],
          "name": "stderr"
        },
        {
          "output_type": "stream",
          "text": [
            "test_acc: 0.700\n"
          ],
          "name": "stdout"
        },
        {
          "output_type": "stream",
          "text": [
            "Epoch 9: 100%|██████████| 391/391 [00:24<00:00, 16.01it/s, acc=0.797, xentropy=0.686]\n",
            "  0%|          | 0/391 [00:00<?, ?it/s]"
          ],
          "name": "stderr"
        },
        {
          "output_type": "stream",
          "text": [
            "test_acc: 0.704\n"
          ],
          "name": "stdout"
        },
        {
          "output_type": "stream",
          "text": [
            "Epoch 10: 100%|██████████| 391/391 [00:24<00:00, 16.18it/s, acc=0.798, xentropy=0.679]\n",
            "  0%|          | 0/391 [00:00<?, ?it/s]"
          ],
          "name": "stderr"
        },
        {
          "output_type": "stream",
          "text": [
            "test_acc: 0.695\n"
          ],
          "name": "stdout"
        },
        {
          "output_type": "stream",
          "text": [
            "Epoch 11: 100%|██████████| 391/391 [00:24<00:00, 16.26it/s, acc=0.796, xentropy=0.686]\n",
            "  0%|          | 0/391 [00:00<?, ?it/s]"
          ],
          "name": "stderr"
        },
        {
          "output_type": "stream",
          "text": [
            "test_acc: 0.704\n"
          ],
          "name": "stdout"
        },
        {
          "output_type": "stream",
          "text": [
            "Epoch 12: 100%|██████████| 391/391 [00:24<00:00, 16.29it/s, acc=0.798, xentropy=0.682]\n",
            "  0%|          | 0/391 [00:00<?, ?it/s]"
          ],
          "name": "stderr"
        },
        {
          "output_type": "stream",
          "text": [
            "test_acc: 0.690\n"
          ],
          "name": "stdout"
        },
        {
          "output_type": "stream",
          "text": [
            "Epoch 13: 100%|██████████| 391/391 [00:23<00:00, 16.65it/s, acc=0.797, xentropy=0.686]\n",
            "  0%|          | 0/391 [00:00<?, ?it/s]"
          ],
          "name": "stderr"
        },
        {
          "output_type": "stream",
          "text": [
            "test_acc: 0.697\n"
          ],
          "name": "stdout"
        },
        {
          "output_type": "stream",
          "text": [
            "Epoch 14: 100%|██████████| 391/391 [00:24<00:00, 16.25it/s, acc=0.796, xentropy=0.680]\n",
            "  0%|          | 0/391 [00:00<?, ?it/s]"
          ],
          "name": "stderr"
        },
        {
          "output_type": "stream",
          "text": [
            "test_acc: 0.694\n"
          ],
          "name": "stdout"
        },
        {
          "output_type": "stream",
          "text": [
            "Epoch 15: 100%|██████████| 391/391 [00:24<00:00, 16.07it/s, acc=0.799, xentropy=0.679]\n",
            "  0%|          | 0/391 [00:00<?, ?it/s]"
          ],
          "name": "stderr"
        },
        {
          "output_type": "stream",
          "text": [
            "test_acc: 0.698\n"
          ],
          "name": "stdout"
        },
        {
          "output_type": "stream",
          "text": [
            "Epoch 16: 100%|██████████| 391/391 [00:24<00:00, 16.15it/s, acc=0.796, xentropy=0.683]\n",
            "  0%|          | 0/391 [00:00<?, ?it/s]"
          ],
          "name": "stderr"
        },
        {
          "output_type": "stream",
          "text": [
            "test_acc: 0.697\n"
          ],
          "name": "stdout"
        },
        {
          "output_type": "stream",
          "text": [
            "Epoch 17: 100%|██████████| 391/391 [00:24<00:00, 16.20it/s, acc=0.799, xentropy=0.680]\n",
            "  0%|          | 0/391 [00:00<?, ?it/s]"
          ],
          "name": "stderr"
        },
        {
          "output_type": "stream",
          "text": [
            "test_acc: 0.703\n"
          ],
          "name": "stdout"
        },
        {
          "output_type": "stream",
          "text": [
            "Epoch 18: 100%|██████████| 391/391 [00:24<00:00, 16.06it/s, acc=0.797, xentropy=0.679]\n",
            "  0%|          | 0/391 [00:00<?, ?it/s]"
          ],
          "name": "stderr"
        },
        {
          "output_type": "stream",
          "text": [
            "test_acc: 0.702\n"
          ],
          "name": "stdout"
        },
        {
          "output_type": "stream",
          "text": [
            "Epoch 19: 100%|██████████| 391/391 [00:23<00:00, 16.31it/s, acc=0.798, xentropy=0.681]\n",
            "  0%|          | 0/391 [00:00<?, ?it/s]"
          ],
          "name": "stderr"
        },
        {
          "output_type": "stream",
          "text": [
            "test_acc: 0.697\n"
          ],
          "name": "stdout"
        },
        {
          "output_type": "stream",
          "text": [
            "Epoch 20: 100%|██████████| 391/391 [00:23<00:00, 16.42it/s, acc=0.797, xentropy=0.683]\n",
            "  0%|          | 0/391 [00:00<?, ?it/s]"
          ],
          "name": "stderr"
        },
        {
          "output_type": "stream",
          "text": [
            "test_acc: 0.704\n"
          ],
          "name": "stdout"
        },
        {
          "output_type": "stream",
          "text": [
            "Epoch 21: 100%|██████████| 391/391 [00:24<00:00, 16.20it/s, acc=0.798, xentropy=0.678]\n",
            "  0%|          | 0/391 [00:00<?, ?it/s]"
          ],
          "name": "stderr"
        },
        {
          "output_type": "stream",
          "text": [
            "test_acc: 0.702\n"
          ],
          "name": "stdout"
        },
        {
          "output_type": "stream",
          "text": [
            "Epoch 22: 100%|██████████| 391/391 [00:23<00:00, 16.48it/s, acc=0.798, xentropy=0.683]\n",
            "  0%|          | 0/391 [00:00<?, ?it/s]"
          ],
          "name": "stderr"
        },
        {
          "output_type": "stream",
          "text": [
            "test_acc: 0.699\n"
          ],
          "name": "stdout"
        },
        {
          "output_type": "stream",
          "text": [
            "Epoch 23: 100%|██████████| 391/391 [00:24<00:00, 16.19it/s, acc=0.799, xentropy=0.681]\n",
            "  0%|          | 0/391 [00:00<?, ?it/s]"
          ],
          "name": "stderr"
        },
        {
          "output_type": "stream",
          "text": [
            "test_acc: 0.692\n"
          ],
          "name": "stdout"
        },
        {
          "output_type": "stream",
          "text": [
            "Epoch 24: 100%|██████████| 391/391 [00:24<00:00, 16.27it/s, acc=0.796, xentropy=0.684]\n",
            "  0%|          | 0/391 [00:00<?, ?it/s]"
          ],
          "name": "stderr"
        },
        {
          "output_type": "stream",
          "text": [
            "test_acc: 0.692\n"
          ],
          "name": "stdout"
        },
        {
          "output_type": "stream",
          "text": [
            "Epoch 25: 100%|██████████| 391/391 [00:24<00:00, 16.24it/s, acc=0.797, xentropy=0.684]\n",
            "  0%|          | 0/391 [00:00<?, ?it/s]"
          ],
          "name": "stderr"
        },
        {
          "output_type": "stream",
          "text": [
            "test_acc: 0.695\n"
          ],
          "name": "stdout"
        },
        {
          "output_type": "stream",
          "text": [
            "Epoch 26: 100%|██████████| 391/391 [00:23<00:00, 16.31it/s, acc=0.797, xentropy=0.685]\n",
            "  0%|          | 0/391 [00:00<?, ?it/s]"
          ],
          "name": "stderr"
        },
        {
          "output_type": "stream",
          "text": [
            "test_acc: 0.697\n"
          ],
          "name": "stdout"
        },
        {
          "output_type": "stream",
          "text": [
            "Epoch 27: 100%|██████████| 391/391 [00:24<00:00, 16.05it/s, acc=0.800, xentropy=0.674]\n",
            "  0%|          | 0/391 [00:00<?, ?it/s]"
          ],
          "name": "stderr"
        },
        {
          "output_type": "stream",
          "text": [
            "test_acc: 0.696\n"
          ],
          "name": "stdout"
        },
        {
          "output_type": "stream",
          "text": [
            "Epoch 28: 100%|██████████| 391/391 [00:23<00:00, 16.50it/s, acc=0.797, xentropy=0.682]\n",
            "  0%|          | 0/391 [00:00<?, ?it/s]"
          ],
          "name": "stderr"
        },
        {
          "output_type": "stream",
          "text": [
            "test_acc: 0.701\n"
          ],
          "name": "stdout"
        },
        {
          "output_type": "stream",
          "text": [
            "Epoch 29: 100%|██████████| 391/391 [00:24<00:00, 16.25it/s, acc=0.797, xentropy=0.681]\n",
            "  0%|          | 0/391 [00:00<?, ?it/s]"
          ],
          "name": "stderr"
        },
        {
          "output_type": "stream",
          "text": [
            "test_acc: 0.700\n"
          ],
          "name": "stdout"
        },
        {
          "output_type": "stream",
          "text": [
            "Epoch 30: 100%|██████████| 391/391 [00:24<00:00, 16.15it/s, acc=0.799, xentropy=0.677]\n",
            "  0%|          | 0/391 [00:00<?, ?it/s]"
          ],
          "name": "stderr"
        },
        {
          "output_type": "stream",
          "text": [
            "test_acc: 0.695\n"
          ],
          "name": "stdout"
        },
        {
          "output_type": "stream",
          "text": [
            "Epoch 31: 100%|██████████| 391/391 [00:24<00:00, 16.23it/s, acc=0.799, xentropy=0.676]\n",
            "  0%|          | 0/391 [00:00<?, ?it/s]"
          ],
          "name": "stderr"
        },
        {
          "output_type": "stream",
          "text": [
            "test_acc: 0.701\n"
          ],
          "name": "stdout"
        },
        {
          "output_type": "stream",
          "text": [
            "Epoch 32: 100%|██████████| 391/391 [00:23<00:00, 16.39it/s, acc=0.799, xentropy=0.678]\n",
            "  0%|          | 0/391 [00:00<?, ?it/s]"
          ],
          "name": "stderr"
        },
        {
          "output_type": "stream",
          "text": [
            "test_acc: 0.702\n"
          ],
          "name": "stdout"
        },
        {
          "output_type": "stream",
          "text": [
            "Epoch 33: 100%|██████████| 391/391 [00:24<00:00, 16.25it/s, acc=0.800, xentropy=0.678]\n",
            "  0%|          | 0/391 [00:00<?, ?it/s]"
          ],
          "name": "stderr"
        },
        {
          "output_type": "stream",
          "text": [
            "test_acc: 0.687\n"
          ],
          "name": "stdout"
        },
        {
          "output_type": "stream",
          "text": [
            "Epoch 34: 100%|██████████| 391/391 [00:23<00:00, 16.45it/s, acc=0.799, xentropy=0.679]\n",
            "  0%|          | 0/391 [00:00<?, ?it/s]"
          ],
          "name": "stderr"
        },
        {
          "output_type": "stream",
          "text": [
            "test_acc: 0.701\n"
          ],
          "name": "stdout"
        },
        {
          "output_type": "stream",
          "text": [
            "Epoch 35: 100%|██████████| 391/391 [00:24<00:00, 16.28it/s, acc=0.798, xentropy=0.682]\n",
            "  0%|          | 0/391 [00:00<?, ?it/s]"
          ],
          "name": "stderr"
        },
        {
          "output_type": "stream",
          "text": [
            "test_acc: 0.700\n"
          ],
          "name": "stdout"
        },
        {
          "output_type": "stream",
          "text": [
            "Epoch 36: 100%|██████████| 391/391 [00:24<00:00, 16.22it/s, acc=0.798, xentropy=0.680]\n",
            "  0%|          | 0/391 [00:00<?, ?it/s]"
          ],
          "name": "stderr"
        },
        {
          "output_type": "stream",
          "text": [
            "test_acc: 0.699\n"
          ],
          "name": "stdout"
        },
        {
          "output_type": "stream",
          "text": [
            "Epoch 37: 100%|██████████| 391/391 [00:23<00:00, 16.47it/s, acc=0.798, xentropy=0.678]\n",
            "  0%|          | 0/391 [00:00<?, ?it/s]"
          ],
          "name": "stderr"
        },
        {
          "output_type": "stream",
          "text": [
            "test_acc: 0.700\n"
          ],
          "name": "stdout"
        },
        {
          "output_type": "stream",
          "text": [
            "Epoch 38: 100%|██████████| 391/391 [00:24<00:00, 16.22it/s, acc=0.796, xentropy=0.677]\n",
            "  0%|          | 0/391 [00:00<?, ?it/s]"
          ],
          "name": "stderr"
        },
        {
          "output_type": "stream",
          "text": [
            "test_acc: 0.695\n"
          ],
          "name": "stdout"
        },
        {
          "output_type": "stream",
          "text": [
            "Epoch 39: 100%|██████████| 391/391 [00:24<00:00, 16.28it/s, acc=0.799, xentropy=0.681]\n",
            "  0%|          | 0/391 [00:00<?, ?it/s]"
          ],
          "name": "stderr"
        },
        {
          "output_type": "stream",
          "text": [
            "test_acc: 0.695\n"
          ],
          "name": "stdout"
        },
        {
          "output_type": "stream",
          "text": [
            "Epoch 40: 100%|██████████| 391/391 [00:23<00:00, 16.52it/s, acc=0.799, xentropy=0.677]\n",
            "  0%|          | 0/391 [00:00<?, ?it/s]"
          ],
          "name": "stderr"
        },
        {
          "output_type": "stream",
          "text": [
            "test_acc: 0.697\n"
          ],
          "name": "stdout"
        },
        {
          "output_type": "stream",
          "text": [
            "Epoch 41: 100%|██████████| 391/391 [00:23<00:00, 16.31it/s, acc=0.800, xentropy=0.677]\n",
            "  0%|          | 0/391 [00:00<?, ?it/s]"
          ],
          "name": "stderr"
        },
        {
          "output_type": "stream",
          "text": [
            "test_acc: 0.692\n"
          ],
          "name": "stdout"
        },
        {
          "output_type": "stream",
          "text": [
            "Epoch 42: 100%|██████████| 391/391 [00:24<00:00, 16.22it/s, acc=0.798, xentropy=0.682]\n",
            "  0%|          | 0/391 [00:00<?, ?it/s]"
          ],
          "name": "stderr"
        },
        {
          "output_type": "stream",
          "text": [
            "test_acc: 0.691\n"
          ],
          "name": "stdout"
        },
        {
          "output_type": "stream",
          "text": [
            "Epoch 43: 100%|██████████| 391/391 [00:24<00:00, 16.22it/s, acc=0.799, xentropy=0.674]\n",
            "  0%|          | 0/391 [00:00<?, ?it/s]"
          ],
          "name": "stderr"
        },
        {
          "output_type": "stream",
          "text": [
            "test_acc: 0.700\n"
          ],
          "name": "stdout"
        },
        {
          "output_type": "stream",
          "text": [
            "Epoch 44: 100%|██████████| 391/391 [00:23<00:00, 16.42it/s, acc=0.803, xentropy=0.666]\n",
            "  0%|          | 0/391 [00:00<?, ?it/s]"
          ],
          "name": "stderr"
        },
        {
          "output_type": "stream",
          "text": [
            "test_acc: 0.698\n"
          ],
          "name": "stdout"
        },
        {
          "output_type": "stream",
          "text": [
            "Epoch 45: 100%|██████████| 391/391 [00:24<00:00, 16.28it/s, acc=0.799, xentropy=0.680]\n",
            "  0%|          | 0/391 [00:00<?, ?it/s]"
          ],
          "name": "stderr"
        },
        {
          "output_type": "stream",
          "text": [
            "test_acc: 0.697\n"
          ],
          "name": "stdout"
        },
        {
          "output_type": "stream",
          "text": [
            "Epoch 46: 100%|██████████| 391/391 [00:23<00:00, 16.39it/s, acc=0.799, xentropy=0.678]\n",
            "  0%|          | 0/391 [00:00<?, ?it/s]"
          ],
          "name": "stderr"
        },
        {
          "output_type": "stream",
          "text": [
            "test_acc: 0.698\n"
          ],
          "name": "stdout"
        },
        {
          "output_type": "stream",
          "text": [
            "Epoch 47: 100%|██████████| 391/391 [00:23<00:00, 16.37it/s, acc=0.801, xentropy=0.678]\n",
            "  0%|          | 0/391 [00:00<?, ?it/s]"
          ],
          "name": "stderr"
        },
        {
          "output_type": "stream",
          "text": [
            "test_acc: 0.693\n"
          ],
          "name": "stdout"
        },
        {
          "output_type": "stream",
          "text": [
            "Epoch 48: 100%|██████████| 391/391 [00:24<00:00, 16.25it/s, acc=0.799, xentropy=0.673]\n",
            "  0%|          | 0/391 [00:00<?, ?it/s]"
          ],
          "name": "stderr"
        },
        {
          "output_type": "stream",
          "text": [
            "test_acc: 0.695\n"
          ],
          "name": "stdout"
        },
        {
          "output_type": "stream",
          "text": [
            "Epoch 49: 100%|██████████| 391/391 [00:23<00:00, 16.53it/s, acc=0.798, xentropy=0.676]\n"
          ],
          "name": "stderr"
        },
        {
          "output_type": "stream",
          "text": [
            "test_acc: 0.692\n"
          ],
          "name": "stdout"
        }
      ]
    },
    {
      "cell_type": "code",
      "metadata": {
        "id": "dZB8cN3OEQby",
        "colab_type": "code",
        "colab": {
          "base_uri": "https://localhost:8080/",
          "height": 867
        },
        "outputId": "667d7a32-379a-4d69-faa9-6fcdba8b03e0"
      },
      "source": [
        "train(50,75,0.0007)"
      ],
      "execution_count": 36,
      "outputs": [
        {
          "output_type": "stream",
          "text": [
            "Epoch 50: 100%|██████████| 391/391 [00:23<00:00, 16.30it/s, acc=0.809, xentropy=0.648]\n",
            "  0%|          | 0/391 [00:00<?, ?it/s]"
          ],
          "name": "stderr"
        },
        {
          "output_type": "stream",
          "text": [
            "test_acc: 0.703\n"
          ],
          "name": "stdout"
        },
        {
          "output_type": "stream",
          "text": [
            "Epoch 51: 100%|██████████| 391/391 [00:24<00:00, 16.02it/s, acc=0.813, xentropy=0.637]\n",
            "  0%|          | 0/391 [00:00<?, ?it/s]"
          ],
          "name": "stderr"
        },
        {
          "output_type": "stream",
          "text": [
            "test_acc: 0.705\n"
          ],
          "name": "stdout"
        },
        {
          "output_type": "stream",
          "text": [
            "Epoch 52: 100%|██████████| 391/391 [00:23<00:00, 16.43it/s, acc=0.812, xentropy=0.639]\n",
            "  0%|          | 0/391 [00:00<?, ?it/s]"
          ],
          "name": "stderr"
        },
        {
          "output_type": "stream",
          "text": [
            "test_acc: 0.702\n"
          ],
          "name": "stdout"
        },
        {
          "output_type": "stream",
          "text": [
            "Epoch 53: 100%|██████████| 391/391 [00:24<00:00, 16.24it/s, acc=0.813, xentropy=0.637]\n",
            "  0%|          | 0/391 [00:00<?, ?it/s]"
          ],
          "name": "stderr"
        },
        {
          "output_type": "stream",
          "text": [
            "test_acc: 0.706\n"
          ],
          "name": "stdout"
        },
        {
          "output_type": "stream",
          "text": [
            "Epoch 54: 100%|██████████| 391/391 [00:24<00:00, 16.27it/s, acc=0.812, xentropy=0.639]\n",
            "  0%|          | 0/391 [00:00<?, ?it/s]"
          ],
          "name": "stderr"
        },
        {
          "output_type": "stream",
          "text": [
            "test_acc: 0.703\n"
          ],
          "name": "stdout"
        },
        {
          "output_type": "stream",
          "text": [
            "Epoch 55: 100%|██████████| 391/391 [00:23<00:00, 16.41it/s, acc=0.810, xentropy=0.637]\n",
            "  0%|          | 0/391 [00:00<?, ?it/s]"
          ],
          "name": "stderr"
        },
        {
          "output_type": "stream",
          "text": [
            "test_acc: 0.701\n"
          ],
          "name": "stdout"
        },
        {
          "output_type": "stream",
          "text": [
            "Epoch 56: 100%|██████████| 391/391 [00:24<00:00, 16.29it/s, acc=0.812, xentropy=0.637]\n",
            "  0%|          | 0/391 [00:00<?, ?it/s]"
          ],
          "name": "stderr"
        },
        {
          "output_type": "stream",
          "text": [
            "test_acc: 0.704\n"
          ],
          "name": "stdout"
        },
        {
          "output_type": "stream",
          "text": [
            "Epoch 57: 100%|██████████| 391/391 [00:23<00:00, 16.41it/s, acc=0.811, xentropy=0.640]\n",
            "  0%|          | 0/391 [00:00<?, ?it/s]"
          ],
          "name": "stderr"
        },
        {
          "output_type": "stream",
          "text": [
            "test_acc: 0.701\n"
          ],
          "name": "stdout"
        },
        {
          "output_type": "stream",
          "text": [
            "Epoch 58: 100%|██████████| 391/391 [00:23<00:00, 16.43it/s, acc=0.812, xentropy=0.637]\n",
            "  0%|          | 0/391 [00:00<?, ?it/s]"
          ],
          "name": "stderr"
        },
        {
          "output_type": "stream",
          "text": [
            "test_acc: 0.699\n"
          ],
          "name": "stdout"
        },
        {
          "output_type": "stream",
          "text": [
            "Epoch 59: 100%|██████████| 391/391 [00:24<00:00, 16.03it/s, acc=0.812, xentropy=0.637]\n",
            "  0%|          | 0/391 [00:00<?, ?it/s]"
          ],
          "name": "stderr"
        },
        {
          "output_type": "stream",
          "text": [
            "test_acc: 0.703\n"
          ],
          "name": "stdout"
        },
        {
          "output_type": "stream",
          "text": [
            "Epoch 60: 100%|██████████| 391/391 [00:24<00:00, 16.24it/s, acc=0.809, xentropy=0.645]\n",
            "  0%|          | 0/391 [00:00<?, ?it/s]"
          ],
          "name": "stderr"
        },
        {
          "output_type": "stream",
          "text": [
            "test_acc: 0.705\n"
          ],
          "name": "stdout"
        },
        {
          "output_type": "stream",
          "text": [
            "Epoch 61: 100%|██████████| 391/391 [00:23<00:00, 16.48it/s, acc=0.814, xentropy=0.630]\n",
            "  0%|          | 0/391 [00:00<?, ?it/s]"
          ],
          "name": "stderr"
        },
        {
          "output_type": "stream",
          "text": [
            "test_acc: 0.703\n"
          ],
          "name": "stdout"
        },
        {
          "output_type": "stream",
          "text": [
            "Epoch 62: 100%|██████████| 391/391 [00:24<00:00, 16.28it/s, acc=0.813, xentropy=0.634]\n",
            "  0%|          | 0/391 [00:00<?, ?it/s]"
          ],
          "name": "stderr"
        },
        {
          "output_type": "stream",
          "text": [
            "test_acc: 0.698\n"
          ],
          "name": "stdout"
        },
        {
          "output_type": "stream",
          "text": [
            "Epoch 63: 100%|██████████| 391/391 [00:24<00:00, 16.21it/s, acc=0.811, xentropy=0.638]\n",
            "  0%|          | 0/391 [00:00<?, ?it/s]"
          ],
          "name": "stderr"
        },
        {
          "output_type": "stream",
          "text": [
            "test_acc: 0.703\n"
          ],
          "name": "stdout"
        },
        {
          "output_type": "stream",
          "text": [
            "Epoch 64: 100%|██████████| 391/391 [00:23<00:00, 16.49it/s, acc=0.814, xentropy=0.632]\n",
            "  0%|          | 0/391 [00:00<?, ?it/s]"
          ],
          "name": "stderr"
        },
        {
          "output_type": "stream",
          "text": [
            "test_acc: 0.705\n"
          ],
          "name": "stdout"
        },
        {
          "output_type": "stream",
          "text": [
            "Epoch 65: 100%|██████████| 391/391 [00:24<00:00, 16.18it/s, acc=0.812, xentropy=0.641]\n",
            "  0%|          | 0/391 [00:00<?, ?it/s]"
          ],
          "name": "stderr"
        },
        {
          "output_type": "stream",
          "text": [
            "test_acc: 0.702\n"
          ],
          "name": "stdout"
        },
        {
          "output_type": "stream",
          "text": [
            "Epoch 66: 100%|██████████| 391/391 [00:23<00:00, 16.40it/s, acc=0.812, xentropy=0.633]\n",
            "  0%|          | 0/391 [00:00<?, ?it/s]"
          ],
          "name": "stderr"
        },
        {
          "output_type": "stream",
          "text": [
            "test_acc: 0.701\n"
          ],
          "name": "stdout"
        },
        {
          "output_type": "stream",
          "text": [
            "Epoch 67: 100%|██████████| 391/391 [00:24<00:00, 16.21it/s, acc=0.814, xentropy=0.635]\n",
            "  0%|          | 0/391 [00:00<?, ?it/s]"
          ],
          "name": "stderr"
        },
        {
          "output_type": "stream",
          "text": [
            "test_acc: 0.702\n"
          ],
          "name": "stdout"
        },
        {
          "output_type": "stream",
          "text": [
            "Epoch 68: 100%|██████████| 391/391 [00:23<00:00, 16.34it/s, acc=0.813, xentropy=0.631]\n",
            "  0%|          | 0/391 [00:00<?, ?it/s]"
          ],
          "name": "stderr"
        },
        {
          "output_type": "stream",
          "text": [
            "test_acc: 0.701\n"
          ],
          "name": "stdout"
        },
        {
          "output_type": "stream",
          "text": [
            "Epoch 69: 100%|██████████| 391/391 [00:23<00:00, 16.58it/s, acc=0.814, xentropy=0.632]\n",
            "  0%|          | 0/391 [00:00<?, ?it/s]"
          ],
          "name": "stderr"
        },
        {
          "output_type": "stream",
          "text": [
            "test_acc: 0.706\n"
          ],
          "name": "stdout"
        },
        {
          "output_type": "stream",
          "text": [
            "Epoch 70: 100%|██████████| 391/391 [00:23<00:00, 16.45it/s, acc=0.813, xentropy=0.631]\n",
            "  0%|          | 0/391 [00:00<?, ?it/s]"
          ],
          "name": "stderr"
        },
        {
          "output_type": "stream",
          "text": [
            "test_acc: 0.705\n"
          ],
          "name": "stdout"
        },
        {
          "output_type": "stream",
          "text": [
            "Epoch 71: 100%|██████████| 391/391 [00:24<00:00, 16.23it/s, acc=0.813, xentropy=0.635]\n",
            "  0%|          | 0/391 [00:00<?, ?it/s]"
          ],
          "name": "stderr"
        },
        {
          "output_type": "stream",
          "text": [
            "test_acc: 0.703\n"
          ],
          "name": "stdout"
        },
        {
          "output_type": "stream",
          "text": [
            "Epoch 72: 100%|██████████| 391/391 [00:23<00:00, 16.37it/s, acc=0.816, xentropy=0.628]\n",
            "  0%|          | 0/391 [00:00<?, ?it/s]"
          ],
          "name": "stderr"
        },
        {
          "output_type": "stream",
          "text": [
            "test_acc: 0.699\n"
          ],
          "name": "stdout"
        },
        {
          "output_type": "stream",
          "text": [
            "Epoch 73: 100%|██████████| 391/391 [00:23<00:00, 16.40it/s, acc=0.813, xentropy=0.631]\n",
            "  0%|          | 0/391 [00:00<?, ?it/s]"
          ],
          "name": "stderr"
        },
        {
          "output_type": "stream",
          "text": [
            "test_acc: 0.703\n"
          ],
          "name": "stdout"
        },
        {
          "output_type": "stream",
          "text": [
            "Epoch 74: 100%|██████████| 391/391 [00:23<00:00, 16.30it/s, acc=0.814, xentropy=0.633]\n"
          ],
          "name": "stderr"
        },
        {
          "output_type": "stream",
          "text": [
            "test_acc: 0.699\n"
          ],
          "name": "stdout"
        }
      ]
    },
    {
      "cell_type": "code",
      "metadata": {
        "id": "hR8bCiCQJxuX",
        "colab_type": "code",
        "colab": {
          "base_uri": "https://localhost:8080/",
          "height": 867
        },
        "outputId": "5973633d-ca7c-4a80-bcce-729c06b0849d"
      },
      "source": [
        "train(50,75,0.0005)"
      ],
      "execution_count": 37,
      "outputs": [
        {
          "output_type": "stream",
          "text": [
            "Epoch 50: 100%|██████████| 391/391 [00:23<00:00, 16.42it/s, acc=0.820, xentropy=0.613]\n",
            "  0%|          | 0/391 [00:00<?, ?it/s]"
          ],
          "name": "stderr"
        },
        {
          "output_type": "stream",
          "text": [
            "test_acc: 0.708\n"
          ],
          "name": "stdout"
        },
        {
          "output_type": "stream",
          "text": [
            "Epoch 51: 100%|██████████| 391/391 [00:23<00:00, 16.41it/s, acc=0.823, xentropy=0.607]\n",
            "  0%|          | 0/391 [00:00<?, ?it/s]"
          ],
          "name": "stderr"
        },
        {
          "output_type": "stream",
          "text": [
            "test_acc: 0.705\n"
          ],
          "name": "stdout"
        },
        {
          "output_type": "stream",
          "text": [
            "Epoch 52: 100%|██████████| 391/391 [00:23<00:00, 16.54it/s, acc=0.822, xentropy=0.603]\n",
            "  0%|          | 0/391 [00:00<?, ?it/s]"
          ],
          "name": "stderr"
        },
        {
          "output_type": "stream",
          "text": [
            "test_acc: 0.709\n"
          ],
          "name": "stdout"
        },
        {
          "output_type": "stream",
          "text": [
            "Epoch 53: 100%|██████████| 391/391 [00:23<00:00, 16.47it/s, acc=0.820, xentropy=0.608]\n",
            "  0%|          | 0/391 [00:00<?, ?it/s]"
          ],
          "name": "stderr"
        },
        {
          "output_type": "stream",
          "text": [
            "test_acc: 0.708\n"
          ],
          "name": "stdout"
        },
        {
          "output_type": "stream",
          "text": [
            "Epoch 54: 100%|██████████| 391/391 [00:23<00:00, 16.52it/s, acc=0.824, xentropy=0.605]\n",
            "  0%|          | 0/391 [00:00<?, ?it/s]"
          ],
          "name": "stderr"
        },
        {
          "output_type": "stream",
          "text": [
            "test_acc: 0.709\n"
          ],
          "name": "stdout"
        },
        {
          "output_type": "stream",
          "text": [
            "Epoch 55: 100%|██████████| 391/391 [00:23<00:00, 16.39it/s, acc=0.824, xentropy=0.603]\n",
            "  0%|          | 0/391 [00:00<?, ?it/s]"
          ],
          "name": "stderr"
        },
        {
          "output_type": "stream",
          "text": [
            "test_acc: 0.710\n"
          ],
          "name": "stdout"
        },
        {
          "output_type": "stream",
          "text": [
            "Epoch 56: 100%|██████████| 391/391 [00:23<00:00, 16.48it/s, acc=0.821, xentropy=0.606]\n",
            "  0%|          | 0/391 [00:00<?, ?it/s]"
          ],
          "name": "stderr"
        },
        {
          "output_type": "stream",
          "text": [
            "test_acc: 0.711\n"
          ],
          "name": "stdout"
        },
        {
          "output_type": "stream",
          "text": [
            "Epoch 57: 100%|██████████| 391/391 [00:23<00:00, 16.47it/s, acc=0.820, xentropy=0.608]\n",
            "  0%|          | 0/391 [00:00<?, ?it/s]"
          ],
          "name": "stderr"
        },
        {
          "output_type": "stream",
          "text": [
            "test_acc: 0.710\n"
          ],
          "name": "stdout"
        },
        {
          "output_type": "stream",
          "text": [
            "Epoch 58: 100%|██████████| 391/391 [00:23<00:00, 16.35it/s, acc=0.824, xentropy=0.603]\n",
            "  0%|          | 0/391 [00:00<?, ?it/s]"
          ],
          "name": "stderr"
        },
        {
          "output_type": "stream",
          "text": [
            "test_acc: 0.705\n"
          ],
          "name": "stdout"
        },
        {
          "output_type": "stream",
          "text": [
            "Epoch 59: 100%|██████████| 391/391 [00:24<00:00, 16.28it/s, acc=0.824, xentropy=0.599]\n",
            "  0%|          | 0/391 [00:00<?, ?it/s]"
          ],
          "name": "stderr"
        },
        {
          "output_type": "stream",
          "text": [
            "test_acc: 0.708\n"
          ],
          "name": "stdout"
        },
        {
          "output_type": "stream",
          "text": [
            "Epoch 60: 100%|██████████| 391/391 [00:24<00:00, 15.94it/s, acc=0.821, xentropy=0.606]\n",
            "  0%|          | 0/391 [00:00<?, ?it/s]"
          ],
          "name": "stderr"
        },
        {
          "output_type": "stream",
          "text": [
            "test_acc: 0.708\n"
          ],
          "name": "stdout"
        },
        {
          "output_type": "stream",
          "text": [
            "Epoch 61: 100%|██████████| 391/391 [00:25<00:00, 15.54it/s, acc=0.824, xentropy=0.596]\n",
            "  0%|          | 0/391 [00:00<?, ?it/s]"
          ],
          "name": "stderr"
        },
        {
          "output_type": "stream",
          "text": [
            "test_acc: 0.713\n"
          ],
          "name": "stdout"
        },
        {
          "output_type": "stream",
          "text": [
            "Epoch 62: 100%|██████████| 391/391 [00:24<00:00, 15.69it/s, acc=0.821, xentropy=0.603]\n",
            "  0%|          | 0/391 [00:00<?, ?it/s]"
          ],
          "name": "stderr"
        },
        {
          "output_type": "stream",
          "text": [
            "test_acc: 0.703\n"
          ],
          "name": "stdout"
        },
        {
          "output_type": "stream",
          "text": [
            "Epoch 63: 100%|██████████| 391/391 [00:24<00:00, 16.06it/s, acc=0.822, xentropy=0.600]\n",
            "  0%|          | 0/391 [00:00<?, ?it/s]"
          ],
          "name": "stderr"
        },
        {
          "output_type": "stream",
          "text": [
            "test_acc: 0.706\n"
          ],
          "name": "stdout"
        },
        {
          "output_type": "stream",
          "text": [
            "Epoch 64: 100%|██████████| 391/391 [00:23<00:00, 16.39it/s, acc=0.824, xentropy=0.601]\n",
            "  0%|          | 0/391 [00:00<?, ?it/s]"
          ],
          "name": "stderr"
        },
        {
          "output_type": "stream",
          "text": [
            "test_acc: 0.709\n"
          ],
          "name": "stdout"
        },
        {
          "output_type": "stream",
          "text": [
            "Epoch 65: 100%|██████████| 391/391 [00:23<00:00, 16.49it/s, acc=0.822, xentropy=0.602]\n",
            "  0%|          | 0/391 [00:00<?, ?it/s]"
          ],
          "name": "stderr"
        },
        {
          "output_type": "stream",
          "text": [
            "test_acc: 0.706\n"
          ],
          "name": "stdout"
        },
        {
          "output_type": "stream",
          "text": [
            "Epoch 66: 100%|██████████| 391/391 [00:23<00:00, 16.42it/s, acc=0.822, xentropy=0.599]\n",
            "  0%|          | 0/391 [00:00<?, ?it/s]"
          ],
          "name": "stderr"
        },
        {
          "output_type": "stream",
          "text": [
            "test_acc: 0.703\n"
          ],
          "name": "stdout"
        },
        {
          "output_type": "stream",
          "text": [
            "Epoch 67: 100%|██████████| 391/391 [00:23<00:00, 16.39it/s, acc=0.823, xentropy=0.598]\n",
            "  0%|          | 0/391 [00:00<?, ?it/s]"
          ],
          "name": "stderr"
        },
        {
          "output_type": "stream",
          "text": [
            "test_acc: 0.706\n"
          ],
          "name": "stdout"
        },
        {
          "output_type": "stream",
          "text": [
            "Epoch 68: 100%|██████████| 391/391 [00:24<00:00, 16.28it/s, acc=0.821, xentropy=0.607]\n",
            "  0%|          | 0/391 [00:00<?, ?it/s]"
          ],
          "name": "stderr"
        },
        {
          "output_type": "stream",
          "text": [
            "test_acc: 0.705\n"
          ],
          "name": "stdout"
        },
        {
          "output_type": "stream",
          "text": [
            "Epoch 69: 100%|██████████| 391/391 [00:24<00:00, 16.29it/s, acc=0.825, xentropy=0.599]\n",
            "  0%|          | 0/391 [00:00<?, ?it/s]"
          ],
          "name": "stderr"
        },
        {
          "output_type": "stream",
          "text": [
            "test_acc: 0.705\n"
          ],
          "name": "stdout"
        },
        {
          "output_type": "stream",
          "text": [
            "Epoch 70: 100%|██████████| 391/391 [00:24<00:00, 16.21it/s, acc=0.821, xentropy=0.602]\n",
            "  0%|          | 0/391 [00:00<?, ?it/s]"
          ],
          "name": "stderr"
        },
        {
          "output_type": "stream",
          "text": [
            "test_acc: 0.704\n"
          ],
          "name": "stdout"
        },
        {
          "output_type": "stream",
          "text": [
            "Epoch 71: 100%|██████████| 391/391 [00:24<00:00, 16.27it/s, acc=0.824, xentropy=0.600]\n",
            "  0%|          | 0/391 [00:00<?, ?it/s]"
          ],
          "name": "stderr"
        },
        {
          "output_type": "stream",
          "text": [
            "test_acc: 0.708\n"
          ],
          "name": "stdout"
        },
        {
          "output_type": "stream",
          "text": [
            "Epoch 72: 100%|██████████| 391/391 [00:24<00:00, 16.29it/s, acc=0.826, xentropy=0.595]\n",
            "  0%|          | 0/391 [00:00<?, ?it/s]"
          ],
          "name": "stderr"
        },
        {
          "output_type": "stream",
          "text": [
            "test_acc: 0.704\n"
          ],
          "name": "stdout"
        },
        {
          "output_type": "stream",
          "text": [
            "Epoch 73: 100%|██████████| 391/391 [00:24<00:00, 16.17it/s, acc=0.823, xentropy=0.603]\n",
            "  0%|          | 0/391 [00:00<?, ?it/s]"
          ],
          "name": "stderr"
        },
        {
          "output_type": "stream",
          "text": [
            "test_acc: 0.706\n"
          ],
          "name": "stdout"
        },
        {
          "output_type": "stream",
          "text": [
            "Epoch 74: 100%|██████████| 391/391 [00:24<00:00, 16.24it/s, acc=0.823, xentropy=0.604]\n"
          ],
          "name": "stderr"
        },
        {
          "output_type": "stream",
          "text": [
            "test_acc: 0.706\n"
          ],
          "name": "stdout"
        }
      ]
    },
    {
      "cell_type": "code",
      "metadata": {
        "id": "X1jr1bJHMf8U",
        "colab_type": "code",
        "colab": {
          "base_uri": "https://localhost:8080/",
          "height": 867
        },
        "outputId": "b9461662-f763-4620-c269-99ab4ccad452"
      },
      "source": [
        "train(100,125,0.00025)"
      ],
      "execution_count": 38,
      "outputs": [
        {
          "output_type": "stream",
          "text": [
            "Epoch 100: 100%|██████████| 391/391 [00:24<00:00, 16.06it/s, acc=0.831, xentropy=0.582]\n",
            "  0%|          | 0/391 [00:00<?, ?it/s]"
          ],
          "name": "stderr"
        },
        {
          "output_type": "stream",
          "text": [
            "test_acc: 0.710\n"
          ],
          "name": "stdout"
        },
        {
          "output_type": "stream",
          "text": [
            "Epoch 101: 100%|██████████| 391/391 [00:24<00:00, 16.21it/s, acc=0.832, xentropy=0.573]\n",
            "  0%|          | 0/391 [00:00<?, ?it/s]"
          ],
          "name": "stderr"
        },
        {
          "output_type": "stream",
          "text": [
            "test_acc: 0.709\n"
          ],
          "name": "stdout"
        },
        {
          "output_type": "stream",
          "text": [
            "Epoch 102: 100%|██████████| 391/391 [00:23<00:00, 16.37it/s, acc=0.836, xentropy=0.569]\n",
            "  0%|          | 0/391 [00:00<?, ?it/s]"
          ],
          "name": "stderr"
        },
        {
          "output_type": "stream",
          "text": [
            "test_acc: 0.713\n"
          ],
          "name": "stdout"
        },
        {
          "output_type": "stream",
          "text": [
            "Epoch 103: 100%|██████████| 391/391 [00:23<00:00, 16.55it/s, acc=0.835, xentropy=0.566]\n",
            "  0%|          | 0/391 [00:00<?, ?it/s]"
          ],
          "name": "stderr"
        },
        {
          "output_type": "stream",
          "text": [
            "test_acc: 0.709\n"
          ],
          "name": "stdout"
        },
        {
          "output_type": "stream",
          "text": [
            "Epoch 104: 100%|██████████| 391/391 [00:23<00:00, 16.36it/s, acc=0.835, xentropy=0.565]\n",
            "  0%|          | 0/391 [00:00<?, ?it/s]"
          ],
          "name": "stderr"
        },
        {
          "output_type": "stream",
          "text": [
            "test_acc: 0.710\n"
          ],
          "name": "stdout"
        },
        {
          "output_type": "stream",
          "text": [
            "Epoch 105: 100%|██████████| 391/391 [00:25<00:00, 15.54it/s, acc=0.837, xentropy=0.563]\n",
            "  0%|          | 0/391 [00:00<?, ?it/s]"
          ],
          "name": "stderr"
        },
        {
          "output_type": "stream",
          "text": [
            "test_acc: 0.710\n"
          ],
          "name": "stdout"
        },
        {
          "output_type": "stream",
          "text": [
            "Epoch 106: 100%|██████████| 391/391 [00:25<00:00, 15.50it/s, acc=0.836, xentropy=0.564]\n",
            "  0%|          | 0/391 [00:00<?, ?it/s]"
          ],
          "name": "stderr"
        },
        {
          "output_type": "stream",
          "text": [
            "test_acc: 0.710\n"
          ],
          "name": "stdout"
        },
        {
          "output_type": "stream",
          "text": [
            "Epoch 107: 100%|██████████| 391/391 [00:23<00:00, 16.45it/s, acc=0.835, xentropy=0.565]\n",
            "  0%|          | 0/391 [00:00<?, ?it/s]"
          ],
          "name": "stderr"
        },
        {
          "output_type": "stream",
          "text": [
            "test_acc: 0.711\n"
          ],
          "name": "stdout"
        },
        {
          "output_type": "stream",
          "text": [
            "Epoch 108: 100%|██████████| 391/391 [00:24<00:00, 16.28it/s, acc=0.837, xentropy=0.560]\n",
            "  0%|          | 0/391 [00:00<?, ?it/s]"
          ],
          "name": "stderr"
        },
        {
          "output_type": "stream",
          "text": [
            "test_acc: 0.712\n"
          ],
          "name": "stdout"
        },
        {
          "output_type": "stream",
          "text": [
            "Epoch 109: 100%|██████████| 391/391 [00:24<00:00, 16.26it/s, acc=0.834, xentropy=0.569]\n",
            "  0%|          | 0/391 [00:00<?, ?it/s]"
          ],
          "name": "stderr"
        },
        {
          "output_type": "stream",
          "text": [
            "test_acc: 0.711\n"
          ],
          "name": "stdout"
        },
        {
          "output_type": "stream",
          "text": [
            "Epoch 110: 100%|██████████| 391/391 [00:23<00:00, 16.31it/s, acc=0.836, xentropy=0.558]\n",
            "  0%|          | 0/391 [00:00<?, ?it/s]"
          ],
          "name": "stderr"
        },
        {
          "output_type": "stream",
          "text": [
            "test_acc: 0.710\n"
          ],
          "name": "stdout"
        },
        {
          "output_type": "stream",
          "text": [
            "Epoch 111: 100%|██████████| 391/391 [00:23<00:00, 16.31it/s, acc=0.833, xentropy=0.564]\n",
            "  0%|          | 0/391 [00:00<?, ?it/s]"
          ],
          "name": "stderr"
        },
        {
          "output_type": "stream",
          "text": [
            "test_acc: 0.708\n"
          ],
          "name": "stdout"
        },
        {
          "output_type": "stream",
          "text": [
            "Epoch 112: 100%|██████████| 391/391 [00:24<00:00, 16.19it/s, acc=0.835, xentropy=0.560]\n",
            "  0%|          | 0/391 [00:00<?, ?it/s]"
          ],
          "name": "stderr"
        },
        {
          "output_type": "stream",
          "text": [
            "test_acc: 0.712\n"
          ],
          "name": "stdout"
        },
        {
          "output_type": "stream",
          "text": [
            "Epoch 113: 100%|██████████| 391/391 [00:23<00:00, 16.36it/s, acc=0.837, xentropy=0.557]\n",
            "  0%|          | 0/391 [00:00<?, ?it/s]"
          ],
          "name": "stderr"
        },
        {
          "output_type": "stream",
          "text": [
            "test_acc: 0.708\n"
          ],
          "name": "stdout"
        },
        {
          "output_type": "stream",
          "text": [
            "Epoch 114: 100%|██████████| 391/391 [00:24<00:00, 16.17it/s, acc=0.833, xentropy=0.567]\n",
            "  0%|          | 0/391 [00:00<?, ?it/s]"
          ],
          "name": "stderr"
        },
        {
          "output_type": "stream",
          "text": [
            "test_acc: 0.709\n"
          ],
          "name": "stdout"
        },
        {
          "output_type": "stream",
          "text": [
            "Epoch 115: 100%|██████████| 391/391 [00:24<00:00, 16.22it/s, acc=0.835, xentropy=0.559]\n",
            "  0%|          | 0/391 [00:00<?, ?it/s]"
          ],
          "name": "stderr"
        },
        {
          "output_type": "stream",
          "text": [
            "test_acc: 0.712\n"
          ],
          "name": "stdout"
        },
        {
          "output_type": "stream",
          "text": [
            "Epoch 116: 100%|██████████| 391/391 [00:23<00:00, 16.33it/s, acc=0.835, xentropy=0.561]\n",
            "  0%|          | 0/391 [00:00<?, ?it/s]"
          ],
          "name": "stderr"
        },
        {
          "output_type": "stream",
          "text": [
            "test_acc: 0.710\n"
          ],
          "name": "stdout"
        },
        {
          "output_type": "stream",
          "text": [
            "Epoch 117: 100%|██████████| 391/391 [00:24<00:00, 16.23it/s, acc=0.838, xentropy=0.556]\n",
            "  0%|          | 0/391 [00:00<?, ?it/s]"
          ],
          "name": "stderr"
        },
        {
          "output_type": "stream",
          "text": [
            "test_acc: 0.709\n"
          ],
          "name": "stdout"
        },
        {
          "output_type": "stream",
          "text": [
            "Epoch 118: 100%|██████████| 391/391 [00:23<00:00, 16.39it/s, acc=0.840, xentropy=0.560]\n",
            "  0%|          | 0/391 [00:00<?, ?it/s]"
          ],
          "name": "stderr"
        },
        {
          "output_type": "stream",
          "text": [
            "test_acc: 0.710\n"
          ],
          "name": "stdout"
        },
        {
          "output_type": "stream",
          "text": [
            "Epoch 119: 100%|██████████| 391/391 [00:25<00:00, 15.63it/s, acc=0.837, xentropy=0.556]\n",
            "  0%|          | 0/391 [00:00<?, ?it/s]"
          ],
          "name": "stderr"
        },
        {
          "output_type": "stream",
          "text": [
            "test_acc: 0.708\n"
          ],
          "name": "stdout"
        },
        {
          "output_type": "stream",
          "text": [
            "Epoch 120: 100%|██████████| 391/391 [00:24<00:00, 15.71it/s, acc=0.836, xentropy=0.559]\n",
            "  0%|          | 0/391 [00:00<?, ?it/s]"
          ],
          "name": "stderr"
        },
        {
          "output_type": "stream",
          "text": [
            "test_acc: 0.712\n"
          ],
          "name": "stdout"
        },
        {
          "output_type": "stream",
          "text": [
            "Epoch 121: 100%|██████████| 391/391 [00:24<00:00, 16.00it/s, acc=0.839, xentropy=0.553]\n",
            "  0%|          | 0/391 [00:00<?, ?it/s]"
          ],
          "name": "stderr"
        },
        {
          "output_type": "stream",
          "text": [
            "test_acc: 0.713\n"
          ],
          "name": "stdout"
        },
        {
          "output_type": "stream",
          "text": [
            "Epoch 122: 100%|██████████| 391/391 [00:24<00:00, 16.26it/s, acc=0.834, xentropy=0.560]\n",
            "  0%|          | 0/391 [00:00<?, ?it/s]"
          ],
          "name": "stderr"
        },
        {
          "output_type": "stream",
          "text": [
            "test_acc: 0.710\n"
          ],
          "name": "stdout"
        },
        {
          "output_type": "stream",
          "text": [
            "Epoch 123: 100%|██████████| 391/391 [00:24<00:00, 16.16it/s, acc=0.835, xentropy=0.562]\n",
            "  0%|          | 0/391 [00:00<?, ?it/s]"
          ],
          "name": "stderr"
        },
        {
          "output_type": "stream",
          "text": [
            "test_acc: 0.712\n"
          ],
          "name": "stdout"
        },
        {
          "output_type": "stream",
          "text": [
            "Epoch 124: 100%|██████████| 391/391 [00:24<00:00, 16.14it/s, acc=0.835, xentropy=0.560]\n"
          ],
          "name": "stderr"
        },
        {
          "output_type": "stream",
          "text": [
            "test_acc: 0.711\n"
          ],
          "name": "stdout"
        }
      ]
    },
    {
      "cell_type": "code",
      "metadata": {
        "id": "2uwdKMfNPcbj",
        "colab_type": "code",
        "colab": {
          "base_uri": "https://localhost:8080/",
          "height": 867
        },
        "outputId": "1c7c44c4-25f8-4d35-d260-955fe52fae60"
      },
      "source": [
        "train(125,150,0.0001)"
      ],
      "execution_count": 39,
      "outputs": [
        {
          "output_type": "stream",
          "text": [
            "Epoch 125: 100%|██████████| 391/391 [00:24<00:00, 16.20it/s, acc=0.839, xentropy=0.550]\n",
            "  0%|          | 0/391 [00:00<?, ?it/s]"
          ],
          "name": "stderr"
        },
        {
          "output_type": "stream",
          "text": [
            "test_acc: 0.712\n"
          ],
          "name": "stdout"
        },
        {
          "output_type": "stream",
          "text": [
            "Epoch 126: 100%|██████████| 391/391 [00:24<00:00, 16.03it/s, acc=0.844, xentropy=0.543]\n",
            "  0%|          | 0/391 [00:00<?, ?it/s]"
          ],
          "name": "stderr"
        },
        {
          "output_type": "stream",
          "text": [
            "test_acc: 0.713\n"
          ],
          "name": "stdout"
        },
        {
          "output_type": "stream",
          "text": [
            "Epoch 127: 100%|██████████| 391/391 [00:24<00:00, 16.27it/s, acc=0.842, xentropy=0.541]\n",
            "  0%|          | 0/391 [00:00<?, ?it/s]"
          ],
          "name": "stderr"
        },
        {
          "output_type": "stream",
          "text": [
            "test_acc: 0.712\n"
          ],
          "name": "stdout"
        },
        {
          "output_type": "stream",
          "text": [
            "Epoch 128: 100%|██████████| 391/391 [00:24<00:00, 16.28it/s, acc=0.842, xentropy=0.543]\n",
            "  0%|          | 0/391 [00:00<?, ?it/s]"
          ],
          "name": "stderr"
        },
        {
          "output_type": "stream",
          "text": [
            "test_acc: 0.711\n"
          ],
          "name": "stdout"
        },
        {
          "output_type": "stream",
          "text": [
            "Epoch 129: 100%|██████████| 391/391 [00:24<00:00, 16.23it/s, acc=0.840, xentropy=0.540]\n",
            "  0%|          | 0/391 [00:00<?, ?it/s]"
          ],
          "name": "stderr"
        },
        {
          "output_type": "stream",
          "text": [
            "test_acc: 0.712\n"
          ],
          "name": "stdout"
        },
        {
          "output_type": "stream",
          "text": [
            "Epoch 130: 100%|██████████| 391/391 [00:24<00:00, 16.18it/s, acc=0.843, xentropy=0.539]\n",
            "  0%|          | 0/391 [00:00<?, ?it/s]"
          ],
          "name": "stderr"
        },
        {
          "output_type": "stream",
          "text": [
            "test_acc: 0.714\n"
          ],
          "name": "stdout"
        },
        {
          "output_type": "stream",
          "text": [
            "Epoch 131: 100%|██████████| 391/391 [00:23<00:00, 16.35it/s, acc=0.843, xentropy=0.540]\n",
            "  0%|          | 0/391 [00:00<?, ?it/s]"
          ],
          "name": "stderr"
        },
        {
          "output_type": "stream",
          "text": [
            "test_acc: 0.712\n"
          ],
          "name": "stdout"
        },
        {
          "output_type": "stream",
          "text": [
            "Epoch 132: 100%|██████████| 391/391 [00:24<00:00, 16.22it/s, acc=0.844, xentropy=0.535]\n",
            "  0%|          | 0/391 [00:00<?, ?it/s]"
          ],
          "name": "stderr"
        },
        {
          "output_type": "stream",
          "text": [
            "test_acc: 0.712\n"
          ],
          "name": "stdout"
        },
        {
          "output_type": "stream",
          "text": [
            "Epoch 133: 100%|██████████| 391/391 [00:24<00:00, 16.08it/s, acc=0.844, xentropy=0.535]\n",
            "  0%|          | 0/391 [00:00<?, ?it/s]"
          ],
          "name": "stderr"
        },
        {
          "output_type": "stream",
          "text": [
            "test_acc: 0.713\n"
          ],
          "name": "stdout"
        },
        {
          "output_type": "stream",
          "text": [
            "Epoch 134: 100%|██████████| 391/391 [00:23<00:00, 16.31it/s, acc=0.844, xentropy=0.537]\n",
            "  0%|          | 0/391 [00:00<?, ?it/s]"
          ],
          "name": "stderr"
        },
        {
          "output_type": "stream",
          "text": [
            "test_acc: 0.713\n"
          ],
          "name": "stdout"
        },
        {
          "output_type": "stream",
          "text": [
            "Epoch 135: 100%|██████████| 391/391 [00:24<00:00, 16.19it/s, acc=0.844, xentropy=0.538]\n",
            "  0%|          | 0/391 [00:00<?, ?it/s]"
          ],
          "name": "stderr"
        },
        {
          "output_type": "stream",
          "text": [
            "test_acc: 0.713\n"
          ],
          "name": "stdout"
        },
        {
          "output_type": "stream",
          "text": [
            "Epoch 136: 100%|██████████| 391/391 [00:24<00:00, 16.15it/s, acc=0.843, xentropy=0.535]\n",
            "  0%|          | 0/391 [00:00<?, ?it/s]"
          ],
          "name": "stderr"
        },
        {
          "output_type": "stream",
          "text": [
            "test_acc: 0.712\n"
          ],
          "name": "stdout"
        },
        {
          "output_type": "stream",
          "text": [
            "Epoch 137: 100%|██████████| 391/391 [00:23<00:00, 16.33it/s, acc=0.843, xentropy=0.539]\n",
            "  0%|          | 0/391 [00:00<?, ?it/s]"
          ],
          "name": "stderr"
        },
        {
          "output_type": "stream",
          "text": [
            "test_acc: 0.713\n"
          ],
          "name": "stdout"
        },
        {
          "output_type": "stream",
          "text": [
            "Epoch 138: 100%|██████████| 391/391 [00:23<00:00, 16.30it/s, acc=0.844, xentropy=0.535]\n",
            "  0%|          | 0/391 [00:00<?, ?it/s]"
          ],
          "name": "stderr"
        },
        {
          "output_type": "stream",
          "text": [
            "test_acc: 0.711\n"
          ],
          "name": "stdout"
        },
        {
          "output_type": "stream",
          "text": [
            "Epoch 139: 100%|██████████| 391/391 [00:24<00:00, 16.24it/s, acc=0.844, xentropy=0.540]\n",
            "  0%|          | 0/391 [00:00<?, ?it/s]"
          ],
          "name": "stderr"
        },
        {
          "output_type": "stream",
          "text": [
            "test_acc: 0.711\n"
          ],
          "name": "stdout"
        },
        {
          "output_type": "stream",
          "text": [
            "Epoch 140: 100%|██████████| 391/391 [00:24<00:00, 16.19it/s, acc=0.842, xentropy=0.540]\n",
            "  0%|          | 0/391 [00:00<?, ?it/s]"
          ],
          "name": "stderr"
        },
        {
          "output_type": "stream",
          "text": [
            "test_acc: 0.711\n"
          ],
          "name": "stdout"
        },
        {
          "output_type": "stream",
          "text": [
            "Epoch 141: 100%|██████████| 391/391 [00:23<00:00, 16.38it/s, acc=0.843, xentropy=0.538]\n",
            "  0%|          | 0/391 [00:00<?, ?it/s]"
          ],
          "name": "stderr"
        },
        {
          "output_type": "stream",
          "text": [
            "test_acc: 0.713\n"
          ],
          "name": "stdout"
        },
        {
          "output_type": "stream",
          "text": [
            "Epoch 142: 100%|██████████| 391/391 [00:24<00:00, 16.04it/s, acc=0.845, xentropy=0.530]\n",
            "  0%|          | 0/391 [00:00<?, ?it/s]"
          ],
          "name": "stderr"
        },
        {
          "output_type": "stream",
          "text": [
            "test_acc: 0.711\n"
          ],
          "name": "stdout"
        },
        {
          "output_type": "stream",
          "text": [
            "Epoch 143: 100%|██████████| 391/391 [00:24<00:00, 16.08it/s, acc=0.847, xentropy=0.529]\n",
            "  0%|          | 0/391 [00:00<?, ?it/s]"
          ],
          "name": "stderr"
        },
        {
          "output_type": "stream",
          "text": [
            "test_acc: 0.713\n"
          ],
          "name": "stdout"
        },
        {
          "output_type": "stream",
          "text": [
            "Epoch 144: 100%|██████████| 391/391 [00:24<00:00, 16.15it/s, acc=0.844, xentropy=0.534]\n",
            "  0%|          | 0/391 [00:00<?, ?it/s]"
          ],
          "name": "stderr"
        },
        {
          "output_type": "stream",
          "text": [
            "test_acc: 0.713\n"
          ],
          "name": "stdout"
        },
        {
          "output_type": "stream",
          "text": [
            "Epoch 145: 100%|██████████| 391/391 [00:24<00:00, 16.15it/s, acc=0.845, xentropy=0.536]\n",
            "  0%|          | 0/391 [00:00<?, ?it/s]"
          ],
          "name": "stderr"
        },
        {
          "output_type": "stream",
          "text": [
            "test_acc: 0.713\n"
          ],
          "name": "stdout"
        },
        {
          "output_type": "stream",
          "text": [
            "Epoch 146: 100%|██████████| 391/391 [00:24<00:00, 16.17it/s, acc=0.844, xentropy=0.538]\n",
            "  0%|          | 0/391 [00:00<?, ?it/s]"
          ],
          "name": "stderr"
        },
        {
          "output_type": "stream",
          "text": [
            "test_acc: 0.710\n"
          ],
          "name": "stdout"
        },
        {
          "output_type": "stream",
          "text": [
            "Epoch 147: 100%|██████████| 391/391 [00:24<00:00, 16.20it/s, acc=0.845, xentropy=0.534]\n",
            "  0%|          | 0/391 [00:00<?, ?it/s]"
          ],
          "name": "stderr"
        },
        {
          "output_type": "stream",
          "text": [
            "test_acc: 0.711\n"
          ],
          "name": "stdout"
        },
        {
          "output_type": "stream",
          "text": [
            "Epoch 148: 100%|██████████| 391/391 [00:23<00:00, 16.34it/s, acc=0.844, xentropy=0.532]\n",
            "  0%|          | 0/391 [00:00<?, ?it/s]"
          ],
          "name": "stderr"
        },
        {
          "output_type": "stream",
          "text": [
            "test_acc: 0.714\n"
          ],
          "name": "stdout"
        },
        {
          "output_type": "stream",
          "text": [
            "Epoch 149: 100%|██████████| 391/391 [00:24<00:00, 16.26it/s, acc=0.843, xentropy=0.536]\n"
          ],
          "name": "stderr"
        },
        {
          "output_type": "stream",
          "text": [
            "test_acc: 0.714\n"
          ],
          "name": "stdout"
        }
      ]
    },
    {
      "cell_type": "code",
      "metadata": {
        "id": "pL2C9rglSUV_",
        "colab_type": "code",
        "colab": {
          "base_uri": "https://localhost:8080/",
          "height": 867
        },
        "outputId": "094add60-97a0-4e83-cb1a-6f6dc7cd9082"
      },
      "source": [
        "train(150,175,0.00005)"
      ],
      "execution_count": 40,
      "outputs": [
        {
          "output_type": "stream",
          "text": [
            "Epoch 150: 100%|██████████| 391/391 [00:24<00:00, 16.03it/s, acc=0.847, xentropy=0.527]\n",
            "  0%|          | 0/391 [00:00<?, ?it/s]"
          ],
          "name": "stderr"
        },
        {
          "output_type": "stream",
          "text": [
            "test_acc: 0.711\n"
          ],
          "name": "stdout"
        },
        {
          "output_type": "stream",
          "text": [
            "Epoch 151: 100%|██████████| 391/391 [00:24<00:00, 15.99it/s, acc=0.848, xentropy=0.524]\n",
            "  0%|          | 0/391 [00:00<?, ?it/s]"
          ],
          "name": "stderr"
        },
        {
          "output_type": "stream",
          "text": [
            "test_acc: 0.710\n"
          ],
          "name": "stdout"
        },
        {
          "output_type": "stream",
          "text": [
            "Epoch 152: 100%|██████████| 391/391 [00:24<00:00, 15.95it/s, acc=0.848, xentropy=0.521]\n",
            "  0%|          | 0/391 [00:00<?, ?it/s]"
          ],
          "name": "stderr"
        },
        {
          "output_type": "stream",
          "text": [
            "test_acc: 0.712\n"
          ],
          "name": "stdout"
        },
        {
          "output_type": "stream",
          "text": [
            "Epoch 153: 100%|██████████| 391/391 [00:24<00:00, 15.92it/s, acc=0.847, xentropy=0.530]\n",
            "  0%|          | 0/391 [00:00<?, ?it/s]"
          ],
          "name": "stderr"
        },
        {
          "output_type": "stream",
          "text": [
            "test_acc: 0.713\n"
          ],
          "name": "stdout"
        },
        {
          "output_type": "stream",
          "text": [
            "Epoch 154: 100%|██████████| 391/391 [00:24<00:00, 15.81it/s, acc=0.847, xentropy=0.527]\n",
            "  0%|          | 0/391 [00:00<?, ?it/s]"
          ],
          "name": "stderr"
        },
        {
          "output_type": "stream",
          "text": [
            "test_acc: 0.710\n"
          ],
          "name": "stdout"
        },
        {
          "output_type": "stream",
          "text": [
            "Epoch 155: 100%|██████████| 391/391 [00:24<00:00, 15.84it/s, acc=0.849, xentropy=0.525]\n",
            "  0%|          | 0/391 [00:00<?, ?it/s]"
          ],
          "name": "stderr"
        },
        {
          "output_type": "stream",
          "text": [
            "test_acc: 0.712\n"
          ],
          "name": "stdout"
        },
        {
          "output_type": "stream",
          "text": [
            "Epoch 156: 100%|██████████| 391/391 [00:24<00:00, 15.95it/s, acc=0.849, xentropy=0.523]\n",
            "  0%|          | 0/391 [00:00<?, ?it/s]"
          ],
          "name": "stderr"
        },
        {
          "output_type": "stream",
          "text": [
            "test_acc: 0.713\n"
          ],
          "name": "stdout"
        },
        {
          "output_type": "stream",
          "text": [
            "Epoch 157: 100%|██████████| 391/391 [00:24<00:00, 15.71it/s, acc=0.848, xentropy=0.527]\n",
            "  0%|          | 0/391 [00:00<?, ?it/s]"
          ],
          "name": "stderr"
        },
        {
          "output_type": "stream",
          "text": [
            "test_acc: 0.711\n"
          ],
          "name": "stdout"
        },
        {
          "output_type": "stream",
          "text": [
            "Epoch 158: 100%|██████████| 391/391 [00:24<00:00, 15.80it/s, acc=0.848, xentropy=0.528]\n",
            "  0%|          | 0/391 [00:00<?, ?it/s]"
          ],
          "name": "stderr"
        },
        {
          "output_type": "stream",
          "text": [
            "test_acc: 0.712\n"
          ],
          "name": "stdout"
        },
        {
          "output_type": "stream",
          "text": [
            "Epoch 159: 100%|██████████| 391/391 [00:24<00:00, 15.82it/s, acc=0.848, xentropy=0.524]\n",
            "  0%|          | 0/391 [00:00<?, ?it/s]"
          ],
          "name": "stderr"
        },
        {
          "output_type": "stream",
          "text": [
            "test_acc: 0.712\n"
          ],
          "name": "stdout"
        },
        {
          "output_type": "stream",
          "text": [
            "Epoch 160: 100%|██████████| 391/391 [00:24<00:00, 15.81it/s, acc=0.848, xentropy=0.528]\n",
            "  0%|          | 0/391 [00:00<?, ?it/s]"
          ],
          "name": "stderr"
        },
        {
          "output_type": "stream",
          "text": [
            "test_acc: 0.711\n"
          ],
          "name": "stdout"
        },
        {
          "output_type": "stream",
          "text": [
            "Epoch 161: 100%|██████████| 391/391 [00:24<00:00, 15.81it/s, acc=0.848, xentropy=0.527]\n",
            "  0%|          | 0/391 [00:00<?, ?it/s]"
          ],
          "name": "stderr"
        },
        {
          "output_type": "stream",
          "text": [
            "test_acc: 0.713\n"
          ],
          "name": "stdout"
        },
        {
          "output_type": "stream",
          "text": [
            "Epoch 162: 100%|██████████| 391/391 [00:25<00:00, 15.51it/s, acc=0.845, xentropy=0.531]\n",
            "  0%|          | 0/391 [00:00<?, ?it/s]"
          ],
          "name": "stderr"
        },
        {
          "output_type": "stream",
          "text": [
            "test_acc: 0.711\n"
          ],
          "name": "stdout"
        },
        {
          "output_type": "stream",
          "text": [
            "Epoch 163: 100%|██████████| 391/391 [00:24<00:00, 15.87it/s, acc=0.846, xentropy=0.531]\n",
            "  0%|          | 0/391 [00:00<?, ?it/s]"
          ],
          "name": "stderr"
        },
        {
          "output_type": "stream",
          "text": [
            "test_acc: 0.713\n"
          ],
          "name": "stdout"
        },
        {
          "output_type": "stream",
          "text": [
            "Epoch 164: 100%|██████████| 391/391 [00:24<00:00, 16.15it/s, acc=0.846, xentropy=0.529]\n",
            "  0%|          | 0/391 [00:00<?, ?it/s]"
          ],
          "name": "stderr"
        },
        {
          "output_type": "stream",
          "text": [
            "test_acc: 0.712\n"
          ],
          "name": "stdout"
        },
        {
          "output_type": "stream",
          "text": [
            "Epoch 165: 100%|██████████| 391/391 [00:24<00:00, 16.26it/s, acc=0.847, xentropy=0.527]\n",
            "  0%|          | 0/391 [00:00<?, ?it/s]"
          ],
          "name": "stderr"
        },
        {
          "output_type": "stream",
          "text": [
            "test_acc: 0.711\n"
          ],
          "name": "stdout"
        },
        {
          "output_type": "stream",
          "text": [
            "Epoch 166: 100%|██████████| 391/391 [00:23<00:00, 16.33it/s, acc=0.847, xentropy=0.528]\n",
            "  0%|          | 0/391 [00:00<?, ?it/s]"
          ],
          "name": "stderr"
        },
        {
          "output_type": "stream",
          "text": [
            "test_acc: 0.712\n"
          ],
          "name": "stdout"
        },
        {
          "output_type": "stream",
          "text": [
            "Epoch 167: 100%|██████████| 391/391 [00:24<00:00, 16.11it/s, acc=0.849, xentropy=0.524]\n",
            "  0%|          | 0/391 [00:00<?, ?it/s]"
          ],
          "name": "stderr"
        },
        {
          "output_type": "stream",
          "text": [
            "test_acc: 0.713\n"
          ],
          "name": "stdout"
        },
        {
          "output_type": "stream",
          "text": [
            "Epoch 168: 100%|██████████| 391/391 [00:24<00:00, 16.02it/s, acc=0.849, xentropy=0.526]\n",
            "  0%|          | 0/391 [00:00<?, ?it/s]"
          ],
          "name": "stderr"
        },
        {
          "output_type": "stream",
          "text": [
            "test_acc: 0.712\n"
          ],
          "name": "stdout"
        },
        {
          "output_type": "stream",
          "text": [
            "Epoch 169: 100%|██████████| 391/391 [00:24<00:00, 16.06it/s, acc=0.849, xentropy=0.524]\n",
            "  0%|          | 0/391 [00:00<?, ?it/s]"
          ],
          "name": "stderr"
        },
        {
          "output_type": "stream",
          "text": [
            "test_acc: 0.711\n"
          ],
          "name": "stdout"
        },
        {
          "output_type": "stream",
          "text": [
            "Epoch 170: 100%|██████████| 391/391 [00:24<00:00, 16.19it/s, acc=0.848, xentropy=0.526]\n",
            "  0%|          | 0/391 [00:00<?, ?it/s]"
          ],
          "name": "stderr"
        },
        {
          "output_type": "stream",
          "text": [
            "test_acc: 0.713\n"
          ],
          "name": "stdout"
        },
        {
          "output_type": "stream",
          "text": [
            "Epoch 171: 100%|██████████| 391/391 [00:24<00:00, 16.00it/s, acc=0.847, xentropy=0.523]\n",
            "  0%|          | 0/391 [00:00<?, ?it/s]"
          ],
          "name": "stderr"
        },
        {
          "output_type": "stream",
          "text": [
            "test_acc: 0.712\n"
          ],
          "name": "stdout"
        },
        {
          "output_type": "stream",
          "text": [
            "Epoch 172: 100%|██████████| 391/391 [00:24<00:00, 15.98it/s, acc=0.848, xentropy=0.524]\n",
            "  0%|          | 0/391 [00:00<?, ?it/s]"
          ],
          "name": "stderr"
        },
        {
          "output_type": "stream",
          "text": [
            "test_acc: 0.710\n"
          ],
          "name": "stdout"
        },
        {
          "output_type": "stream",
          "text": [
            "Epoch 173: 100%|██████████| 391/391 [00:24<00:00, 16.13it/s, acc=0.847, xentropy=0.530]\n",
            "  0%|          | 0/391 [00:00<?, ?it/s]"
          ],
          "name": "stderr"
        },
        {
          "output_type": "stream",
          "text": [
            "test_acc: 0.713\n"
          ],
          "name": "stdout"
        },
        {
          "output_type": "stream",
          "text": [
            "Epoch 174: 100%|██████████| 391/391 [00:24<00:00, 16.11it/s, acc=0.845, xentropy=0.533]\n"
          ],
          "name": "stderr"
        },
        {
          "output_type": "stream",
          "text": [
            "test_acc: 0.714\n"
          ],
          "name": "stdout"
        }
      ]
    },
    {
      "cell_type": "code",
      "metadata": {
        "id": "WLHWohlvVzGZ",
        "colab_type": "code",
        "colab": {
          "base_uri": "https://localhost:8080/",
          "height": 867
        },
        "outputId": "4862af2f-f192-4816-e042-c1e3e5e0703c"
      },
      "source": [
        "train(150,175,0.000025)"
      ],
      "execution_count": 41,
      "outputs": [
        {
          "output_type": "stream",
          "text": [
            "Epoch 150: 100%|██████████| 391/391 [00:23<00:00, 16.35it/s, acc=0.848, xentropy=0.523]\n",
            "  0%|          | 0/391 [00:00<?, ?it/s]"
          ],
          "name": "stderr"
        },
        {
          "output_type": "stream",
          "text": [
            "test_acc: 0.714\n"
          ],
          "name": "stdout"
        },
        {
          "output_type": "stream",
          "text": [
            "Epoch 151: 100%|██████████| 391/391 [00:24<00:00, 16.28it/s, acc=0.849, xentropy=0.521]\n",
            "  0%|          | 0/391 [00:00<?, ?it/s]"
          ],
          "name": "stderr"
        },
        {
          "output_type": "stream",
          "text": [
            "test_acc: 0.714\n"
          ],
          "name": "stdout"
        },
        {
          "output_type": "stream",
          "text": [
            "Epoch 152: 100%|██████████| 391/391 [00:24<00:00, 16.20it/s, acc=0.850, xentropy=0.516]\n",
            "  0%|          | 0/391 [00:00<?, ?it/s]"
          ],
          "name": "stderr"
        },
        {
          "output_type": "stream",
          "text": [
            "test_acc: 0.713\n"
          ],
          "name": "stdout"
        },
        {
          "output_type": "stream",
          "text": [
            "Epoch 153: 100%|██████████| 391/391 [00:24<00:00, 16.27it/s, acc=0.848, xentropy=0.522]\n",
            "  0%|          | 0/391 [00:00<?, ?it/s]"
          ],
          "name": "stderr"
        },
        {
          "output_type": "stream",
          "text": [
            "test_acc: 0.710\n"
          ],
          "name": "stdout"
        },
        {
          "output_type": "stream",
          "text": [
            "Epoch 154: 100%|██████████| 391/391 [00:24<00:00, 16.26it/s, acc=0.848, xentropy=0.521]\n",
            "  0%|          | 0/391 [00:00<?, ?it/s]"
          ],
          "name": "stderr"
        },
        {
          "output_type": "stream",
          "text": [
            "test_acc: 0.714\n"
          ],
          "name": "stdout"
        },
        {
          "output_type": "stream",
          "text": [
            "Epoch 155: 100%|██████████| 391/391 [00:23<00:00, 16.34it/s, acc=0.848, xentropy=0.523]\n",
            "  0%|          | 0/391 [00:00<?, ?it/s]"
          ],
          "name": "stderr"
        },
        {
          "output_type": "stream",
          "text": [
            "test_acc: 0.713\n"
          ],
          "name": "stdout"
        },
        {
          "output_type": "stream",
          "text": [
            "Epoch 156: 100%|██████████| 391/391 [00:24<00:00, 16.19it/s, acc=0.851, xentropy=0.520]\n",
            "  0%|          | 0/391 [00:00<?, ?it/s]"
          ],
          "name": "stderr"
        },
        {
          "output_type": "stream",
          "text": [
            "test_acc: 0.710\n"
          ],
          "name": "stdout"
        },
        {
          "output_type": "stream",
          "text": [
            "Epoch 157: 100%|██████████| 391/391 [00:23<00:00, 16.34it/s, acc=0.848, xentropy=0.520]\n",
            "  0%|          | 0/391 [00:00<?, ?it/s]"
          ],
          "name": "stderr"
        },
        {
          "output_type": "stream",
          "text": [
            "test_acc: 0.711\n"
          ],
          "name": "stdout"
        },
        {
          "output_type": "stream",
          "text": [
            "Epoch 158: 100%|██████████| 391/391 [00:24<00:00, 16.19it/s, acc=0.849, xentropy=0.520]\n",
            "  0%|          | 0/391 [00:00<?, ?it/s]"
          ],
          "name": "stderr"
        },
        {
          "output_type": "stream",
          "text": [
            "test_acc: 0.711\n"
          ],
          "name": "stdout"
        },
        {
          "output_type": "stream",
          "text": [
            "Epoch 159: 100%|██████████| 391/391 [00:24<00:00, 16.12it/s, acc=0.850, xentropy=0.517]\n",
            "  0%|          | 0/391 [00:00<?, ?it/s]"
          ],
          "name": "stderr"
        },
        {
          "output_type": "stream",
          "text": [
            "test_acc: 0.710\n"
          ],
          "name": "stdout"
        },
        {
          "output_type": "stream",
          "text": [
            "Epoch 160: 100%|██████████| 391/391 [00:24<00:00, 16.08it/s, acc=0.850, xentropy=0.516]\n",
            "  0%|          | 0/391 [00:00<?, ?it/s]"
          ],
          "name": "stderr"
        },
        {
          "output_type": "stream",
          "text": [
            "test_acc: 0.712\n"
          ],
          "name": "stdout"
        },
        {
          "output_type": "stream",
          "text": [
            "Epoch 161: 100%|██████████| 391/391 [00:24<00:00, 16.20it/s, acc=0.852, xentropy=0.514]\n",
            "  0%|          | 0/391 [00:00<?, ?it/s]"
          ],
          "name": "stderr"
        },
        {
          "output_type": "stream",
          "text": [
            "test_acc: 0.714\n"
          ],
          "name": "stdout"
        },
        {
          "output_type": "stream",
          "text": [
            "Epoch 162: 100%|██████████| 391/391 [00:24<00:00, 16.25it/s, acc=0.849, xentropy=0.521]\n",
            "  0%|          | 0/391 [00:00<?, ?it/s]"
          ],
          "name": "stderr"
        },
        {
          "output_type": "stream",
          "text": [
            "test_acc: 0.713\n"
          ],
          "name": "stdout"
        },
        {
          "output_type": "stream",
          "text": [
            "Epoch 163: 100%|██████████| 391/391 [00:24<00:00, 16.20it/s, acc=0.850, xentropy=0.520]\n",
            "  0%|          | 0/391 [00:00<?, ?it/s]"
          ],
          "name": "stderr"
        },
        {
          "output_type": "stream",
          "text": [
            "test_acc: 0.713\n"
          ],
          "name": "stdout"
        },
        {
          "output_type": "stream",
          "text": [
            "Epoch 164: 100%|██████████| 391/391 [00:24<00:00, 15.98it/s, acc=0.851, xentropy=0.519]\n",
            "  0%|          | 0/391 [00:00<?, ?it/s]"
          ],
          "name": "stderr"
        },
        {
          "output_type": "stream",
          "text": [
            "test_acc: 0.713\n"
          ],
          "name": "stdout"
        },
        {
          "output_type": "stream",
          "text": [
            "Epoch 165: 100%|██████████| 391/391 [00:24<00:00, 16.15it/s, acc=0.848, xentropy=0.521]\n",
            "  0%|          | 0/391 [00:00<?, ?it/s]"
          ],
          "name": "stderr"
        },
        {
          "output_type": "stream",
          "text": [
            "test_acc: 0.713\n"
          ],
          "name": "stdout"
        },
        {
          "output_type": "stream",
          "text": [
            "Epoch 166: 100%|██████████| 391/391 [00:24<00:00, 16.13it/s, acc=0.850, xentropy=0.517]\n",
            "  0%|          | 0/391 [00:00<?, ?it/s]"
          ],
          "name": "stderr"
        },
        {
          "output_type": "stream",
          "text": [
            "test_acc: 0.712\n"
          ],
          "name": "stdout"
        },
        {
          "output_type": "stream",
          "text": [
            "Epoch 167: 100%|██████████| 391/391 [00:24<00:00, 16.15it/s, acc=0.849, xentropy=0.518]\n",
            "  0%|          | 0/391 [00:00<?, ?it/s]"
          ],
          "name": "stderr"
        },
        {
          "output_type": "stream",
          "text": [
            "test_acc: 0.711\n"
          ],
          "name": "stdout"
        },
        {
          "output_type": "stream",
          "text": [
            "Epoch 168: 100%|██████████| 391/391 [00:24<00:00, 16.11it/s, acc=0.850, xentropy=0.521]\n",
            "  0%|          | 0/391 [00:00<?, ?it/s]"
          ],
          "name": "stderr"
        },
        {
          "output_type": "stream",
          "text": [
            "test_acc: 0.712\n"
          ],
          "name": "stdout"
        },
        {
          "output_type": "stream",
          "text": [
            "Epoch 169: 100%|██████████| 391/391 [00:24<00:00, 16.24it/s, acc=0.851, xentropy=0.518]\n",
            "  0%|          | 0/391 [00:00<?, ?it/s]"
          ],
          "name": "stderr"
        },
        {
          "output_type": "stream",
          "text": [
            "test_acc: 0.710\n"
          ],
          "name": "stdout"
        },
        {
          "output_type": "stream",
          "text": [
            "Epoch 170: 100%|██████████| 391/391 [00:23<00:00, 16.40it/s, acc=0.853, xentropy=0.509]\n",
            "  0%|          | 0/391 [00:00<?, ?it/s]"
          ],
          "name": "stderr"
        },
        {
          "output_type": "stream",
          "text": [
            "test_acc: 0.711\n"
          ],
          "name": "stdout"
        },
        {
          "output_type": "stream",
          "text": [
            "Epoch 171: 100%|██████████| 391/391 [00:24<00:00, 16.23it/s, acc=0.849, xentropy=0.519]\n",
            "  0%|          | 0/391 [00:00<?, ?it/s]"
          ],
          "name": "stderr"
        },
        {
          "output_type": "stream",
          "text": [
            "test_acc: 0.712\n"
          ],
          "name": "stdout"
        },
        {
          "output_type": "stream",
          "text": [
            "Epoch 172: 100%|██████████| 391/391 [00:23<00:00, 16.34it/s, acc=0.849, xentropy=0.518]\n",
            "  0%|          | 0/391 [00:00<?, ?it/s]"
          ],
          "name": "stderr"
        },
        {
          "output_type": "stream",
          "text": [
            "test_acc: 0.712\n"
          ],
          "name": "stdout"
        },
        {
          "output_type": "stream",
          "text": [
            "Epoch 173: 100%|██████████| 391/391 [00:23<00:00, 16.51it/s, acc=0.849, xentropy=0.525]\n",
            "  0%|          | 0/391 [00:00<?, ?it/s]"
          ],
          "name": "stderr"
        },
        {
          "output_type": "stream",
          "text": [
            "test_acc: 0.712\n"
          ],
          "name": "stdout"
        },
        {
          "output_type": "stream",
          "text": [
            "Epoch 174: 100%|██████████| 391/391 [00:24<00:00, 16.17it/s, acc=0.850, xentropy=0.518]\n"
          ],
          "name": "stderr"
        },
        {
          "output_type": "stream",
          "text": [
            "test_acc: 0.712\n"
          ],
          "name": "stdout"
        }
      ]
    },
    {
      "cell_type": "code",
      "metadata": {
        "id": "iOSABlSdYrO4",
        "colab_type": "code",
        "colab": {
          "base_uri": "https://localhost:8080/",
          "height": 867
        },
        "outputId": "28da5bb4-dd81-4968-8b36-488d59705e1d"
      },
      "source": [
        "train(175,200,0.000001)"
      ],
      "execution_count": 42,
      "outputs": [
        {
          "output_type": "stream",
          "text": [
            "Epoch 175: 100%|██████████| 391/391 [00:23<00:00, 18.20it/s, acc=0.851, xentropy=0.513]\n",
            "  0%|          | 0/391 [00:00<?, ?it/s]"
          ],
          "name": "stderr"
        },
        {
          "output_type": "stream",
          "text": [
            "test_acc: 0.713\n"
          ],
          "name": "stdout"
        },
        {
          "output_type": "stream",
          "text": [
            "Epoch 176: 100%|██████████| 391/391 [00:23<00:00, 16.71it/s, acc=0.851, xentropy=0.514]\n",
            "  0%|          | 0/391 [00:00<?, ?it/s]"
          ],
          "name": "stderr"
        },
        {
          "output_type": "stream",
          "text": [
            "test_acc: 0.713\n"
          ],
          "name": "stdout"
        },
        {
          "output_type": "stream",
          "text": [
            "Epoch 177: 100%|██████████| 391/391 [00:23<00:00, 16.54it/s, acc=0.850, xentropy=0.517]\n",
            "  0%|          | 0/391 [00:00<?, ?it/s]"
          ],
          "name": "stderr"
        },
        {
          "output_type": "stream",
          "text": [
            "test_acc: 0.713\n"
          ],
          "name": "stdout"
        },
        {
          "output_type": "stream",
          "text": [
            "Epoch 178: 100%|██████████| 391/391 [00:23<00:00, 16.46it/s, acc=0.850, xentropy=0.515]\n",
            "  0%|          | 0/391 [00:00<?, ?it/s]"
          ],
          "name": "stderr"
        },
        {
          "output_type": "stream",
          "text": [
            "test_acc: 0.713\n"
          ],
          "name": "stdout"
        },
        {
          "output_type": "stream",
          "text": [
            "Epoch 179: 100%|██████████| 391/391 [00:23<00:00, 16.50it/s, acc=0.852, xentropy=0.516]\n",
            "  0%|          | 0/391 [00:00<?, ?it/s]"
          ],
          "name": "stderr"
        },
        {
          "output_type": "stream",
          "text": [
            "test_acc: 0.712\n"
          ],
          "name": "stdout"
        },
        {
          "output_type": "stream",
          "text": [
            "Epoch 180: 100%|██████████| 391/391 [00:23<00:00, 16.54it/s, acc=0.850, xentropy=0.522]\n",
            "  0%|          | 0/391 [00:00<?, ?it/s]"
          ],
          "name": "stderr"
        },
        {
          "output_type": "stream",
          "text": [
            "test_acc: 0.712\n"
          ],
          "name": "stdout"
        },
        {
          "output_type": "stream",
          "text": [
            "Epoch 181: 100%|██████████| 391/391 [00:23<00:00, 16.49it/s, acc=0.852, xentropy=0.517]\n",
            "  0%|          | 0/391 [00:00<?, ?it/s]"
          ],
          "name": "stderr"
        },
        {
          "output_type": "stream",
          "text": [
            "test_acc: 0.713\n"
          ],
          "name": "stdout"
        },
        {
          "output_type": "stream",
          "text": [
            "Epoch 182: 100%|██████████| 391/391 [00:23<00:00, 16.30it/s, acc=0.848, xentropy=0.520]\n",
            "  0%|          | 0/391 [00:00<?, ?it/s]"
          ],
          "name": "stderr"
        },
        {
          "output_type": "stream",
          "text": [
            "test_acc: 0.711\n"
          ],
          "name": "stdout"
        },
        {
          "output_type": "stream",
          "text": [
            "Epoch 183: 100%|██████████| 391/391 [00:24<00:00, 16.15it/s, acc=0.850, xentropy=0.515]\n",
            "  0%|          | 0/391 [00:00<?, ?it/s]"
          ],
          "name": "stderr"
        },
        {
          "output_type": "stream",
          "text": [
            "test_acc: 0.712\n"
          ],
          "name": "stdout"
        },
        {
          "output_type": "stream",
          "text": [
            "Epoch 184: 100%|██████████| 391/391 [00:23<00:00, 16.40it/s, acc=0.850, xentropy=0.516]\n",
            "  0%|          | 0/391 [00:00<?, ?it/s]"
          ],
          "name": "stderr"
        },
        {
          "output_type": "stream",
          "text": [
            "test_acc: 0.713\n"
          ],
          "name": "stdout"
        },
        {
          "output_type": "stream",
          "text": [
            "Epoch 185: 100%|██████████| 391/391 [00:23<00:00, 16.35it/s, acc=0.852, xentropy=0.516]\n",
            "  0%|          | 0/391 [00:00<?, ?it/s]"
          ],
          "name": "stderr"
        },
        {
          "output_type": "stream",
          "text": [
            "test_acc: 0.712\n"
          ],
          "name": "stdout"
        },
        {
          "output_type": "stream",
          "text": [
            "Epoch 186: 100%|██████████| 391/391 [00:23<00:00, 16.37it/s, acc=0.853, xentropy=0.516]\n",
            "  0%|          | 0/391 [00:00<?, ?it/s]"
          ],
          "name": "stderr"
        },
        {
          "output_type": "stream",
          "text": [
            "test_acc: 0.714\n"
          ],
          "name": "stdout"
        },
        {
          "output_type": "stream",
          "text": [
            "Epoch 187: 100%|██████████| 391/391 [00:23<00:00, 16.56it/s, acc=0.850, xentropy=0.515]\n",
            "  0%|          | 0/391 [00:00<?, ?it/s]"
          ],
          "name": "stderr"
        },
        {
          "output_type": "stream",
          "text": [
            "test_acc: 0.712\n"
          ],
          "name": "stdout"
        },
        {
          "output_type": "stream",
          "text": [
            "Epoch 188: 100%|██████████| 391/391 [00:23<00:00, 16.39it/s, acc=0.853, xentropy=0.518]\n",
            "  0%|          | 0/391 [00:00<?, ?it/s]"
          ],
          "name": "stderr"
        },
        {
          "output_type": "stream",
          "text": [
            "test_acc: 0.713\n"
          ],
          "name": "stdout"
        },
        {
          "output_type": "stream",
          "text": [
            "Epoch 189: 100%|██████████| 391/391 [00:24<00:00, 16.28it/s, acc=0.850, xentropy=0.518]\n",
            "  0%|          | 0/391 [00:00<?, ?it/s]"
          ],
          "name": "stderr"
        },
        {
          "output_type": "stream",
          "text": [
            "test_acc: 0.713\n"
          ],
          "name": "stdout"
        },
        {
          "output_type": "stream",
          "text": [
            "Epoch 190: 100%|██████████| 391/391 [00:23<00:00, 16.54it/s, acc=0.849, xentropy=0.516]\n",
            "  0%|          | 0/391 [00:00<?, ?it/s]"
          ],
          "name": "stderr"
        },
        {
          "output_type": "stream",
          "text": [
            "test_acc: 0.712\n"
          ],
          "name": "stdout"
        },
        {
          "output_type": "stream",
          "text": [
            "Epoch 191: 100%|██████████| 391/391 [00:23<00:00, 16.32it/s, acc=0.850, xentropy=0.519]\n",
            "  0%|          | 0/391 [00:00<?, ?it/s]"
          ],
          "name": "stderr"
        },
        {
          "output_type": "stream",
          "text": [
            "test_acc: 0.711\n"
          ],
          "name": "stdout"
        },
        {
          "output_type": "stream",
          "text": [
            "Epoch 192: 100%|██████████| 391/391 [00:24<00:00, 16.28it/s, acc=0.853, xentropy=0.512]\n",
            "  0%|          | 0/391 [00:00<?, ?it/s]"
          ],
          "name": "stderr"
        },
        {
          "output_type": "stream",
          "text": [
            "test_acc: 0.713\n"
          ],
          "name": "stdout"
        },
        {
          "output_type": "stream",
          "text": [
            "Epoch 193: 100%|██████████| 391/391 [00:24<00:00, 16.28it/s, acc=0.853, xentropy=0.510]\n",
            "  0%|          | 0/391 [00:00<?, ?it/s]"
          ],
          "name": "stderr"
        },
        {
          "output_type": "stream",
          "text": [
            "test_acc: 0.713\n"
          ],
          "name": "stdout"
        },
        {
          "output_type": "stream",
          "text": [
            "Epoch 194: 100%|██████████| 391/391 [00:23<00:00, 16.35it/s, acc=0.852, xentropy=0.511]\n",
            "  0%|          | 0/391 [00:00<?, ?it/s]"
          ],
          "name": "stderr"
        },
        {
          "output_type": "stream",
          "text": [
            "test_acc: 0.711\n"
          ],
          "name": "stdout"
        },
        {
          "output_type": "stream",
          "text": [
            "Epoch 195: 100%|██████████| 391/391 [00:24<00:00, 16.23it/s, acc=0.849, xentropy=0.516]\n",
            "  0%|          | 0/391 [00:00<?, ?it/s]"
          ],
          "name": "stderr"
        },
        {
          "output_type": "stream",
          "text": [
            "test_acc: 0.712\n"
          ],
          "name": "stdout"
        },
        {
          "output_type": "stream",
          "text": [
            "Epoch 196: 100%|██████████| 391/391 [00:23<00:00, 16.40it/s, acc=0.853, xentropy=0.515]\n",
            "  0%|          | 0/391 [00:00<?, ?it/s]"
          ],
          "name": "stderr"
        },
        {
          "output_type": "stream",
          "text": [
            "test_acc: 0.712\n"
          ],
          "name": "stdout"
        },
        {
          "output_type": "stream",
          "text": [
            "Epoch 197: 100%|██████████| 391/391 [00:24<00:00, 16.16it/s, acc=0.851, xentropy=0.514]\n",
            "  0%|          | 0/391 [00:00<?, ?it/s]"
          ],
          "name": "stderr"
        },
        {
          "output_type": "stream",
          "text": [
            "test_acc: 0.712\n"
          ],
          "name": "stdout"
        },
        {
          "output_type": "stream",
          "text": [
            "Epoch 198: 100%|██████████| 391/391 [00:23<00:00, 16.32it/s, acc=0.853, xentropy=0.512]\n",
            "  0%|          | 0/391 [00:00<?, ?it/s]"
          ],
          "name": "stderr"
        },
        {
          "output_type": "stream",
          "text": [
            "test_acc: 0.714\n"
          ],
          "name": "stdout"
        },
        {
          "output_type": "stream",
          "text": [
            "Epoch 199: 100%|██████████| 391/391 [00:24<00:00, 16.28it/s, acc=0.850, xentropy=0.519]\n"
          ],
          "name": "stderr"
        },
        {
          "output_type": "stream",
          "text": [
            "test_acc: 0.713\n"
          ],
          "name": "stdout"
        }
      ]
    },
    {
      "cell_type": "code",
      "metadata": {
        "id": "cjMrtH_RbqC0",
        "colab_type": "code",
        "colab": {
          "base_uri": "https://localhost:8080/",
          "height": 867
        },
        "outputId": "f96d68f9-e3c1-4afa-b0ef-1e5604051cba"
      },
      "source": [
        "train(200,225,0.00001)"
      ],
      "execution_count": 43,
      "outputs": [
        {
          "output_type": "stream",
          "text": [
            "Epoch 200: 100%|██████████| 391/391 [00:23<00:00, 16.49it/s, acc=0.851, xentropy=0.514]\n",
            "  0%|          | 0/391 [00:00<?, ?it/s]"
          ],
          "name": "stderr"
        },
        {
          "output_type": "stream",
          "text": [
            "test_acc: 0.711\n"
          ],
          "name": "stdout"
        },
        {
          "output_type": "stream",
          "text": [
            "Epoch 201: 100%|██████████| 391/391 [00:23<00:00, 16.36it/s, acc=0.851, xentropy=0.515]\n",
            "  0%|          | 0/391 [00:00<?, ?it/s]"
          ],
          "name": "stderr"
        },
        {
          "output_type": "stream",
          "text": [
            "test_acc: 0.712\n"
          ],
          "name": "stdout"
        },
        {
          "output_type": "stream",
          "text": [
            "Epoch 202: 100%|██████████| 391/391 [00:24<00:00, 16.23it/s, acc=0.850, xentropy=0.521]\n",
            "  0%|          | 0/391 [00:00<?, ?it/s]"
          ],
          "name": "stderr"
        },
        {
          "output_type": "stream",
          "text": [
            "test_acc: 0.713\n"
          ],
          "name": "stdout"
        },
        {
          "output_type": "stream",
          "text": [
            "Epoch 203: 100%|██████████| 391/391 [00:24<00:00, 16.24it/s, acc=0.851, xentropy=0.517]\n",
            "  0%|          | 0/391 [00:00<?, ?it/s]"
          ],
          "name": "stderr"
        },
        {
          "output_type": "stream",
          "text": [
            "test_acc: 0.712\n"
          ],
          "name": "stdout"
        },
        {
          "output_type": "stream",
          "text": [
            "Epoch 204: 100%|██████████| 391/391 [00:23<00:00, 16.31it/s, acc=0.849, xentropy=0.518]\n",
            "  0%|          | 0/391 [00:00<?, ?it/s]"
          ],
          "name": "stderr"
        },
        {
          "output_type": "stream",
          "text": [
            "test_acc: 0.712\n"
          ],
          "name": "stdout"
        },
        {
          "output_type": "stream",
          "text": [
            "Epoch 205: 100%|██████████| 391/391 [00:23<00:00, 16.37it/s, acc=0.850, xentropy=0.515]\n",
            "  0%|          | 0/391 [00:00<?, ?it/s]"
          ],
          "name": "stderr"
        },
        {
          "output_type": "stream",
          "text": [
            "test_acc: 0.712\n"
          ],
          "name": "stdout"
        },
        {
          "output_type": "stream",
          "text": [
            "Epoch 206: 100%|██████████| 391/391 [00:24<00:00, 16.12it/s, acc=0.850, xentropy=0.520]\n",
            "  0%|          | 0/391 [00:00<?, ?it/s]"
          ],
          "name": "stderr"
        },
        {
          "output_type": "stream",
          "text": [
            "test_acc: 0.712\n"
          ],
          "name": "stdout"
        },
        {
          "output_type": "stream",
          "text": [
            "Epoch 207: 100%|██████████| 391/391 [00:23<00:00, 16.46it/s, acc=0.848, xentropy=0.519]\n",
            "  0%|          | 0/391 [00:00<?, ?it/s]"
          ],
          "name": "stderr"
        },
        {
          "output_type": "stream",
          "text": [
            "test_acc: 0.713\n"
          ],
          "name": "stdout"
        },
        {
          "output_type": "stream",
          "text": [
            "Epoch 208: 100%|██████████| 391/391 [00:24<00:00, 16.27it/s, acc=0.849, xentropy=0.522]\n",
            "  0%|          | 0/391 [00:00<?, ?it/s]"
          ],
          "name": "stderr"
        },
        {
          "output_type": "stream",
          "text": [
            "test_acc: 0.713\n"
          ],
          "name": "stdout"
        },
        {
          "output_type": "stream",
          "text": [
            "Epoch 209: 100%|██████████| 391/391 [00:24<00:00, 16.21it/s, acc=0.850, xentropy=0.518]\n",
            "  0%|          | 0/391 [00:00<?, ?it/s]"
          ],
          "name": "stderr"
        },
        {
          "output_type": "stream",
          "text": [
            "test_acc: 0.710\n"
          ],
          "name": "stdout"
        },
        {
          "output_type": "stream",
          "text": [
            "Epoch 210: 100%|██████████| 391/391 [00:23<00:00, 16.33it/s, acc=0.849, xentropy=0.517]\n",
            "  0%|          | 0/391 [00:00<?, ?it/s]"
          ],
          "name": "stderr"
        },
        {
          "output_type": "stream",
          "text": [
            "test_acc: 0.713\n"
          ],
          "name": "stdout"
        },
        {
          "output_type": "stream",
          "text": [
            "Epoch 211: 100%|██████████| 391/391 [00:23<00:00, 16.45it/s, acc=0.851, xentropy=0.514]\n",
            "  0%|          | 0/391 [00:00<?, ?it/s]"
          ],
          "name": "stderr"
        },
        {
          "output_type": "stream",
          "text": [
            "test_acc: 0.712\n"
          ],
          "name": "stdout"
        },
        {
          "output_type": "stream",
          "text": [
            "Epoch 212: 100%|██████████| 391/391 [00:24<00:00, 16.18it/s, acc=0.852, xentropy=0.514]\n",
            "  0%|          | 0/391 [00:00<?, ?it/s]"
          ],
          "name": "stderr"
        },
        {
          "output_type": "stream",
          "text": [
            "test_acc: 0.713\n"
          ],
          "name": "stdout"
        },
        {
          "output_type": "stream",
          "text": [
            "Epoch 213: 100%|██████████| 391/391 [00:23<00:00, 16.30it/s, acc=0.849, xentropy=0.517]\n",
            "  0%|          | 0/391 [00:00<?, ?it/s]"
          ],
          "name": "stderr"
        },
        {
          "output_type": "stream",
          "text": [
            "test_acc: 0.710\n"
          ],
          "name": "stdout"
        },
        {
          "output_type": "stream",
          "text": [
            "Epoch 214: 100%|██████████| 391/391 [00:23<00:00, 16.29it/s, acc=0.851, xentropy=0.514]\n",
            "  0%|          | 0/391 [00:00<?, ?it/s]"
          ],
          "name": "stderr"
        },
        {
          "output_type": "stream",
          "text": [
            "test_acc: 0.712\n"
          ],
          "name": "stdout"
        },
        {
          "output_type": "stream",
          "text": [
            "Epoch 215: 100%|██████████| 391/391 [00:23<00:00, 16.37it/s, acc=0.851, xentropy=0.516]\n",
            "  0%|          | 0/391 [00:00<?, ?it/s]"
          ],
          "name": "stderr"
        },
        {
          "output_type": "stream",
          "text": [
            "test_acc: 0.710\n"
          ],
          "name": "stdout"
        },
        {
          "output_type": "stream",
          "text": [
            "Epoch 216: 100%|██████████| 391/391 [00:24<00:00, 16.25it/s, acc=0.848, xentropy=0.523]\n",
            "  0%|          | 0/391 [00:00<?, ?it/s]"
          ],
          "name": "stderr"
        },
        {
          "output_type": "stream",
          "text": [
            "test_acc: 0.710\n"
          ],
          "name": "stdout"
        },
        {
          "output_type": "stream",
          "text": [
            "Epoch 217: 100%|██████████| 391/391 [00:24<00:00, 16.14it/s, acc=0.851, xentropy=0.514]\n",
            "  0%|          | 0/391 [00:00<?, ?it/s]"
          ],
          "name": "stderr"
        },
        {
          "output_type": "stream",
          "text": [
            "test_acc: 0.711\n"
          ],
          "name": "stdout"
        },
        {
          "output_type": "stream",
          "text": [
            "Epoch 218: 100%|██████████| 391/391 [00:23<00:00, 16.37it/s, acc=0.852, xentropy=0.514]\n",
            "  0%|          | 0/391 [00:00<?, ?it/s]"
          ],
          "name": "stderr"
        },
        {
          "output_type": "stream",
          "text": [
            "test_acc: 0.711\n"
          ],
          "name": "stdout"
        },
        {
          "output_type": "stream",
          "text": [
            "Epoch 219: 100%|██████████| 391/391 [00:23<00:00, 16.53it/s, acc=0.851, xentropy=0.515]\n",
            "  0%|          | 0/391 [00:00<?, ?it/s]"
          ],
          "name": "stderr"
        },
        {
          "output_type": "stream",
          "text": [
            "test_acc: 0.711\n"
          ],
          "name": "stdout"
        },
        {
          "output_type": "stream",
          "text": [
            "Epoch 220: 100%|██████████| 391/391 [00:23<00:00, 16.32it/s, acc=0.850, xentropy=0.516]\n",
            "  0%|          | 0/391 [00:00<?, ?it/s]"
          ],
          "name": "stderr"
        },
        {
          "output_type": "stream",
          "text": [
            "test_acc: 0.710\n"
          ],
          "name": "stdout"
        },
        {
          "output_type": "stream",
          "text": [
            "Epoch 221: 100%|██████████| 391/391 [00:23<00:00, 16.42it/s, acc=0.850, xentropy=0.517]\n",
            "  0%|          | 0/391 [00:00<?, ?it/s]"
          ],
          "name": "stderr"
        },
        {
          "output_type": "stream",
          "text": [
            "test_acc: 0.713\n"
          ],
          "name": "stdout"
        },
        {
          "output_type": "stream",
          "text": [
            "Epoch 222: 100%|██████████| 391/391 [00:23<00:00, 16.35it/s, acc=0.849, xentropy=0.516]\n",
            "  0%|          | 0/391 [00:00<?, ?it/s]"
          ],
          "name": "stderr"
        },
        {
          "output_type": "stream",
          "text": [
            "test_acc: 0.713\n"
          ],
          "name": "stdout"
        },
        {
          "output_type": "stream",
          "text": [
            "Epoch 223: 100%|██████████| 391/391 [00:23<00:00, 16.38it/s, acc=0.851, xentropy=0.515]\n",
            "  0%|          | 0/391 [00:00<?, ?it/s]"
          ],
          "name": "stderr"
        },
        {
          "output_type": "stream",
          "text": [
            "test_acc: 0.712\n"
          ],
          "name": "stdout"
        },
        {
          "output_type": "stream",
          "text": [
            "Epoch 224: 100%|██████████| 391/391 [00:23<00:00, 16.44it/s, acc=0.850, xentropy=0.517]\n"
          ],
          "name": "stderr"
        },
        {
          "output_type": "stream",
          "text": [
            "test_acc: 0.711\n"
          ],
          "name": "stdout"
        }
      ]
    },
    {
      "cell_type": "code",
      "metadata": {
        "id": "-hWFE-6UeP7Q",
        "colab_type": "code",
        "colab": {
          "base_uri": "https://localhost:8080/",
          "height": 867
        },
        "outputId": "cf4a690c-b54d-4a6b-d81d-c608048114cb"
      },
      "source": [
        "train(225,250,0.00005)"
      ],
      "execution_count": 44,
      "outputs": [
        {
          "output_type": "stream",
          "text": [
            "Epoch 225: 100%|██████████| 391/391 [00:23<00:00, 16.69it/s, acc=0.850, xentropy=0.519]\n",
            "  0%|          | 0/391 [00:00<?, ?it/s]"
          ],
          "name": "stderr"
        },
        {
          "output_type": "stream",
          "text": [
            "test_acc: 0.711\n"
          ],
          "name": "stdout"
        },
        {
          "output_type": "stream",
          "text": [
            "Epoch 226: 100%|██████████| 391/391 [00:23<00:00, 16.48it/s, acc=0.846, xentropy=0.524]\n",
            "  0%|          | 0/391 [00:00<?, ?it/s]"
          ],
          "name": "stderr"
        },
        {
          "output_type": "stream",
          "text": [
            "test_acc: 0.712\n"
          ],
          "name": "stdout"
        },
        {
          "output_type": "stream",
          "text": [
            "Epoch 227: 100%|██████████| 391/391 [00:24<00:00, 16.26it/s, acc=0.849, xentropy=0.520]\n",
            "  0%|          | 0/391 [00:00<?, ?it/s]"
          ],
          "name": "stderr"
        },
        {
          "output_type": "stream",
          "text": [
            "test_acc: 0.712\n"
          ],
          "name": "stdout"
        },
        {
          "output_type": "stream",
          "text": [
            "Epoch 228: 100%|██████████| 391/391 [00:24<00:00, 16.28it/s, acc=0.849, xentropy=0.524]\n",
            "  0%|          | 0/391 [00:00<?, ?it/s]"
          ],
          "name": "stderr"
        },
        {
          "output_type": "stream",
          "text": [
            "test_acc: 0.709\n"
          ],
          "name": "stdout"
        },
        {
          "output_type": "stream",
          "text": [
            "Epoch 229: 100%|██████████| 391/391 [00:23<00:00, 16.38it/s, acc=0.847, xentropy=0.523]\n",
            "  0%|          | 0/391 [00:00<?, ?it/s]"
          ],
          "name": "stderr"
        },
        {
          "output_type": "stream",
          "text": [
            "test_acc: 0.711\n"
          ],
          "name": "stdout"
        },
        {
          "output_type": "stream",
          "text": [
            "Epoch 230: 100%|██████████| 391/391 [00:23<00:00, 16.48it/s, acc=0.847, xentropy=0.527]\n",
            "  0%|          | 0/391 [00:00<?, ?it/s]"
          ],
          "name": "stderr"
        },
        {
          "output_type": "stream",
          "text": [
            "test_acc: 0.712\n"
          ],
          "name": "stdout"
        },
        {
          "output_type": "stream",
          "text": [
            "Epoch 231: 100%|██████████| 391/391 [00:23<00:00, 16.40it/s, acc=0.849, xentropy=0.519]\n",
            "  0%|          | 0/391 [00:00<?, ?it/s]"
          ],
          "name": "stderr"
        },
        {
          "output_type": "stream",
          "text": [
            "test_acc: 0.711\n"
          ],
          "name": "stdout"
        },
        {
          "output_type": "stream",
          "text": [
            "Epoch 232: 100%|██████████| 391/391 [00:23<00:00, 16.40it/s, acc=0.848, xentropy=0.524]\n",
            "  0%|          | 0/391 [00:00<?, ?it/s]"
          ],
          "name": "stderr"
        },
        {
          "output_type": "stream",
          "text": [
            "test_acc: 0.710\n"
          ],
          "name": "stdout"
        },
        {
          "output_type": "stream",
          "text": [
            "Epoch 233: 100%|██████████| 391/391 [00:24<00:00, 16.27it/s, acc=0.848, xentropy=0.525]\n",
            "  0%|          | 0/391 [00:00<?, ?it/s]"
          ],
          "name": "stderr"
        },
        {
          "output_type": "stream",
          "text": [
            "test_acc: 0.711\n"
          ],
          "name": "stdout"
        },
        {
          "output_type": "stream",
          "text": [
            "Epoch 234: 100%|██████████| 391/391 [00:23<00:00, 16.43it/s, acc=0.850, xentropy=0.520]\n",
            "  0%|          | 0/391 [00:00<?, ?it/s]"
          ],
          "name": "stderr"
        },
        {
          "output_type": "stream",
          "text": [
            "test_acc: 0.711\n"
          ],
          "name": "stdout"
        },
        {
          "output_type": "stream",
          "text": [
            "Epoch 235: 100%|██████████| 391/391 [00:24<00:00, 16.18it/s, acc=0.851, xentropy=0.515]\n",
            "  0%|          | 0/391 [00:00<?, ?it/s]"
          ],
          "name": "stderr"
        },
        {
          "output_type": "stream",
          "text": [
            "test_acc: 0.712\n"
          ],
          "name": "stdout"
        },
        {
          "output_type": "stream",
          "text": [
            "Epoch 236: 100%|██████████| 391/391 [00:23<00:00, 16.34it/s, acc=0.850, xentropy=0.522]\n",
            "  0%|          | 0/391 [00:00<?, ?it/s]"
          ],
          "name": "stderr"
        },
        {
          "output_type": "stream",
          "text": [
            "test_acc: 0.712\n"
          ],
          "name": "stdout"
        },
        {
          "output_type": "stream",
          "text": [
            "Epoch 237: 100%|██████████| 391/391 [00:23<00:00, 16.36it/s, acc=0.847, xentropy=0.523]\n",
            "  0%|          | 0/391 [00:00<?, ?it/s]"
          ],
          "name": "stderr"
        },
        {
          "output_type": "stream",
          "text": [
            "test_acc: 0.712\n"
          ],
          "name": "stdout"
        },
        {
          "output_type": "stream",
          "text": [
            "Epoch 238: 100%|██████████| 391/391 [00:24<00:00, 16.26it/s, acc=0.851, xentropy=0.516]\n",
            "  0%|          | 0/391 [00:00<?, ?it/s]"
          ],
          "name": "stderr"
        },
        {
          "output_type": "stream",
          "text": [
            "test_acc: 0.711\n"
          ],
          "name": "stdout"
        },
        {
          "output_type": "stream",
          "text": [
            "Epoch 239: 100%|██████████| 391/391 [00:24<00:00, 16.19it/s, acc=0.848, xentropy=0.525]\n",
            "  0%|          | 0/391 [00:00<?, ?it/s]"
          ],
          "name": "stderr"
        },
        {
          "output_type": "stream",
          "text": [
            "test_acc: 0.710\n"
          ],
          "name": "stdout"
        },
        {
          "output_type": "stream",
          "text": [
            "Epoch 240: 100%|██████████| 391/391 [00:23<00:00, 16.32it/s, acc=0.847, xentropy=0.524]\n",
            "  0%|          | 0/391 [00:00<?, ?it/s]"
          ],
          "name": "stderr"
        },
        {
          "output_type": "stream",
          "text": [
            "test_acc: 0.712\n"
          ],
          "name": "stdout"
        },
        {
          "output_type": "stream",
          "text": [
            "Epoch 241: 100%|██████████| 391/391 [00:24<00:00, 16.11it/s, acc=0.848, xentropy=0.525]\n",
            "  0%|          | 0/391 [00:00<?, ?it/s]"
          ],
          "name": "stderr"
        },
        {
          "output_type": "stream",
          "text": [
            "test_acc: 0.712\n"
          ],
          "name": "stdout"
        },
        {
          "output_type": "stream",
          "text": [
            "Epoch 242: 100%|██████████| 391/391 [00:23<00:00, 16.51it/s, acc=0.850, xentropy=0.518]\n",
            "  0%|          | 0/391 [00:00<?, ?it/s]"
          ],
          "name": "stderr"
        },
        {
          "output_type": "stream",
          "text": [
            "test_acc: 0.712\n"
          ],
          "name": "stdout"
        },
        {
          "output_type": "stream",
          "text": [
            "Epoch 243: 100%|██████████| 391/391 [00:23<00:00, 16.38it/s, acc=0.850, xentropy=0.518]\n",
            "  0%|          | 0/391 [00:00<?, ?it/s]"
          ],
          "name": "stderr"
        },
        {
          "output_type": "stream",
          "text": [
            "test_acc: 0.710\n"
          ],
          "name": "stdout"
        },
        {
          "output_type": "stream",
          "text": [
            "Epoch 244: 100%|██████████| 391/391 [00:23<00:00, 16.31it/s, acc=0.847, xentropy=0.527]\n",
            "  0%|          | 0/391 [00:00<?, ?it/s]"
          ],
          "name": "stderr"
        },
        {
          "output_type": "stream",
          "text": [
            "test_acc: 0.713\n"
          ],
          "name": "stdout"
        },
        {
          "output_type": "stream",
          "text": [
            "Epoch 245: 100%|██████████| 391/391 [00:23<00:00, 16.38it/s, acc=0.851, xentropy=0.515]\n",
            "  0%|          | 0/391 [00:00<?, ?it/s]"
          ],
          "name": "stderr"
        },
        {
          "output_type": "stream",
          "text": [
            "test_acc: 0.712\n"
          ],
          "name": "stdout"
        },
        {
          "output_type": "stream",
          "text": [
            "Epoch 246: 100%|██████████| 391/391 [00:23<00:00, 16.40it/s, acc=0.848, xentropy=0.520]\n",
            "  0%|          | 0/391 [00:00<?, ?it/s]"
          ],
          "name": "stderr"
        },
        {
          "output_type": "stream",
          "text": [
            "test_acc: 0.711\n"
          ],
          "name": "stdout"
        },
        {
          "output_type": "stream",
          "text": [
            "Epoch 247: 100%|██████████| 391/391 [00:24<00:00, 16.26it/s, acc=0.848, xentropy=0.523]\n",
            "  0%|          | 0/391 [00:00<?, ?it/s]"
          ],
          "name": "stderr"
        },
        {
          "output_type": "stream",
          "text": [
            "test_acc: 0.711\n"
          ],
          "name": "stdout"
        },
        {
          "output_type": "stream",
          "text": [
            "Epoch 248: 100%|██████████| 391/391 [00:23<00:00, 16.37it/s, acc=0.850, xentropy=0.517]\n",
            "  0%|          | 0/391 [00:00<?, ?it/s]"
          ],
          "name": "stderr"
        },
        {
          "output_type": "stream",
          "text": [
            "test_acc: 0.711\n"
          ],
          "name": "stdout"
        },
        {
          "output_type": "stream",
          "text": [
            "Epoch 249: 100%|██████████| 391/391 [00:23<00:00, 16.43it/s, acc=0.847, xentropy=0.524]\n"
          ],
          "name": "stderr"
        },
        {
          "output_type": "stream",
          "text": [
            "test_acc: 0.714\n"
          ],
          "name": "stdout"
        }
      ]
    },
    {
      "cell_type": "code",
      "metadata": {
        "id": "voxaqDeyg0gt",
        "colab_type": "code",
        "colab": {
          "base_uri": "https://localhost:8080/",
          "height": 867
        },
        "outputId": "c9b34c94-2cac-4f9b-85a8-58f0d1f855f5"
      },
      "source": [
        "train(250,275,0.0001)"
      ],
      "execution_count": 45,
      "outputs": [
        {
          "output_type": "stream",
          "text": [
            "Epoch 250: 100%|██████████| 391/391 [00:23<00:00, 16.40it/s, acc=0.846, xentropy=0.528]\n",
            "  0%|          | 0/391 [00:00<?, ?it/s]"
          ],
          "name": "stderr"
        },
        {
          "output_type": "stream",
          "text": [
            "test_acc: 0.710\n"
          ],
          "name": "stdout"
        },
        {
          "output_type": "stream",
          "text": [
            "Epoch 251: 100%|██████████| 391/391 [00:23<00:00, 16.55it/s, acc=0.848, xentropy=0.522]\n",
            "  0%|          | 0/391 [00:00<?, ?it/s]"
          ],
          "name": "stderr"
        },
        {
          "output_type": "stream",
          "text": [
            "test_acc: 0.712\n"
          ],
          "name": "stdout"
        },
        {
          "output_type": "stream",
          "text": [
            "Epoch 252: 100%|██████████| 391/391 [00:23<00:00, 16.32it/s, acc=0.848, xentropy=0.526]\n",
            "  0%|          | 0/391 [00:00<?, ?it/s]"
          ],
          "name": "stderr"
        },
        {
          "output_type": "stream",
          "text": [
            "test_acc: 0.711\n"
          ],
          "name": "stdout"
        },
        {
          "output_type": "stream",
          "text": [
            "Epoch 253: 100%|██████████| 391/391 [00:23<00:00, 16.37it/s, acc=0.847, xentropy=0.524]\n",
            "  0%|          | 0/391 [00:00<?, ?it/s]"
          ],
          "name": "stderr"
        },
        {
          "output_type": "stream",
          "text": [
            "test_acc: 0.712\n"
          ],
          "name": "stdout"
        },
        {
          "output_type": "stream",
          "text": [
            "Epoch 254: 100%|██████████| 391/391 [00:24<00:00, 16.23it/s, acc=0.847, xentropy=0.525]\n",
            "  0%|          | 0/391 [00:00<?, ?it/s]"
          ],
          "name": "stderr"
        },
        {
          "output_type": "stream",
          "text": [
            "test_acc: 0.712\n"
          ],
          "name": "stdout"
        },
        {
          "output_type": "stream",
          "text": [
            "Epoch 255: 100%|██████████| 391/391 [00:23<00:00, 16.43it/s, acc=0.847, xentropy=0.527]\n",
            "  0%|          | 0/391 [00:00<?, ?it/s]"
          ],
          "name": "stderr"
        },
        {
          "output_type": "stream",
          "text": [
            "test_acc: 0.712\n"
          ],
          "name": "stdout"
        },
        {
          "output_type": "stream",
          "text": [
            "Epoch 256: 100%|██████████| 391/391 [00:23<00:00, 16.39it/s, acc=0.847, xentropy=0.522]\n",
            "  0%|          | 0/391 [00:00<?, ?it/s]"
          ],
          "name": "stderr"
        },
        {
          "output_type": "stream",
          "text": [
            "test_acc: 0.709\n"
          ],
          "name": "stdout"
        },
        {
          "output_type": "stream",
          "text": [
            "Epoch 257: 100%|██████████| 391/391 [00:23<00:00, 16.33it/s, acc=0.846, xentropy=0.533]\n",
            "  0%|          | 0/391 [00:00<?, ?it/s]"
          ],
          "name": "stderr"
        },
        {
          "output_type": "stream",
          "text": [
            "test_acc: 0.710\n"
          ],
          "name": "stdout"
        },
        {
          "output_type": "stream",
          "text": [
            "Epoch 258: 100%|██████████| 391/391 [00:24<00:00, 16.22it/s, acc=0.844, xentropy=0.534]\n",
            "  0%|          | 0/391 [00:00<?, ?it/s]"
          ],
          "name": "stderr"
        },
        {
          "output_type": "stream",
          "text": [
            "test_acc: 0.709\n"
          ],
          "name": "stdout"
        },
        {
          "output_type": "stream",
          "text": [
            "Epoch 259: 100%|██████████| 391/391 [00:23<00:00, 16.53it/s, acc=0.848, xentropy=0.525]\n",
            "  0%|          | 0/391 [00:00<?, ?it/s]"
          ],
          "name": "stderr"
        },
        {
          "output_type": "stream",
          "text": [
            "test_acc: 0.710\n"
          ],
          "name": "stdout"
        },
        {
          "output_type": "stream",
          "text": [
            "Epoch 260: 100%|██████████| 391/391 [00:23<00:00, 16.39it/s, acc=0.848, xentropy=0.527]\n",
            "  0%|          | 0/391 [00:00<?, ?it/s]"
          ],
          "name": "stderr"
        },
        {
          "output_type": "stream",
          "text": [
            "test_acc: 0.708\n"
          ],
          "name": "stdout"
        },
        {
          "output_type": "stream",
          "text": [
            "Epoch 261: 100%|██████████| 391/391 [00:23<00:00, 16.38it/s, acc=0.847, xentropy=0.527]\n",
            "  0%|          | 0/391 [00:00<?, ?it/s]"
          ],
          "name": "stderr"
        },
        {
          "output_type": "stream",
          "text": [
            "test_acc: 0.711\n"
          ],
          "name": "stdout"
        },
        {
          "output_type": "stream",
          "text": [
            "Epoch 262: 100%|██████████| 391/391 [00:24<00:00, 16.22it/s, acc=0.846, xentropy=0.535]\n",
            "  0%|          | 0/391 [00:00<?, ?it/s]"
          ],
          "name": "stderr"
        },
        {
          "output_type": "stream",
          "text": [
            "test_acc: 0.709\n"
          ],
          "name": "stdout"
        },
        {
          "output_type": "stream",
          "text": [
            "Epoch 263: 100%|██████████| 391/391 [00:24<00:00, 16.18it/s, acc=0.847, xentropy=0.528]\n",
            "  0%|          | 0/391 [00:00<?, ?it/s]"
          ],
          "name": "stderr"
        },
        {
          "output_type": "stream",
          "text": [
            "test_acc: 0.711\n"
          ],
          "name": "stdout"
        },
        {
          "output_type": "stream",
          "text": [
            "Epoch 264: 100%|██████████| 391/391 [00:23<00:00, 16.42it/s, acc=0.846, xentropy=0.526]\n",
            "  0%|          | 0/391 [00:00<?, ?it/s]"
          ],
          "name": "stderr"
        },
        {
          "output_type": "stream",
          "text": [
            "test_acc: 0.710\n"
          ],
          "name": "stdout"
        },
        {
          "output_type": "stream",
          "text": [
            "Epoch 265: 100%|██████████| 391/391 [00:23<00:00, 16.38it/s, acc=0.847, xentropy=0.524]\n",
            "  0%|          | 0/391 [00:00<?, ?it/s]"
          ],
          "name": "stderr"
        },
        {
          "output_type": "stream",
          "text": [
            "test_acc: 0.712\n"
          ],
          "name": "stdout"
        },
        {
          "output_type": "stream",
          "text": [
            "Epoch 266: 100%|██████████| 391/391 [00:23<00:00, 16.32it/s, acc=0.846, xentropy=0.529]\n",
            "  0%|          | 0/391 [00:00<?, ?it/s]"
          ],
          "name": "stderr"
        },
        {
          "output_type": "stream",
          "text": [
            "test_acc: 0.711\n"
          ],
          "name": "stdout"
        },
        {
          "output_type": "stream",
          "text": [
            "Epoch 267: 100%|██████████| 391/391 [00:23<00:00, 16.30it/s, acc=0.847, xentropy=0.528]\n",
            "  0%|          | 0/391 [00:00<?, ?it/s]"
          ],
          "name": "stderr"
        },
        {
          "output_type": "stream",
          "text": [
            "test_acc: 0.709\n"
          ],
          "name": "stdout"
        },
        {
          "output_type": "stream",
          "text": [
            "Epoch 268: 100%|██████████| 391/391 [00:23<00:00, 16.56it/s, acc=0.847, xentropy=0.529]\n",
            "  0%|          | 0/391 [00:00<?, ?it/s]"
          ],
          "name": "stderr"
        },
        {
          "output_type": "stream",
          "text": [
            "test_acc: 0.711\n"
          ],
          "name": "stdout"
        },
        {
          "output_type": "stream",
          "text": [
            "Epoch 269: 100%|██████████| 391/391 [00:23<00:00, 16.30it/s, acc=0.847, xentropy=0.525]\n",
            "  0%|          | 0/391 [00:00<?, ?it/s]"
          ],
          "name": "stderr"
        },
        {
          "output_type": "stream",
          "text": [
            "test_acc: 0.711\n"
          ],
          "name": "stdout"
        },
        {
          "output_type": "stream",
          "text": [
            "Epoch 270: 100%|██████████| 391/391 [00:24<00:00, 16.25it/s, acc=0.848, xentropy=0.524]\n",
            "  0%|          | 0/391 [00:00<?, ?it/s]"
          ],
          "name": "stderr"
        },
        {
          "output_type": "stream",
          "text": [
            "test_acc: 0.711\n"
          ],
          "name": "stdout"
        },
        {
          "output_type": "stream",
          "text": [
            "Epoch 271: 100%|██████████| 391/391 [00:23<00:00, 16.53it/s, acc=0.846, xentropy=0.526]\n",
            "  0%|          | 0/391 [00:00<?, ?it/s]"
          ],
          "name": "stderr"
        },
        {
          "output_type": "stream",
          "text": [
            "test_acc: 0.710\n"
          ],
          "name": "stdout"
        },
        {
          "output_type": "stream",
          "text": [
            "Epoch 272: 100%|██████████| 391/391 [00:23<00:00, 16.45it/s, acc=0.846, xentropy=0.525]\n",
            "  0%|          | 0/391 [00:00<?, ?it/s]"
          ],
          "name": "stderr"
        },
        {
          "output_type": "stream",
          "text": [
            "test_acc: 0.714\n"
          ],
          "name": "stdout"
        },
        {
          "output_type": "stream",
          "text": [
            "Epoch 273: 100%|██████████| 391/391 [00:24<00:00, 16.15it/s, acc=0.843, xentropy=0.530]\n",
            "  0%|          | 0/391 [00:00<?, ?it/s]"
          ],
          "name": "stderr"
        },
        {
          "output_type": "stream",
          "text": [
            "test_acc: 0.713\n"
          ],
          "name": "stdout"
        },
        {
          "output_type": "stream",
          "text": [
            "Epoch 274: 100%|██████████| 391/391 [00:23<00:00, 16.41it/s, acc=0.847, xentropy=0.529]\n"
          ],
          "name": "stderr"
        },
        {
          "output_type": "stream",
          "text": [
            "test_acc: 0.711\n"
          ],
          "name": "stdout"
        }
      ]
    },
    {
      "cell_type": "code",
      "metadata": {
        "id": "6rqQrXZav1UY",
        "colab_type": "code",
        "colab": {}
      },
      "source": [
        "path = F\"/content/gdrive/My Drive/checkpoints/cudamodel2cifar100.pt\""
      ],
      "execution_count": 0,
      "outputs": []
    },
    {
      "cell_type": "code",
      "metadata": {
        "id": "lDJTaBT6vPM0",
        "colab_type": "code",
        "colab": {}
      },
      "source": [
        "torch.save(cnn.cuda().state_dict(), path)"
      ],
      "execution_count": 0,
      "outputs": []
    },
    {
      "cell_type": "code",
      "metadata": {
        "id": "G-lQi1Gav7uP",
        "colab_type": "code",
        "colab": {
          "base_uri": "https://localhost:8080/",
          "height": 867
        },
        "outputId": "9be2654c-4b98-46b0-9e84-ca3a16ee48c9"
      },
      "source": [
        "train(250,275,0.0001)"
      ],
      "execution_count": 20,
      "outputs": [
        {
          "output_type": "stream",
          "text": [
            "Epoch 250: 100%|██████████| 391/391 [00:23<00:00, 16.69it/s, acc=0.841, xentropy=0.547]\n",
            "  0%|          | 0/391 [00:00<?, ?it/s]"
          ],
          "name": "stderr"
        },
        {
          "output_type": "stream",
          "text": [
            "test_acc: 0.708\n"
          ],
          "name": "stdout"
        },
        {
          "output_type": "stream",
          "text": [
            "Epoch 251: 100%|██████████| 391/391 [00:23<00:00, 16.62it/s, acc=0.843, xentropy=0.542]\n",
            "  0%|          | 0/391 [00:00<?, ?it/s]"
          ],
          "name": "stderr"
        },
        {
          "output_type": "stream",
          "text": [
            "test_acc: 0.709\n"
          ],
          "name": "stdout"
        },
        {
          "output_type": "stream",
          "text": [
            "Epoch 252: 100%|██████████| 391/391 [00:23<00:00, 16.51it/s, acc=0.842, xentropy=0.544]\n",
            "  0%|          | 0/391 [00:00<?, ?it/s]"
          ],
          "name": "stderr"
        },
        {
          "output_type": "stream",
          "text": [
            "test_acc: 0.711\n"
          ],
          "name": "stdout"
        },
        {
          "output_type": "stream",
          "text": [
            "Epoch 253: 100%|██████████| 391/391 [00:23<00:00, 16.59it/s, acc=0.844, xentropy=0.537]\n",
            "  0%|          | 0/391 [00:00<?, ?it/s]"
          ],
          "name": "stderr"
        },
        {
          "output_type": "stream",
          "text": [
            "test_acc: 0.709\n"
          ],
          "name": "stdout"
        },
        {
          "output_type": "stream",
          "text": [
            "Epoch 254: 100%|██████████| 391/391 [00:23<00:00, 16.35it/s, acc=0.843, xentropy=0.537]\n",
            "  0%|          | 0/391 [00:00<?, ?it/s]"
          ],
          "name": "stderr"
        },
        {
          "output_type": "stream",
          "text": [
            "test_acc: 0.711\n"
          ],
          "name": "stdout"
        },
        {
          "output_type": "stream",
          "text": [
            "Epoch 255: 100%|██████████| 391/391 [00:23<00:00, 16.43it/s, acc=0.844, xentropy=0.535]\n",
            "  0%|          | 0/391 [00:00<?, ?it/s]"
          ],
          "name": "stderr"
        },
        {
          "output_type": "stream",
          "text": [
            "test_acc: 0.710\n"
          ],
          "name": "stdout"
        },
        {
          "output_type": "stream",
          "text": [
            "Epoch 256: 100%|██████████| 391/391 [00:23<00:00, 16.44it/s, acc=0.845, xentropy=0.535]\n",
            "  0%|          | 0/391 [00:00<?, ?it/s]"
          ],
          "name": "stderr"
        },
        {
          "output_type": "stream",
          "text": [
            "test_acc: 0.713\n"
          ],
          "name": "stdout"
        },
        {
          "output_type": "stream",
          "text": [
            "Epoch 257: 100%|██████████| 391/391 [00:23<00:00, 16.38it/s, acc=0.845, xentropy=0.532]\n",
            "  0%|          | 0/391 [00:00<?, ?it/s]"
          ],
          "name": "stderr"
        },
        {
          "output_type": "stream",
          "text": [
            "test_acc: 0.713\n"
          ],
          "name": "stdout"
        },
        {
          "output_type": "stream",
          "text": [
            "Epoch 258: 100%|██████████| 391/391 [00:23<00:00, 16.34it/s, acc=0.844, xentropy=0.538]\n",
            "  0%|          | 0/391 [00:00<?, ?it/s]"
          ],
          "name": "stderr"
        },
        {
          "output_type": "stream",
          "text": [
            "test_acc: 0.713\n"
          ],
          "name": "stdout"
        },
        {
          "output_type": "stream",
          "text": [
            "Epoch 259: 100%|██████████| 391/391 [00:23<00:00, 16.49it/s, acc=0.845, xentropy=0.532]\n",
            "  0%|          | 0/391 [00:00<?, ?it/s]"
          ],
          "name": "stderr"
        },
        {
          "output_type": "stream",
          "text": [
            "test_acc: 0.712\n"
          ],
          "name": "stdout"
        },
        {
          "output_type": "stream",
          "text": [
            "Epoch 260: 100%|██████████| 391/391 [00:24<00:00, 16.19it/s, acc=0.846, xentropy=0.534]\n",
            "  0%|          | 0/391 [00:00<?, ?it/s]"
          ],
          "name": "stderr"
        },
        {
          "output_type": "stream",
          "text": [
            "test_acc: 0.709\n"
          ],
          "name": "stdout"
        },
        {
          "output_type": "stream",
          "text": [
            "Epoch 261: 100%|██████████| 391/391 [00:23<00:00, 16.32it/s, acc=0.845, xentropy=0.534]\n",
            "  0%|          | 0/391 [00:00<?, ?it/s]"
          ],
          "name": "stderr"
        },
        {
          "output_type": "stream",
          "text": [
            "test_acc: 0.712\n"
          ],
          "name": "stdout"
        },
        {
          "output_type": "stream",
          "text": [
            "Epoch 262: 100%|██████████| 391/391 [00:24<00:00, 16.25it/s, acc=0.844, xentropy=0.532]\n",
            "  0%|          | 0/391 [00:00<?, ?it/s]"
          ],
          "name": "stderr"
        },
        {
          "output_type": "stream",
          "text": [
            "test_acc: 0.712\n"
          ],
          "name": "stdout"
        },
        {
          "output_type": "stream",
          "text": [
            "Epoch 263: 100%|██████████| 391/391 [00:23<00:00, 16.44it/s, acc=0.847, xentropy=0.527]\n",
            "  0%|          | 0/391 [00:00<?, ?it/s]"
          ],
          "name": "stderr"
        },
        {
          "output_type": "stream",
          "text": [
            "test_acc: 0.711\n"
          ],
          "name": "stdout"
        },
        {
          "output_type": "stream",
          "text": [
            "Epoch 264: 100%|██████████| 391/391 [00:24<00:00, 16.29it/s, acc=0.846, xentropy=0.531]\n",
            "  0%|          | 0/391 [00:00<?, ?it/s]"
          ],
          "name": "stderr"
        },
        {
          "output_type": "stream",
          "text": [
            "test_acc: 0.712\n"
          ],
          "name": "stdout"
        },
        {
          "output_type": "stream",
          "text": [
            "Epoch 265: 100%|██████████| 391/391 [00:23<00:00, 16.45it/s, acc=0.847, xentropy=0.527]\n",
            "  0%|          | 0/391 [00:00<?, ?it/s]"
          ],
          "name": "stderr"
        },
        {
          "output_type": "stream",
          "text": [
            "test_acc: 0.710\n"
          ],
          "name": "stdout"
        },
        {
          "output_type": "stream",
          "text": [
            "Epoch 266: 100%|██████████| 391/391 [00:24<00:00, 16.10it/s, acc=0.847, xentropy=0.528]\n",
            "  0%|          | 0/391 [00:00<?, ?it/s]"
          ],
          "name": "stderr"
        },
        {
          "output_type": "stream",
          "text": [
            "test_acc: 0.709\n"
          ],
          "name": "stdout"
        },
        {
          "output_type": "stream",
          "text": [
            "Epoch 267: 100%|██████████| 391/391 [00:23<00:00, 16.30it/s, acc=0.844, xentropy=0.531]\n",
            "  0%|          | 0/391 [00:00<?, ?it/s]"
          ],
          "name": "stderr"
        },
        {
          "output_type": "stream",
          "text": [
            "test_acc: 0.713\n"
          ],
          "name": "stdout"
        },
        {
          "output_type": "stream",
          "text": [
            "Epoch 268: 100%|██████████| 391/391 [00:23<00:00, 16.36it/s, acc=0.846, xentropy=0.533]\n",
            "  0%|          | 0/391 [00:00<?, ?it/s]"
          ],
          "name": "stderr"
        },
        {
          "output_type": "stream",
          "text": [
            "test_acc: 0.712\n"
          ],
          "name": "stdout"
        },
        {
          "output_type": "stream",
          "text": [
            "Epoch 269: 100%|██████████| 391/391 [00:23<00:00, 16.40it/s, acc=0.847, xentropy=0.530]\n",
            "  0%|          | 0/391 [00:00<?, ?it/s]"
          ],
          "name": "stderr"
        },
        {
          "output_type": "stream",
          "text": [
            "test_acc: 0.710\n"
          ],
          "name": "stdout"
        },
        {
          "output_type": "stream",
          "text": [
            "Epoch 270: 100%|██████████| 391/391 [00:23<00:00, 16.32it/s, acc=0.847, xentropy=0.527]\n",
            "  0%|          | 0/391 [00:00<?, ?it/s]"
          ],
          "name": "stderr"
        },
        {
          "output_type": "stream",
          "text": [
            "test_acc: 0.712\n"
          ],
          "name": "stdout"
        },
        {
          "output_type": "stream",
          "text": [
            "Epoch 271: 100%|██████████| 391/391 [00:24<00:00, 16.28it/s, acc=0.844, xentropy=0.530]\n",
            "  0%|          | 0/391 [00:00<?, ?it/s]"
          ],
          "name": "stderr"
        },
        {
          "output_type": "stream",
          "text": [
            "test_acc: 0.709\n"
          ],
          "name": "stdout"
        },
        {
          "output_type": "stream",
          "text": [
            "Epoch 272: 100%|██████████| 391/391 [00:23<00:00, 16.30it/s, acc=0.848, xentropy=0.531]\n",
            "  0%|          | 0/391 [00:00<?, ?it/s]"
          ],
          "name": "stderr"
        },
        {
          "output_type": "stream",
          "text": [
            "test_acc: 0.712\n"
          ],
          "name": "stdout"
        },
        {
          "output_type": "stream",
          "text": [
            "Epoch 273: 100%|██████████| 391/391 [00:24<00:00, 16.21it/s, acc=0.846, xentropy=0.525]\n",
            "  0%|          | 0/391 [00:00<?, ?it/s]"
          ],
          "name": "stderr"
        },
        {
          "output_type": "stream",
          "text": [
            "test_acc: 0.709\n"
          ],
          "name": "stdout"
        },
        {
          "output_type": "stream",
          "text": [
            "Epoch 274: 100%|██████████| 391/391 [00:24<00:00, 16.21it/s, acc=0.847, xentropy=0.526]\n"
          ],
          "name": "stderr"
        },
        {
          "output_type": "stream",
          "text": [
            "test_acc: 0.708\n"
          ],
          "name": "stdout"
        }
      ]
    },
    {
      "cell_type": "code",
      "metadata": {
        "id": "Tntej1it35-N",
        "colab_type": "code",
        "colab": {
          "base_uri": "https://localhost:8080/",
          "height": 867
        },
        "outputId": "726f3c95-93ef-47f0-99db-e241e42b7702"
      },
      "source": [
        "train(275,300,0.00001)"
      ],
      "execution_count": 21,
      "outputs": [
        {
          "output_type": "stream",
          "text": [
            "Epoch 275: 100%|██████████| 391/391 [00:23<00:00, 16.55it/s, acc=0.848, xentropy=0.523]\n",
            "  0%|          | 0/391 [00:00<?, ?it/s]"
          ],
          "name": "stderr"
        },
        {
          "output_type": "stream",
          "text": [
            "test_acc: 0.712\n"
          ],
          "name": "stdout"
        },
        {
          "output_type": "stream",
          "text": [
            "Epoch 276: 100%|██████████| 391/391 [00:23<00:00, 16.57it/s, acc=0.847, xentropy=0.529]\n",
            "  0%|          | 0/391 [00:00<?, ?it/s]"
          ],
          "name": "stderr"
        },
        {
          "output_type": "stream",
          "text": [
            "test_acc: 0.712\n"
          ],
          "name": "stdout"
        },
        {
          "output_type": "stream",
          "text": [
            "Epoch 277: 100%|██████████| 391/391 [00:23<00:00, 16.39it/s, acc=0.847, xentropy=0.526]\n",
            "  0%|          | 0/391 [00:00<?, ?it/s]"
          ],
          "name": "stderr"
        },
        {
          "output_type": "stream",
          "text": [
            "test_acc: 0.711\n"
          ],
          "name": "stdout"
        },
        {
          "output_type": "stream",
          "text": [
            "Epoch 278: 100%|██████████| 391/391 [00:23<00:00, 16.37it/s, acc=0.847, xentropy=0.524]\n",
            "  0%|          | 0/391 [00:00<?, ?it/s]"
          ],
          "name": "stderr"
        },
        {
          "output_type": "stream",
          "text": [
            "test_acc: 0.712\n"
          ],
          "name": "stdout"
        },
        {
          "output_type": "stream",
          "text": [
            "Epoch 279: 100%|██████████| 391/391 [00:24<00:00, 16.27it/s, acc=0.847, xentropy=0.525]\n",
            "  0%|          | 0/391 [00:00<?, ?it/s]"
          ],
          "name": "stderr"
        },
        {
          "output_type": "stream",
          "text": [
            "test_acc: 0.709\n"
          ],
          "name": "stdout"
        },
        {
          "output_type": "stream",
          "text": [
            "Epoch 280: 100%|██████████| 391/391 [00:24<00:00, 16.11it/s, acc=0.850, xentropy=0.519]\n",
            "  0%|          | 0/391 [00:00<?, ?it/s]"
          ],
          "name": "stderr"
        },
        {
          "output_type": "stream",
          "text": [
            "test_acc: 0.711\n"
          ],
          "name": "stdout"
        },
        {
          "output_type": "stream",
          "text": [
            "Epoch 281: 100%|██████████| 391/391 [00:24<00:00, 16.22it/s, acc=0.852, xentropy=0.514]\n",
            "  0%|          | 0/391 [00:00<?, ?it/s]"
          ],
          "name": "stderr"
        },
        {
          "output_type": "stream",
          "text": [
            "test_acc: 0.712\n"
          ],
          "name": "stdout"
        },
        {
          "output_type": "stream",
          "text": [
            "Epoch 282: 100%|██████████| 391/391 [00:24<00:00, 15.98it/s, acc=0.849, xentropy=0.515]\n",
            "  0%|          | 0/391 [00:00<?, ?it/s]"
          ],
          "name": "stderr"
        },
        {
          "output_type": "stream",
          "text": [
            "test_acc: 0.712\n"
          ],
          "name": "stdout"
        },
        {
          "output_type": "stream",
          "text": [
            "Epoch 283: 100%|██████████| 391/391 [00:25<00:00, 15.62it/s, acc=0.849, xentropy=0.517]\n",
            "  0%|          | 0/391 [00:00<?, ?it/s]"
          ],
          "name": "stderr"
        },
        {
          "output_type": "stream",
          "text": [
            "test_acc: 0.711\n"
          ],
          "name": "stdout"
        },
        {
          "output_type": "stream",
          "text": [
            "Epoch 284: 100%|██████████| 391/391 [00:24<00:00, 15.95it/s, acc=0.851, xentropy=0.510]\n",
            "  0%|          | 0/391 [00:00<?, ?it/s]"
          ],
          "name": "stderr"
        },
        {
          "output_type": "stream",
          "text": [
            "test_acc: 0.713\n"
          ],
          "name": "stdout"
        },
        {
          "output_type": "stream",
          "text": [
            "Epoch 285: 100%|██████████| 391/391 [00:24<00:00, 16.12it/s, acc=0.850, xentropy=0.516]\n",
            "  0%|          | 0/391 [00:00<?, ?it/s]"
          ],
          "name": "stderr"
        },
        {
          "output_type": "stream",
          "text": [
            "test_acc: 0.712\n"
          ],
          "name": "stdout"
        },
        {
          "output_type": "stream",
          "text": [
            "Epoch 286: 100%|██████████| 391/391 [00:24<00:00, 16.00it/s, acc=0.848, xentropy=0.513]\n",
            "  0%|          | 0/391 [00:00<?, ?it/s]"
          ],
          "name": "stderr"
        },
        {
          "output_type": "stream",
          "text": [
            "test_acc: 0.712\n"
          ],
          "name": "stdout"
        },
        {
          "output_type": "stream",
          "text": [
            "Epoch 287: 100%|██████████| 391/391 [00:23<00:00, 16.29it/s, acc=0.851, xentropy=0.515]\n",
            "  0%|          | 0/391 [00:00<?, ?it/s]"
          ],
          "name": "stderr"
        },
        {
          "output_type": "stream",
          "text": [
            "test_acc: 0.712\n"
          ],
          "name": "stdout"
        },
        {
          "output_type": "stream",
          "text": [
            "Epoch 288: 100%|██████████| 391/391 [00:24<00:00, 16.14it/s, acc=0.850, xentropy=0.515]\n",
            "  0%|          | 0/391 [00:00<?, ?it/s]"
          ],
          "name": "stderr"
        },
        {
          "output_type": "stream",
          "text": [
            "test_acc: 0.712\n"
          ],
          "name": "stdout"
        },
        {
          "output_type": "stream",
          "text": [
            "Epoch 289: 100%|██████████| 391/391 [00:24<00:00, 15.94it/s, acc=0.851, xentropy=0.517]\n",
            "  0%|          | 0/391 [00:00<?, ?it/s]"
          ],
          "name": "stderr"
        },
        {
          "output_type": "stream",
          "text": [
            "test_acc: 0.712\n"
          ],
          "name": "stdout"
        },
        {
          "output_type": "stream",
          "text": [
            "Epoch 290: 100%|██████████| 391/391 [00:24<00:00, 16.11it/s, acc=0.850, xentropy=0.519]\n",
            "  0%|          | 0/391 [00:00<?, ?it/s]"
          ],
          "name": "stderr"
        },
        {
          "output_type": "stream",
          "text": [
            "test_acc: 0.711\n"
          ],
          "name": "stdout"
        },
        {
          "output_type": "stream",
          "text": [
            "Epoch 291: 100%|██████████| 391/391 [00:24<00:00, 16.11it/s, acc=0.851, xentropy=0.518]\n",
            "  0%|          | 0/391 [00:00<?, ?it/s]"
          ],
          "name": "stderr"
        },
        {
          "output_type": "stream",
          "text": [
            "test_acc: 0.713\n"
          ],
          "name": "stdout"
        },
        {
          "output_type": "stream",
          "text": [
            "Epoch 292: 100%|██████████| 391/391 [00:24<00:00, 15.98it/s, acc=0.850, xentropy=0.515]\n",
            "  0%|          | 0/391 [00:00<?, ?it/s]"
          ],
          "name": "stderr"
        },
        {
          "output_type": "stream",
          "text": [
            "test_acc: 0.710\n"
          ],
          "name": "stdout"
        },
        {
          "output_type": "stream",
          "text": [
            "Epoch 293: 100%|██████████| 391/391 [00:24<00:00, 16.00it/s, acc=0.851, xentropy=0.518]\n",
            "  0%|          | 0/391 [00:00<?, ?it/s]"
          ],
          "name": "stderr"
        },
        {
          "output_type": "stream",
          "text": [
            "test_acc: 0.712\n"
          ],
          "name": "stdout"
        },
        {
          "output_type": "stream",
          "text": [
            "Epoch 294: 100%|██████████| 391/391 [00:24<00:00, 15.98it/s, acc=0.849, xentropy=0.519]\n",
            "  0%|          | 0/391 [00:00<?, ?it/s]"
          ],
          "name": "stderr"
        },
        {
          "output_type": "stream",
          "text": [
            "test_acc: 0.710\n"
          ],
          "name": "stdout"
        },
        {
          "output_type": "stream",
          "text": [
            "Epoch 295: 100%|██████████| 391/391 [00:24<00:00, 15.99it/s, acc=0.851, xentropy=0.513]\n",
            "  0%|          | 0/391 [00:00<?, ?it/s]"
          ],
          "name": "stderr"
        },
        {
          "output_type": "stream",
          "text": [
            "test_acc: 0.712\n"
          ],
          "name": "stdout"
        },
        {
          "output_type": "stream",
          "text": [
            "Epoch 296: 100%|██████████| 391/391 [00:24<00:00, 16.17it/s, acc=0.850, xentropy=0.518]\n",
            "  0%|          | 0/391 [00:00<?, ?it/s]"
          ],
          "name": "stderr"
        },
        {
          "output_type": "stream",
          "text": [
            "test_acc: 0.712\n"
          ],
          "name": "stdout"
        },
        {
          "output_type": "stream",
          "text": [
            "Epoch 297: 100%|██████████| 391/391 [00:24<00:00, 16.12it/s, acc=0.852, xentropy=0.515]\n",
            "  0%|          | 0/391 [00:00<?, ?it/s]"
          ],
          "name": "stderr"
        },
        {
          "output_type": "stream",
          "text": [
            "test_acc: 0.712\n"
          ],
          "name": "stdout"
        },
        {
          "output_type": "stream",
          "text": [
            "Epoch 298: 100%|██████████| 391/391 [00:24<00:00, 15.91it/s, acc=0.852, xentropy=0.514]\n",
            "  0%|          | 0/391 [00:00<?, ?it/s]"
          ],
          "name": "stderr"
        },
        {
          "output_type": "stream",
          "text": [
            "test_acc: 0.712\n"
          ],
          "name": "stdout"
        },
        {
          "output_type": "stream",
          "text": [
            "Epoch 299: 100%|██████████| 391/391 [00:24<00:00, 15.98it/s, acc=0.850, xentropy=0.517]\n"
          ],
          "name": "stderr"
        },
        {
          "output_type": "stream",
          "text": [
            "test_acc: 0.714\n"
          ],
          "name": "stdout"
        }
      ]
    },
    {
      "cell_type": "code",
      "metadata": {
        "id": "yBwrM26Z7sjU",
        "colab_type": "code",
        "colab": {
          "base_uri": "https://localhost:8080/",
          "height": 867
        },
        "outputId": "0a677598-a6bb-4c68-e854-9c016ec0742f"
      },
      "source": [
        "train(300,325,0.000007)"
      ],
      "execution_count": 22,
      "outputs": [
        {
          "output_type": "stream",
          "text": [
            "Epoch 300: 100%|██████████| 391/391 [00:24<00:00, 15.95it/s, acc=0.850, xentropy=0.517]\n",
            "  0%|          | 0/391 [00:00<?, ?it/s]"
          ],
          "name": "stderr"
        },
        {
          "output_type": "stream",
          "text": [
            "test_acc: 0.713\n"
          ],
          "name": "stdout"
        },
        {
          "output_type": "stream",
          "text": [
            "Epoch 301: 100%|██████████| 391/391 [00:24<00:00, 15.96it/s, acc=0.848, xentropy=0.520]\n",
            "  0%|          | 0/391 [00:00<?, ?it/s]"
          ],
          "name": "stderr"
        },
        {
          "output_type": "stream",
          "text": [
            "test_acc: 0.713\n"
          ],
          "name": "stdout"
        },
        {
          "output_type": "stream",
          "text": [
            "Epoch 302: 100%|██████████| 391/391 [00:24<00:00, 15.92it/s, acc=0.850, xentropy=0.518]\n",
            "  0%|          | 0/391 [00:00<?, ?it/s]"
          ],
          "name": "stderr"
        },
        {
          "output_type": "stream",
          "text": [
            "test_acc: 0.711\n"
          ],
          "name": "stdout"
        },
        {
          "output_type": "stream",
          "text": [
            "Epoch 303: 100%|██████████| 391/391 [00:24<00:00, 16.12it/s, acc=0.849, xentropy=0.518]\n",
            "  0%|          | 0/391 [00:00<?, ?it/s]"
          ],
          "name": "stderr"
        },
        {
          "output_type": "stream",
          "text": [
            "test_acc: 0.711\n"
          ],
          "name": "stdout"
        },
        {
          "output_type": "stream",
          "text": [
            "Epoch 304: 100%|██████████| 391/391 [00:24<00:00, 16.04it/s, acc=0.850, xentropy=0.514]\n",
            "  0%|          | 0/391 [00:00<?, ?it/s]"
          ],
          "name": "stderr"
        },
        {
          "output_type": "stream",
          "text": [
            "test_acc: 0.713\n"
          ],
          "name": "stdout"
        },
        {
          "output_type": "stream",
          "text": [
            "Epoch 305: 100%|██████████| 391/391 [00:24<00:00, 16.23it/s, acc=0.852, xentropy=0.509]\n",
            "  0%|          | 0/391 [00:00<?, ?it/s]"
          ],
          "name": "stderr"
        },
        {
          "output_type": "stream",
          "text": [
            "test_acc: 0.711\n"
          ],
          "name": "stdout"
        },
        {
          "output_type": "stream",
          "text": [
            "Epoch 306: 100%|██████████| 391/391 [00:24<00:00, 16.04it/s, acc=0.849, xentropy=0.517]\n",
            "  0%|          | 0/391 [00:00<?, ?it/s]"
          ],
          "name": "stderr"
        },
        {
          "output_type": "stream",
          "text": [
            "test_acc: 0.711\n"
          ],
          "name": "stdout"
        },
        {
          "output_type": "stream",
          "text": [
            "Epoch 307: 100%|██████████| 391/391 [00:24<00:00, 16.02it/s, acc=0.853, xentropy=0.511]\n",
            "  0%|          | 0/391 [00:00<?, ?it/s]"
          ],
          "name": "stderr"
        },
        {
          "output_type": "stream",
          "text": [
            "test_acc: 0.712\n"
          ],
          "name": "stdout"
        },
        {
          "output_type": "stream",
          "text": [
            "Epoch 308: 100%|██████████| 391/391 [00:24<00:00, 16.07it/s, acc=0.848, xentropy=0.518]\n",
            "  0%|          | 0/391 [00:00<?, ?it/s]"
          ],
          "name": "stderr"
        },
        {
          "output_type": "stream",
          "text": [
            "test_acc: 0.711\n"
          ],
          "name": "stdout"
        },
        {
          "output_type": "stream",
          "text": [
            "Epoch 309: 100%|██████████| 391/391 [00:24<00:00, 15.91it/s, acc=0.850, xentropy=0.517]\n",
            "  0%|          | 0/391 [00:00<?, ?it/s]"
          ],
          "name": "stderr"
        },
        {
          "output_type": "stream",
          "text": [
            "test_acc: 0.713\n"
          ],
          "name": "stdout"
        },
        {
          "output_type": "stream",
          "text": [
            "Epoch 310: 100%|██████████| 391/391 [00:24<00:00, 16.11it/s, acc=0.850, xentropy=0.518]\n",
            "  0%|          | 0/391 [00:00<?, ?it/s]"
          ],
          "name": "stderr"
        },
        {
          "output_type": "stream",
          "text": [
            "test_acc: 0.713\n"
          ],
          "name": "stdout"
        },
        {
          "output_type": "stream",
          "text": [
            "Epoch 311: 100%|██████████| 391/391 [00:24<00:00, 16.19it/s, acc=0.851, xentropy=0.516]\n",
            "  0%|          | 0/391 [00:00<?, ?it/s]"
          ],
          "name": "stderr"
        },
        {
          "output_type": "stream",
          "text": [
            "test_acc: 0.714\n"
          ],
          "name": "stdout"
        },
        {
          "output_type": "stream",
          "text": [
            "Epoch 312: 100%|██████████| 391/391 [00:24<00:00, 16.00it/s, acc=0.851, xentropy=0.516]\n",
            "  0%|          | 0/391 [00:00<?, ?it/s]"
          ],
          "name": "stderr"
        },
        {
          "output_type": "stream",
          "text": [
            "test_acc: 0.711\n"
          ],
          "name": "stdout"
        },
        {
          "output_type": "stream",
          "text": [
            "Epoch 313: 100%|██████████| 391/391 [00:24<00:00, 16.04it/s, acc=0.853, xentropy=0.509]\n",
            "  0%|          | 0/391 [00:00<?, ?it/s]"
          ],
          "name": "stderr"
        },
        {
          "output_type": "stream",
          "text": [
            "test_acc: 0.713\n"
          ],
          "name": "stdout"
        },
        {
          "output_type": "stream",
          "text": [
            "Epoch 314: 100%|██████████| 391/391 [00:24<00:00, 15.67it/s, acc=0.852, xentropy=0.515]\n",
            "  0%|          | 0/391 [00:00<?, ?it/s]"
          ],
          "name": "stderr"
        },
        {
          "output_type": "stream",
          "text": [
            "test_acc: 0.713\n"
          ],
          "name": "stdout"
        },
        {
          "output_type": "stream",
          "text": [
            "Epoch 315: 100%|██████████| 391/391 [00:24<00:00, 16.07it/s, acc=0.854, xentropy=0.512]\n",
            "  0%|          | 0/391 [00:00<?, ?it/s]"
          ],
          "name": "stderr"
        },
        {
          "output_type": "stream",
          "text": [
            "test_acc: 0.712\n"
          ],
          "name": "stdout"
        },
        {
          "output_type": "stream",
          "text": [
            "Epoch 316: 100%|██████████| 391/391 [00:24<00:00, 15.79it/s, acc=0.852, xentropy=0.513]\n",
            "  0%|          | 0/391 [00:00<?, ?it/s]"
          ],
          "name": "stderr"
        },
        {
          "output_type": "stream",
          "text": [
            "test_acc: 0.712\n"
          ],
          "name": "stdout"
        },
        {
          "output_type": "stream",
          "text": [
            "Epoch 317: 100%|██████████| 391/391 [00:24<00:00, 16.08it/s, acc=0.850, xentropy=0.517]\n",
            "  0%|          | 0/391 [00:00<?, ?it/s]"
          ],
          "name": "stderr"
        },
        {
          "output_type": "stream",
          "text": [
            "test_acc: 0.712\n"
          ],
          "name": "stdout"
        },
        {
          "output_type": "stream",
          "text": [
            "Epoch 318: 100%|██████████| 391/391 [00:24<00:00, 16.01it/s, acc=0.852, xentropy=0.513]\n",
            "  0%|          | 0/391 [00:00<?, ?it/s]"
          ],
          "name": "stderr"
        },
        {
          "output_type": "stream",
          "text": [
            "test_acc: 0.712\n"
          ],
          "name": "stdout"
        },
        {
          "output_type": "stream",
          "text": [
            "Epoch 319: 100%|██████████| 391/391 [00:24<00:00, 15.90it/s, acc=0.850, xentropy=0.516]\n",
            "  0%|          | 0/391 [00:00<?, ?it/s]"
          ],
          "name": "stderr"
        },
        {
          "output_type": "stream",
          "text": [
            "test_acc: 0.712\n"
          ],
          "name": "stdout"
        },
        {
          "output_type": "stream",
          "text": [
            "Epoch 320: 100%|██████████| 391/391 [00:24<00:00, 15.78it/s, acc=0.850, xentropy=0.513]\n",
            "  0%|          | 0/391 [00:00<?, ?it/s]"
          ],
          "name": "stderr"
        },
        {
          "output_type": "stream",
          "text": [
            "test_acc: 0.714\n"
          ],
          "name": "stdout"
        },
        {
          "output_type": "stream",
          "text": [
            "Epoch 321: 100%|██████████| 391/391 [00:24<00:00, 15.91it/s, acc=0.851, xentropy=0.512]\n",
            "  0%|          | 0/391 [00:00<?, ?it/s]"
          ],
          "name": "stderr"
        },
        {
          "output_type": "stream",
          "text": [
            "test_acc: 0.712\n"
          ],
          "name": "stdout"
        },
        {
          "output_type": "stream",
          "text": [
            "Epoch 322: 100%|██████████| 391/391 [00:24<00:00, 15.88it/s, acc=0.851, xentropy=0.511]\n",
            "  0%|          | 0/391 [00:00<?, ?it/s]"
          ],
          "name": "stderr"
        },
        {
          "output_type": "stream",
          "text": [
            "test_acc: 0.711\n"
          ],
          "name": "stdout"
        },
        {
          "output_type": "stream",
          "text": [
            "Epoch 323: 100%|██████████| 391/391 [00:24<00:00, 15.81it/s, acc=0.854, xentropy=0.511]\n",
            "  0%|          | 0/391 [00:00<?, ?it/s]"
          ],
          "name": "stderr"
        },
        {
          "output_type": "stream",
          "text": [
            "test_acc: 0.713\n"
          ],
          "name": "stdout"
        },
        {
          "output_type": "stream",
          "text": [
            "Epoch 324: 100%|██████████| 391/391 [00:24<00:00, 15.99it/s, acc=0.852, xentropy=0.511]\n"
          ],
          "name": "stderr"
        },
        {
          "output_type": "stream",
          "text": [
            "test_acc: 0.713\n"
          ],
          "name": "stdout"
        }
      ]
    },
    {
      "cell_type": "code",
      "metadata": {
        "id": "l6ipGQGf-lGj",
        "colab_type": "code",
        "colab": {
          "base_uri": "https://localhost:8080/",
          "height": 867
        },
        "outputId": "1b066137-faec-499c-c829-a834dbe42b7d"
      },
      "source": [
        "train(300,325,0.000002)"
      ],
      "execution_count": 23,
      "outputs": [
        {
          "output_type": "stream",
          "text": [
            "Epoch 300: 100%|██████████| 391/391 [00:24<00:00, 15.90it/s, acc=0.850, xentropy=0.516]\n",
            "  0%|          | 0/391 [00:00<?, ?it/s]"
          ],
          "name": "stderr"
        },
        {
          "output_type": "stream",
          "text": [
            "test_acc: 0.710\n"
          ],
          "name": "stdout"
        },
        {
          "output_type": "stream",
          "text": [
            "Epoch 301: 100%|██████████| 391/391 [00:24<00:00, 15.96it/s, acc=0.850, xentropy=0.515]\n",
            "  0%|          | 0/391 [00:00<?, ?it/s]"
          ],
          "name": "stderr"
        },
        {
          "output_type": "stream",
          "text": [
            "test_acc: 0.713\n"
          ],
          "name": "stdout"
        },
        {
          "output_type": "stream",
          "text": [
            "Epoch 302: 100%|██████████| 391/391 [00:24<00:00, 15.95it/s, acc=0.850, xentropy=0.514]\n",
            "  0%|          | 0/391 [00:00<?, ?it/s]"
          ],
          "name": "stderr"
        },
        {
          "output_type": "stream",
          "text": [
            "test_acc: 0.712\n"
          ],
          "name": "stdout"
        },
        {
          "output_type": "stream",
          "text": [
            "Epoch 303: 100%|██████████| 391/391 [00:24<00:00, 15.88it/s, acc=0.851, xentropy=0.515]\n",
            "  0%|          | 0/391 [00:00<?, ?it/s]"
          ],
          "name": "stderr"
        },
        {
          "output_type": "stream",
          "text": [
            "test_acc: 0.713\n"
          ],
          "name": "stdout"
        },
        {
          "output_type": "stream",
          "text": [
            "Epoch 304: 100%|██████████| 391/391 [00:24<00:00, 15.85it/s, acc=0.851, xentropy=0.513]\n",
            "  0%|          | 0/391 [00:00<?, ?it/s]"
          ],
          "name": "stderr"
        },
        {
          "output_type": "stream",
          "text": [
            "test_acc: 0.713\n"
          ],
          "name": "stdout"
        },
        {
          "output_type": "stream",
          "text": [
            "Epoch 305: 100%|██████████| 391/391 [00:24<00:00, 15.92it/s, acc=0.850, xentropy=0.514]\n",
            "  0%|          | 0/391 [00:00<?, ?it/s]"
          ],
          "name": "stderr"
        },
        {
          "output_type": "stream",
          "text": [
            "test_acc: 0.712\n"
          ],
          "name": "stdout"
        },
        {
          "output_type": "stream",
          "text": [
            "Epoch 306: 100%|██████████| 391/391 [00:24<00:00, 15.89it/s, acc=0.852, xentropy=0.510]\n",
            "  0%|          | 0/391 [00:00<?, ?it/s]"
          ],
          "name": "stderr"
        },
        {
          "output_type": "stream",
          "text": [
            "test_acc: 0.712\n"
          ],
          "name": "stdout"
        },
        {
          "output_type": "stream",
          "text": [
            "Epoch 307: 100%|██████████| 391/391 [00:24<00:00, 15.86it/s, acc=0.850, xentropy=0.516]\n",
            "  0%|          | 0/391 [00:00<?, ?it/s]"
          ],
          "name": "stderr"
        },
        {
          "output_type": "stream",
          "text": [
            "test_acc: 0.714\n"
          ],
          "name": "stdout"
        },
        {
          "output_type": "stream",
          "text": [
            "Epoch 308: 100%|██████████| 391/391 [00:24<00:00, 16.09it/s, acc=0.851, xentropy=0.515]\n",
            "  0%|          | 0/391 [00:00<?, ?it/s]"
          ],
          "name": "stderr"
        },
        {
          "output_type": "stream",
          "text": [
            "test_acc: 0.712\n"
          ],
          "name": "stdout"
        },
        {
          "output_type": "stream",
          "text": [
            "Epoch 309: 100%|██████████| 391/391 [00:24<00:00, 15.91it/s, acc=0.852, xentropy=0.515]\n",
            "  0%|          | 0/391 [00:00<?, ?it/s]"
          ],
          "name": "stderr"
        },
        {
          "output_type": "stream",
          "text": [
            "test_acc: 0.715\n"
          ],
          "name": "stdout"
        },
        {
          "output_type": "stream",
          "text": [
            "Epoch 310: 100%|██████████| 391/391 [00:24<00:00, 15.86it/s, acc=0.848, xentropy=0.520]\n",
            "  0%|          | 0/391 [00:00<?, ?it/s]"
          ],
          "name": "stderr"
        },
        {
          "output_type": "stream",
          "text": [
            "test_acc: 0.712\n"
          ],
          "name": "stdout"
        },
        {
          "output_type": "stream",
          "text": [
            "Epoch 311: 100%|██████████| 391/391 [00:24<00:00, 15.93it/s, acc=0.850, xentropy=0.520]\n",
            "  0%|          | 0/391 [00:00<?, ?it/s]"
          ],
          "name": "stderr"
        },
        {
          "output_type": "stream",
          "text": [
            "test_acc: 0.712\n"
          ],
          "name": "stdout"
        },
        {
          "output_type": "stream",
          "text": [
            "Epoch 312: 100%|██████████| 391/391 [00:24<00:00, 15.93it/s, acc=0.852, xentropy=0.515]\n",
            "  0%|          | 0/391 [00:00<?, ?it/s]"
          ],
          "name": "stderr"
        },
        {
          "output_type": "stream",
          "text": [
            "test_acc: 0.712\n"
          ],
          "name": "stdout"
        },
        {
          "output_type": "stream",
          "text": [
            "Epoch 313: 100%|██████████| 391/391 [00:24<00:00, 15.93it/s, acc=0.851, xentropy=0.512]\n",
            "  0%|          | 0/391 [00:00<?, ?it/s]"
          ],
          "name": "stderr"
        },
        {
          "output_type": "stream",
          "text": [
            "test_acc: 0.713\n"
          ],
          "name": "stdout"
        },
        {
          "output_type": "stream",
          "text": [
            "Epoch 314: 100%|██████████| 391/391 [00:24<00:00, 15.99it/s, acc=0.850, xentropy=0.517]\n",
            "  0%|          | 0/391 [00:00<?, ?it/s]"
          ],
          "name": "stderr"
        },
        {
          "output_type": "stream",
          "text": [
            "test_acc: 0.713\n"
          ],
          "name": "stdout"
        },
        {
          "output_type": "stream",
          "text": [
            "Epoch 315: 100%|██████████| 391/391 [00:24<00:00, 15.90it/s, acc=0.850, xentropy=0.515]\n",
            "  0%|          | 0/391 [00:00<?, ?it/s]"
          ],
          "name": "stderr"
        },
        {
          "output_type": "stream",
          "text": [
            "test_acc: 0.713\n"
          ],
          "name": "stdout"
        },
        {
          "output_type": "stream",
          "text": [
            "Epoch 316: 100%|██████████| 391/391 [00:24<00:00, 15.88it/s, acc=0.853, xentropy=0.514]\n",
            "  0%|          | 0/391 [00:00<?, ?it/s]"
          ],
          "name": "stderr"
        },
        {
          "output_type": "stream",
          "text": [
            "test_acc: 0.713\n"
          ],
          "name": "stdout"
        },
        {
          "output_type": "stream",
          "text": [
            "Epoch 317: 100%|██████████| 391/391 [00:24<00:00, 16.07it/s, acc=0.850, xentropy=0.513]\n",
            "  0%|          | 0/391 [00:00<?, ?it/s]"
          ],
          "name": "stderr"
        },
        {
          "output_type": "stream",
          "text": [
            "test_acc: 0.713\n"
          ],
          "name": "stdout"
        },
        {
          "output_type": "stream",
          "text": [
            "Epoch 318: 100%|██████████| 391/391 [00:24<00:00, 15.82it/s, acc=0.852, xentropy=0.511]\n",
            "  0%|          | 0/391 [00:00<?, ?it/s]"
          ],
          "name": "stderr"
        },
        {
          "output_type": "stream",
          "text": [
            "test_acc: 0.713\n"
          ],
          "name": "stdout"
        },
        {
          "output_type": "stream",
          "text": [
            "Epoch 319: 100%|██████████| 391/391 [00:24<00:00, 15.92it/s, acc=0.854, xentropy=0.510]\n",
            "  0%|          | 0/391 [00:00<?, ?it/s]"
          ],
          "name": "stderr"
        },
        {
          "output_type": "stream",
          "text": [
            "test_acc: 0.713\n"
          ],
          "name": "stdout"
        },
        {
          "output_type": "stream",
          "text": [
            "Epoch 320: 100%|██████████| 391/391 [00:24<00:00, 15.95it/s, acc=0.851, xentropy=0.514]\n",
            "  0%|          | 0/391 [00:00<?, ?it/s]"
          ],
          "name": "stderr"
        },
        {
          "output_type": "stream",
          "text": [
            "test_acc: 0.712\n"
          ],
          "name": "stdout"
        },
        {
          "output_type": "stream",
          "text": [
            "Epoch 321: 100%|██████████| 391/391 [00:24<00:00, 15.95it/s, acc=0.852, xentropy=0.520]\n",
            "  0%|          | 0/391 [00:00<?, ?it/s]"
          ],
          "name": "stderr"
        },
        {
          "output_type": "stream",
          "text": [
            "test_acc: 0.713\n"
          ],
          "name": "stdout"
        },
        {
          "output_type": "stream",
          "text": [
            "Epoch 322: 100%|██████████| 391/391 [00:23<00:00, 16.34it/s, acc=0.851, xentropy=0.513]\n",
            "  0%|          | 0/391 [00:00<?, ?it/s]"
          ],
          "name": "stderr"
        },
        {
          "output_type": "stream",
          "text": [
            "test_acc: 0.712\n"
          ],
          "name": "stdout"
        },
        {
          "output_type": "stream",
          "text": [
            "Epoch 323: 100%|██████████| 391/391 [00:24<00:00, 15.88it/s, acc=0.852, xentropy=0.511]\n",
            "  0%|          | 0/391 [00:00<?, ?it/s]"
          ],
          "name": "stderr"
        },
        {
          "output_type": "stream",
          "text": [
            "test_acc: 0.713\n"
          ],
          "name": "stdout"
        },
        {
          "output_type": "stream",
          "text": [
            "Epoch 324: 100%|██████████| 391/391 [00:24<00:00, 16.01it/s, acc=0.851, xentropy=0.514]\n"
          ],
          "name": "stderr"
        },
        {
          "output_type": "stream",
          "text": [
            "test_acc: 0.714\n"
          ],
          "name": "stdout"
        }
      ]
    },
    {
      "cell_type": "code",
      "metadata": {
        "id": "6z_wJVegBYZV",
        "colab_type": "code",
        "colab": {}
      },
      "source": [
        "path = F\"/content/gdrive/My Drive/checkpoints/cudamodel3cifar100.pt\"\n",
        "torch.save(cnn.cuda().state_dict(), path)"
      ],
      "execution_count": 0,
      "outputs": []
    },
    {
      "cell_type": "code",
      "metadata": {
        "id": "KerCEx1uD_DE",
        "colab_type": "code",
        "colab": {
          "base_uri": "https://localhost:8080/",
          "height": 1000
        },
        "outputId": "be6f756c-1c38-4375-e949-6d27b09038f9"
      },
      "source": [
        "list(cnn.cuda().parameters())[0]"
      ],
      "execution_count": 31,
      "outputs": [
        {
          "output_type": "execute_result",
          "data": {
            "text/plain": [
              "Parameter containing:\n",
              "tensor([[[[-1.3548e-01, -7.9588e-03, -1.8320e-01],\n",
              "          [-1.6720e-01,  6.5156e-01,  2.4132e-01],\n",
              "          [-2.1406e-01,  3.6903e-01,  8.9527e-02]],\n",
              "\n",
              "         [[ 5.9999e-02, -3.8409e-02,  6.2774e-02],\n",
              "          [-8.2885e-03, -3.5415e-01, -1.7258e-01],\n",
              "          [ 1.0805e-01, -2.0573e-01, -4.8925e-02]],\n",
              "\n",
              "         [[ 1.0192e-01,  5.1675e-02,  5.3686e-02],\n",
              "          [ 8.6815e-02, -2.9622e-01, -5.3761e-02],\n",
              "          [ 1.3501e-01, -1.9425e-01, -2.7947e-02]]],\n",
              "\n",
              "\n",
              "        [[[ 7.7349e-02,  1.3315e-01,  1.3910e-01],\n",
              "          [-5.9730e-02, -3.4876e-01, -2.4625e-01],\n",
              "          [ 4.0981e-02, -3.9260e-01, -2.1218e-01]],\n",
              "\n",
              "         [[-3.9853e-02, -1.3246e-02, -4.7400e-02],\n",
              "          [ 3.1156e-02,  2.0165e-01,  1.2023e-01],\n",
              "          [-1.1370e-02,  1.5111e-01,  1.4393e-01]],\n",
              "\n",
              "         [[-1.9266e-02, -1.3493e-01, -1.0535e-01],\n",
              "          [-3.4208e-03,  1.5750e-01,  7.9211e-02],\n",
              "          [ 7.9302e-04,  1.3393e-01,  8.8985e-02]]],\n",
              "\n",
              "\n",
              "        [[[ 1.3319e-02, -9.7780e-02, -3.4708e-02],\n",
              "          [ 3.2851e-04,  1.5670e-01,  2.2769e-02],\n",
              "          [-2.5099e-02,  8.1280e-02,  1.0283e-01]],\n",
              "\n",
              "         [[ 6.1640e-02,  2.3811e-02,  1.8537e-01],\n",
              "          [ 3.4721e-02, -2.7423e-01, -3.4874e-01],\n",
              "          [ 1.4124e-01, -3.1535e-01, -2.4087e-01]],\n",
              "\n",
              "         [[-2.8013e-02, -3.7191e-02, -5.6113e-02],\n",
              "          [-9.1012e-02,  2.7289e-01,  1.8000e-01],\n",
              "          [-6.3326e-02,  1.5947e-01,  2.0854e-01]]],\n",
              "\n",
              "\n",
              "        [[[-2.4229e-02, -1.0350e-02,  3.2358e-02],\n",
              "          [ 1.7849e-02,  1.9135e-01,  1.5808e-01],\n",
              "          [ 4.6268e-03,  2.7967e-02, -2.9087e-02]],\n",
              "\n",
              "         [[-9.7016e-04, -1.0176e-02, -4.4243e-02],\n",
              "          [-3.1415e-03,  1.0071e-01,  6.7884e-02],\n",
              "          [ 1.8219e-05,  2.5967e-02,  3.8175e-02]],\n",
              "\n",
              "         [[ 9.6026e-03,  1.0534e-02, -2.1673e-02],\n",
              "          [-1.7536e-03,  5.6422e-02,  2.1103e-02],\n",
              "          [-2.1925e-02, -1.8285e-02, -2.7447e-02]]],\n",
              "\n",
              "\n",
              "        [[[-3.5463e-04,  2.7419e-01, -2.5578e-01],\n",
              "          [ 1.0009e-01, -7.7404e-02,  6.6383e-04],\n",
              "          [-1.3317e-03,  1.0936e-01, -1.4646e-01]],\n",
              "\n",
              "         [[-5.2971e-02,  8.3592e-02, -3.0539e-03],\n",
              "          [-6.4778e-02, -3.9306e-01,  3.9211e-01],\n",
              "          [ 1.6187e-02,  8.8052e-02, -6.4499e-03]],\n",
              "\n",
              "         [[ 3.3983e-02, -9.5721e-03, -5.1496e-02],\n",
              "          [-8.6790e-03, -8.2177e-02,  8.4088e-02],\n",
              "          [-6.6481e-03, -3.0826e-02, -9.2955e-03]]],\n",
              "\n",
              "\n",
              "        [[[-2.4101e-03, -3.1550e-02, -5.8536e-03],\n",
              "          [-8.1534e-03, -1.0150e-01, -4.2540e-02],\n",
              "          [ 3.2862e-02,  9.7220e-02, -1.5003e-04]],\n",
              "\n",
              "         [[ 3.3824e-02,  1.1104e-02,  1.2458e-02],\n",
              "          [-8.0440e-03, -5.2331e-02, -4.9010e-03],\n",
              "          [-3.1270e-02,  8.1571e-02,  3.3222e-02]],\n",
              "\n",
              "         [[-3.0075e-02, -4.4338e-02,  1.8593e-02],\n",
              "          [ 1.4247e-02, -4.4810e-02,  8.4565e-03],\n",
              "          [-1.4209e-02,  4.8148e-02, -7.6031e-03]]],\n",
              "\n",
              "\n",
              "        [[[-2.0489e-03,  2.5159e-01,  6.9270e-02],\n",
              "          [-3.6246e-02, -3.4944e-01, -1.6721e-02],\n",
              "          [-1.2218e-03,  6.3068e-03,  7.9818e-02]],\n",
              "\n",
              "         [[ 2.3517e-02,  2.5509e-01,  5.2097e-02],\n",
              "          [ 1.5086e-02, -2.7969e-01, -9.1911e-02],\n",
              "          [ 2.4734e-02,  8.9309e-02,  8.0968e-03]],\n",
              "\n",
              "         [[-4.6360e-02,  8.8026e-02,  1.5839e-04],\n",
              "          [ 1.5923e-02, -8.9020e-02, -2.1365e-02],\n",
              "          [ 4.4716e-02, -1.5785e-02, -2.9592e-02]]],\n",
              "\n",
              "\n",
              "        [[[-2.4425e-02,  5.4733e-02,  2.1077e-02],\n",
              "          [ 3.3942e-02,  1.8468e-01, -1.3868e-02],\n",
              "          [-4.8597e-02, -8.4557e-02, -7.2277e-02]],\n",
              "\n",
              "         [[-3.1433e-02,  8.7477e-02, -6.6944e-02],\n",
              "          [ 9.5014e-02,  3.3909e-01, -6.7217e-02],\n",
              "          [-7.1781e-02, -8.3784e-02, -1.3489e-01]],\n",
              "\n",
              "         [[-1.0662e-02,  8.6226e-02, -4.9105e-02],\n",
              "          [ 1.0799e-01,  1.6581e-01, -1.0213e-01],\n",
              "          [-2.1160e-02, -3.8560e-02, -1.6009e-01]]],\n",
              "\n",
              "\n",
              "        [[[ 1.1025e-01,  3.8659e-01,  1.6318e-01],\n",
              "          [-1.2403e-01, -1.8532e-01, -1.2130e-01],\n",
              "          [ 5.3085e-03, -2.0229e-01, -5.7326e-02]],\n",
              "\n",
              "         [[ 5.5283e-02,  3.1894e-01,  1.6243e-01],\n",
              "          [-8.4134e-02, -2.2029e-01, -6.9399e-02],\n",
              "          [ 3.6460e-02, -2.1858e-01, -3.7701e-02]],\n",
              "\n",
              "         [[ 2.9186e-02,  2.9088e-01,  8.5671e-02],\n",
              "          [-6.5898e-02, -9.1738e-02, -1.4102e-02],\n",
              "          [-7.0457e-03, -1.8756e-01, -2.1434e-02]]],\n",
              "\n",
              "\n",
              "        [[[ 1.4183e-03, -3.4298e-01, -2.0304e-01],\n",
              "          [-7.3699e-02, -1.3589e-01, -7.0653e-02],\n",
              "          [ 3.5218e-02,  5.4750e-01,  2.6870e-01]],\n",
              "\n",
              "         [[ 5.5610e-02,  8.9996e-02,  1.0324e-01],\n",
              "          [ 8.0845e-02, -2.9381e-03,  7.0759e-02],\n",
              "          [-9.8072e-02, -1.6556e-01, -1.8699e-01]],\n",
              "\n",
              "         [[-6.8898e-03,  1.7282e-01,  1.1396e-01],\n",
              "          [ 3.5526e-02,  7.8062e-02,  1.0478e-01],\n",
              "          [ 1.0727e-03, -2.5761e-01, -1.7996e-01]]],\n",
              "\n",
              "\n",
              "        [[[ 1.3769e-01, -1.1997e-01, -3.2447e-02],\n",
              "          [ 1.1495e-01, -3.3332e-01, -3.3737e-01],\n",
              "          [ 1.5520e-01, -1.9929e-01, -1.2334e-01]],\n",
              "\n",
              "         [[-1.0054e-01, -3.2111e-02, -7.6443e-02],\n",
              "          [-1.7788e-01,  5.7945e-01,  4.2386e-01],\n",
              "          [-1.7968e-01,  3.7236e-01,  3.6035e-01]],\n",
              "\n",
              "         [[-6.1400e-02,  1.4457e-01,  1.3707e-01],\n",
              "          [ 1.0422e-02, -5.3752e-02, -1.2347e-01],\n",
              "          [ 6.6001e-02, -2.8632e-01, -2.3479e-01]]],\n",
              "\n",
              "\n",
              "        [[[ 2.6421e-02, -5.0127e-02,  3.7800e-02],\n",
              "          [-8.0808e-02, -3.2234e-01,  3.7578e-01],\n",
              "          [-1.6716e-02, -1.1244e-02,  5.0921e-02]],\n",
              "\n",
              "         [[-1.4619e-03, -6.0802e-02,  2.3478e-02],\n",
              "          [ 6.1478e-02, -3.2948e-01,  3.1834e-01],\n",
              "          [ 7.5126e-03,  2.3544e-03, -4.5694e-02]],\n",
              "\n",
              "         [[ 1.3589e-02,  8.0688e-02, -3.7156e-02],\n",
              "          [ 4.3952e-03, -5.4927e-02,  6.2473e-03],\n",
              "          [ 1.2614e-02,  2.0861e-02, -3.3057e-02]]],\n",
              "\n",
              "\n",
              "        [[[-1.1976e-02, -8.6596e-03, -1.5246e-02],\n",
              "          [-2.4198e-02,  5.7139e-02,  1.4479e-02],\n",
              "          [-3.6892e-02, -6.7299e-03, -6.3700e-02]],\n",
              "\n",
              "         [[-2.5744e-02,  1.1917e-02, -4.4695e-02],\n",
              "          [ 3.5576e-02,  2.1858e-01,  2.1619e-01],\n",
              "          [-6.5844e-02,  1.5431e-01,  1.1918e-01]],\n",
              "\n",
              "         [[ 3.0268e-02,  1.9551e-02,  1.0391e-01],\n",
              "          [ 1.1887e-01, -5.3723e-01, -3.4364e-01],\n",
              "          [ 1.3362e-01, -2.0110e-01, -3.0612e-02]]],\n",
              "\n",
              "\n",
              "        [[[ 2.0418e-02,  4.0737e-02, -6.7835e-03],\n",
              "          [ 4.3158e-02, -1.9795e-01, -1.0552e-02],\n",
              "          [ 1.3770e-02, -6.1242e-03,  3.9891e-02]],\n",
              "\n",
              "         [[-3.5098e-02, -4.4911e-02, -2.4509e-02],\n",
              "          [-7.9487e-03, -2.6825e-01, -2.3091e-02],\n",
              "          [-1.0483e-02, -3.7108e-02,  3.2582e-03]],\n",
              "\n",
              "         [[ 2.9633e-02,  4.0685e-02,  4.6678e-02],\n",
              "          [-7.6959e-03, -2.1899e-01, -2.8005e-03],\n",
              "          [ 1.5876e-02, -1.7565e-02,  4.9641e-03]]],\n",
              "\n",
              "\n",
              "        [[[-7.0101e-02,  3.6840e-02,  1.7291e-02],\n",
              "          [ 3.8994e-01, -3.7598e-01, -2.1375e-02],\n",
              "          [-2.2224e-03,  1.1864e-02, -1.4188e-02]],\n",
              "\n",
              "         [[ 6.3649e-02, -6.1656e-02,  7.2454e-03],\n",
              "          [ 5.2469e-01, -5.1212e-01, -4.5985e-02],\n",
              "          [ 8.6257e-03, -1.2245e-02,  6.4571e-02]],\n",
              "\n",
              "         [[-1.1578e-02,  3.9512e-02,  1.5770e-02],\n",
              "          [ 2.5621e-01, -2.0259e-01, -7.5315e-02],\n",
              "          [-2.2313e-02, -1.8330e-02,  2.4763e-03]]],\n",
              "\n",
              "\n",
              "        [[[ 1.8758e-02, -6.0645e-02,  4.6714e-02],\n",
              "          [ 1.6042e-01, -1.0130e-01, -9.1561e-02],\n",
              "          [ 1.1568e-01, -5.4319e-02, -2.0178e-02]],\n",
              "\n",
              "         [[ 2.4778e-02,  2.4362e-02,  8.6226e-03],\n",
              "          [-2.5256e-02, -1.0236e-01, -1.7079e-01],\n",
              "          [ 1.3009e-02, -1.4332e-01, -1.7298e-01]],\n",
              "\n",
              "         [[-5.1532e-02,  4.3526e-02, -5.1668e-02],\n",
              "          [-1.9960e-01,  3.5104e-01,  3.2608e-01],\n",
              "          [-1.4277e-01,  2.1598e-01,  1.8067e-01]]]], device='cuda:0',\n",
              "       requires_grad=True)"
            ]
          },
          "metadata": {
            "tags": []
          },
          "execution_count": 31
        }
      ]
    },
    {
      "cell_type": "code",
      "metadata": {
        "id": "lLdFGY4xEGsS",
        "colab_type": "code",
        "colab": {
          "base_uri": "https://localhost:8080/",
          "height": 867
        },
        "outputId": "61d66078-151a-45d5-b1f5-283dd6c3f089"
      },
      "source": [
        "train(300,325,0.000005)"
      ],
      "execution_count": 29,
      "outputs": [
        {
          "output_type": "stream",
          "text": [
            "Epoch 300: 100%|██████████| 391/391 [00:24<00:00, 15.73it/s, acc=0.851, xentropy=0.513]\n",
            "  0%|          | 0/391 [00:00<?, ?it/s]"
          ],
          "name": "stderr"
        },
        {
          "output_type": "stream",
          "text": [
            "test_acc: 0.713\n"
          ],
          "name": "stdout"
        },
        {
          "output_type": "stream",
          "text": [
            "Epoch 301: 100%|██████████| 391/391 [00:25<00:00, 15.59it/s, acc=0.853, xentropy=0.514]\n",
            "  0%|          | 0/391 [00:00<?, ?it/s]"
          ],
          "name": "stderr"
        },
        {
          "output_type": "stream",
          "text": [
            "test_acc: 0.714\n"
          ],
          "name": "stdout"
        },
        {
          "output_type": "stream",
          "text": [
            "Epoch 302: 100%|██████████| 391/391 [00:24<00:00, 15.72it/s, acc=0.854, xentropy=0.509]\n",
            "  0%|          | 0/391 [00:00<?, ?it/s]"
          ],
          "name": "stderr"
        },
        {
          "output_type": "stream",
          "text": [
            "test_acc: 0.712\n"
          ],
          "name": "stdout"
        },
        {
          "output_type": "stream",
          "text": [
            "Epoch 303: 100%|██████████| 391/391 [00:24<00:00, 15.87it/s, acc=0.852, xentropy=0.512]\n",
            "  0%|          | 0/391 [00:00<?, ?it/s]"
          ],
          "name": "stderr"
        },
        {
          "output_type": "stream",
          "text": [
            "test_acc: 0.711\n"
          ],
          "name": "stdout"
        },
        {
          "output_type": "stream",
          "text": [
            "Epoch 304: 100%|██████████| 391/391 [00:24<00:00, 15.79it/s, acc=0.851, xentropy=0.511]\n",
            "  0%|          | 0/391 [00:00<?, ?it/s]"
          ],
          "name": "stderr"
        },
        {
          "output_type": "stream",
          "text": [
            "test_acc: 0.713\n"
          ],
          "name": "stdout"
        },
        {
          "output_type": "stream",
          "text": [
            "Epoch 305: 100%|██████████| 391/391 [00:24<00:00, 15.81it/s, acc=0.850, xentropy=0.517]\n",
            "  0%|          | 0/391 [00:00<?, ?it/s]"
          ],
          "name": "stderr"
        },
        {
          "output_type": "stream",
          "text": [
            "test_acc: 0.710\n"
          ],
          "name": "stdout"
        },
        {
          "output_type": "stream",
          "text": [
            "Epoch 306: 100%|██████████| 391/391 [00:24<00:00, 15.92it/s, acc=0.852, xentropy=0.508]\n",
            "  0%|          | 0/391 [00:00<?, ?it/s]"
          ],
          "name": "stderr"
        },
        {
          "output_type": "stream",
          "text": [
            "test_acc: 0.714\n"
          ],
          "name": "stdout"
        },
        {
          "output_type": "stream",
          "text": [
            "Epoch 307: 100%|██████████| 391/391 [00:24<00:00, 15.82it/s, acc=0.853, xentropy=0.514]\n",
            "  0%|          | 0/391 [00:00<?, ?it/s]"
          ],
          "name": "stderr"
        },
        {
          "output_type": "stream",
          "text": [
            "test_acc: 0.713\n"
          ],
          "name": "stdout"
        },
        {
          "output_type": "stream",
          "text": [
            "Epoch 308: 100%|██████████| 391/391 [00:24<00:00, 16.01it/s, acc=0.853, xentropy=0.509]\n",
            "  0%|          | 0/391 [00:00<?, ?it/s]"
          ],
          "name": "stderr"
        },
        {
          "output_type": "stream",
          "text": [
            "test_acc: 0.713\n"
          ],
          "name": "stdout"
        },
        {
          "output_type": "stream",
          "text": [
            "Epoch 309: 100%|██████████| 391/391 [00:24<00:00, 15.94it/s, acc=0.850, xentropy=0.515]\n",
            "  0%|          | 0/391 [00:00<?, ?it/s]"
          ],
          "name": "stderr"
        },
        {
          "output_type": "stream",
          "text": [
            "test_acc: 0.714\n"
          ],
          "name": "stdout"
        },
        {
          "output_type": "stream",
          "text": [
            "Epoch 310: 100%|██████████| 391/391 [00:24<00:00, 15.89it/s, acc=0.849, xentropy=0.516]\n",
            "  0%|          | 0/391 [00:00<?, ?it/s]"
          ],
          "name": "stderr"
        },
        {
          "output_type": "stream",
          "text": [
            "test_acc: 0.711\n"
          ],
          "name": "stdout"
        },
        {
          "output_type": "stream",
          "text": [
            "Epoch 311: 100%|██████████| 391/391 [00:24<00:00, 15.84it/s, acc=0.851, xentropy=0.512]\n",
            "  0%|          | 0/391 [00:00<?, ?it/s]"
          ],
          "name": "stderr"
        },
        {
          "output_type": "stream",
          "text": [
            "test_acc: 0.711\n"
          ],
          "name": "stdout"
        },
        {
          "output_type": "stream",
          "text": [
            "Epoch 312: 100%|██████████| 391/391 [00:24<00:00, 16.02it/s, acc=0.851, xentropy=0.515]\n",
            "  0%|          | 0/391 [00:00<?, ?it/s]"
          ],
          "name": "stderr"
        },
        {
          "output_type": "stream",
          "text": [
            "test_acc: 0.714\n"
          ],
          "name": "stdout"
        },
        {
          "output_type": "stream",
          "text": [
            "Epoch 313: 100%|██████████| 391/391 [00:24<00:00, 15.95it/s, acc=0.853, xentropy=0.515]\n",
            "  0%|          | 0/391 [00:00<?, ?it/s]"
          ],
          "name": "stderr"
        },
        {
          "output_type": "stream",
          "text": [
            "test_acc: 0.710\n"
          ],
          "name": "stdout"
        },
        {
          "output_type": "stream",
          "text": [
            "Epoch 314: 100%|██████████| 391/391 [00:24<00:00, 15.85it/s, acc=0.851, xentropy=0.511]\n",
            "  0%|          | 0/391 [00:00<?, ?it/s]"
          ],
          "name": "stderr"
        },
        {
          "output_type": "stream",
          "text": [
            "test_acc: 0.713\n"
          ],
          "name": "stdout"
        },
        {
          "output_type": "stream",
          "text": [
            "Epoch 315: 100%|██████████| 391/391 [00:24<00:00, 16.02it/s, acc=0.853, xentropy=0.512]\n",
            "  0%|          | 0/391 [00:00<?, ?it/s]"
          ],
          "name": "stderr"
        },
        {
          "output_type": "stream",
          "text": [
            "test_acc: 0.710\n"
          ],
          "name": "stdout"
        },
        {
          "output_type": "stream",
          "text": [
            "Epoch 316: 100%|██████████| 391/391 [00:24<00:00, 15.75it/s, acc=0.850, xentropy=0.519]\n",
            "  0%|          | 0/391 [00:00<?, ?it/s]"
          ],
          "name": "stderr"
        },
        {
          "output_type": "stream",
          "text": [
            "test_acc: 0.713\n"
          ],
          "name": "stdout"
        },
        {
          "output_type": "stream",
          "text": [
            "Epoch 317: 100%|██████████| 391/391 [00:24<00:00, 15.82it/s, acc=0.851, xentropy=0.515]\n",
            "  0%|          | 0/391 [00:00<?, ?it/s]"
          ],
          "name": "stderr"
        },
        {
          "output_type": "stream",
          "text": [
            "test_acc: 0.713\n"
          ],
          "name": "stdout"
        },
        {
          "output_type": "stream",
          "text": [
            "Epoch 318: 100%|██████████| 391/391 [00:24<00:00, 15.67it/s, acc=0.852, xentropy=0.512]\n",
            "  0%|          | 0/391 [00:00<?, ?it/s]"
          ],
          "name": "stderr"
        },
        {
          "output_type": "stream",
          "text": [
            "test_acc: 0.711\n"
          ],
          "name": "stdout"
        },
        {
          "output_type": "stream",
          "text": [
            "Epoch 319: 100%|██████████| 391/391 [00:24<00:00, 15.97it/s, acc=0.849, xentropy=0.515]\n",
            "  0%|          | 0/391 [00:00<?, ?it/s]"
          ],
          "name": "stderr"
        },
        {
          "output_type": "stream",
          "text": [
            "test_acc: 0.712\n"
          ],
          "name": "stdout"
        },
        {
          "output_type": "stream",
          "text": [
            "Epoch 320: 100%|██████████| 391/391 [00:24<00:00, 16.15it/s, acc=0.851, xentropy=0.512]\n",
            "  0%|          | 0/391 [00:00<?, ?it/s]"
          ],
          "name": "stderr"
        },
        {
          "output_type": "stream",
          "text": [
            "test_acc: 0.713\n"
          ],
          "name": "stdout"
        },
        {
          "output_type": "stream",
          "text": [
            "Epoch 321: 100%|██████████| 391/391 [00:24<00:00, 16.14it/s, acc=0.850, xentropy=0.517]\n",
            "  0%|          | 0/391 [00:00<?, ?it/s]"
          ],
          "name": "stderr"
        },
        {
          "output_type": "stream",
          "text": [
            "test_acc: 0.711\n"
          ],
          "name": "stdout"
        },
        {
          "output_type": "stream",
          "text": [
            "Epoch 322: 100%|██████████| 391/391 [00:24<00:00, 15.92it/s, acc=0.849, xentropy=0.514]\n",
            "  0%|          | 0/391 [00:00<?, ?it/s]"
          ],
          "name": "stderr"
        },
        {
          "output_type": "stream",
          "text": [
            "test_acc: 0.712\n"
          ],
          "name": "stdout"
        },
        {
          "output_type": "stream",
          "text": [
            "Epoch 323: 100%|██████████| 391/391 [00:24<00:00, 16.06it/s, acc=0.852, xentropy=0.513]\n",
            "  0%|          | 0/391 [00:00<?, ?it/s]"
          ],
          "name": "stderr"
        },
        {
          "output_type": "stream",
          "text": [
            "test_acc: 0.713\n"
          ],
          "name": "stdout"
        },
        {
          "output_type": "stream",
          "text": [
            "Epoch 324: 100%|██████████| 391/391 [00:24<00:00, 16.08it/s, acc=0.851, xentropy=0.514]\n"
          ],
          "name": "stderr"
        },
        {
          "output_type": "stream",
          "text": [
            "test_acc: 0.715\n"
          ],
          "name": "stdout"
        }
      ]
    },
    {
      "cell_type": "code",
      "metadata": {
        "id": "Uwa1IEoMGa_t",
        "colab_type": "code",
        "colab": {
          "base_uri": "https://localhost:8080/",
          "height": 1000
        },
        "outputId": "bbb5b38f-b539-4e2e-9411-5faa034b9b5e"
      },
      "source": [
        "train(325,400,0.000001)"
      ],
      "execution_count": 32,
      "outputs": [
        {
          "output_type": "stream",
          "text": [
            "Epoch 325: 100%|██████████| 391/391 [00:24<00:00, 15.98it/s, acc=0.850, xentropy=0.514]\n",
            "  0%|          | 0/391 [00:00<?, ?it/s]"
          ],
          "name": "stderr"
        },
        {
          "output_type": "stream",
          "text": [
            "test_acc: 0.712\n"
          ],
          "name": "stdout"
        },
        {
          "output_type": "stream",
          "text": [
            "Epoch 326: 100%|██████████| 391/391 [00:24<00:00, 15.71it/s, acc=0.852, xentropy=0.515]\n",
            "  0%|          | 0/391 [00:00<?, ?it/s]"
          ],
          "name": "stderr"
        },
        {
          "output_type": "stream",
          "text": [
            "test_acc: 0.711\n"
          ],
          "name": "stdout"
        },
        {
          "output_type": "stream",
          "text": [
            "Epoch 327: 100%|██████████| 391/391 [00:24<00:00, 16.00it/s, acc=0.853, xentropy=0.510]\n",
            "  0%|          | 0/391 [00:00<?, ?it/s]"
          ],
          "name": "stderr"
        },
        {
          "output_type": "stream",
          "text": [
            "test_acc: 0.712\n"
          ],
          "name": "stdout"
        },
        {
          "output_type": "stream",
          "text": [
            "Epoch 328: 100%|██████████| 391/391 [00:24<00:00, 15.91it/s, acc=0.854, xentropy=0.508]\n",
            "  0%|          | 0/391 [00:00<?, ?it/s]"
          ],
          "name": "stderr"
        },
        {
          "output_type": "stream",
          "text": [
            "test_acc: 0.712\n"
          ],
          "name": "stdout"
        },
        {
          "output_type": "stream",
          "text": [
            "Epoch 329: 100%|██████████| 391/391 [00:24<00:00, 16.08it/s, acc=0.852, xentropy=0.513]\n",
            "  0%|          | 0/391 [00:00<?, ?it/s]"
          ],
          "name": "stderr"
        },
        {
          "output_type": "stream",
          "text": [
            "test_acc: 0.713\n"
          ],
          "name": "stdout"
        },
        {
          "output_type": "stream",
          "text": [
            "Epoch 330: 100%|██████████| 391/391 [00:24<00:00, 16.00it/s, acc=0.850, xentropy=0.516]\n",
            "  0%|          | 0/391 [00:00<?, ?it/s]"
          ],
          "name": "stderr"
        },
        {
          "output_type": "stream",
          "text": [
            "test_acc: 0.712\n"
          ],
          "name": "stdout"
        },
        {
          "output_type": "stream",
          "text": [
            "Epoch 331: 100%|██████████| 391/391 [00:24<00:00, 15.91it/s, acc=0.852, xentropy=0.514]\n",
            "  0%|          | 0/391 [00:00<?, ?it/s]"
          ],
          "name": "stderr"
        },
        {
          "output_type": "stream",
          "text": [
            "test_acc: 0.713\n"
          ],
          "name": "stdout"
        },
        {
          "output_type": "stream",
          "text": [
            "Epoch 332: 100%|██████████| 391/391 [00:24<00:00, 16.15it/s, acc=0.852, xentropy=0.512]\n",
            "  0%|          | 0/391 [00:00<?, ?it/s]"
          ],
          "name": "stderr"
        },
        {
          "output_type": "stream",
          "text": [
            "test_acc: 0.712\n"
          ],
          "name": "stdout"
        },
        {
          "output_type": "stream",
          "text": [
            "Epoch 333: 100%|██████████| 391/391 [00:24<00:00, 15.83it/s, acc=0.852, xentropy=0.509]\n",
            "  0%|          | 0/391 [00:00<?, ?it/s]"
          ],
          "name": "stderr"
        },
        {
          "output_type": "stream",
          "text": [
            "test_acc: 0.712\n"
          ],
          "name": "stdout"
        },
        {
          "output_type": "stream",
          "text": [
            "Epoch 334: 100%|██████████| 391/391 [00:24<00:00, 15.91it/s, acc=0.855, xentropy=0.510]\n",
            "  0%|          | 0/391 [00:00<?, ?it/s]"
          ],
          "name": "stderr"
        },
        {
          "output_type": "stream",
          "text": [
            "test_acc: 0.712\n"
          ],
          "name": "stdout"
        },
        {
          "output_type": "stream",
          "text": [
            "Epoch 335: 100%|██████████| 391/391 [00:24<00:00, 16.00it/s, acc=0.849, xentropy=0.518]\n",
            "  0%|          | 0/391 [00:00<?, ?it/s]"
          ],
          "name": "stderr"
        },
        {
          "output_type": "stream",
          "text": [
            "test_acc: 0.712\n"
          ],
          "name": "stdout"
        },
        {
          "output_type": "stream",
          "text": [
            "Epoch 336: 100%|██████████| 391/391 [00:24<00:00, 16.03it/s, acc=0.851, xentropy=0.514]\n",
            "  0%|          | 0/391 [00:00<?, ?it/s]"
          ],
          "name": "stderr"
        },
        {
          "output_type": "stream",
          "text": [
            "test_acc: 0.711\n"
          ],
          "name": "stdout"
        },
        {
          "output_type": "stream",
          "text": [
            "Epoch 337: 100%|██████████| 391/391 [00:24<00:00, 15.98it/s, acc=0.852, xentropy=0.513]\n",
            "  0%|          | 0/391 [00:00<?, ?it/s]"
          ],
          "name": "stderr"
        },
        {
          "output_type": "stream",
          "text": [
            "test_acc: 0.712\n"
          ],
          "name": "stdout"
        },
        {
          "output_type": "stream",
          "text": [
            "Epoch 338: 100%|██████████| 391/391 [00:24<00:00, 15.81it/s, acc=0.852, xentropy=0.510]\n",
            "  0%|          | 0/391 [00:00<?, ?it/s]"
          ],
          "name": "stderr"
        },
        {
          "output_type": "stream",
          "text": [
            "test_acc: 0.714\n"
          ],
          "name": "stdout"
        },
        {
          "output_type": "stream",
          "text": [
            "Epoch 339: 100%|██████████| 391/391 [00:24<00:00, 15.97it/s, acc=0.852, xentropy=0.512]\n",
            "  0%|          | 0/391 [00:00<?, ?it/s]"
          ],
          "name": "stderr"
        },
        {
          "output_type": "stream",
          "text": [
            "test_acc: 0.714\n"
          ],
          "name": "stdout"
        },
        {
          "output_type": "stream",
          "text": [
            "Epoch 340: 100%|██████████| 391/391 [00:24<00:00, 15.95it/s, acc=0.854, xentropy=0.509]\n",
            "  0%|          | 0/391 [00:00<?, ?it/s]"
          ],
          "name": "stderr"
        },
        {
          "output_type": "stream",
          "text": [
            "test_acc: 0.713\n"
          ],
          "name": "stdout"
        },
        {
          "output_type": "stream",
          "text": [
            "Epoch 341: 100%|██████████| 391/391 [00:24<00:00, 16.11it/s, acc=0.851, xentropy=0.513]\n",
            "  0%|          | 0/391 [00:00<?, ?it/s]"
          ],
          "name": "stderr"
        },
        {
          "output_type": "stream",
          "text": [
            "test_acc: 0.711\n"
          ],
          "name": "stdout"
        },
        {
          "output_type": "stream",
          "text": [
            "Epoch 342: 100%|██████████| 391/391 [00:24<00:00, 15.86it/s, acc=0.855, xentropy=0.506]\n",
            "  0%|          | 0/391 [00:00<?, ?it/s]"
          ],
          "name": "stderr"
        },
        {
          "output_type": "stream",
          "text": [
            "test_acc: 0.713\n"
          ],
          "name": "stdout"
        },
        {
          "output_type": "stream",
          "text": [
            "Epoch 343: 100%|██████████| 391/391 [00:24<00:00, 15.82it/s, acc=0.852, xentropy=0.510]\n",
            "  0%|          | 0/391 [00:00<?, ?it/s]"
          ],
          "name": "stderr"
        },
        {
          "output_type": "stream",
          "text": [
            "test_acc: 0.713\n"
          ],
          "name": "stdout"
        },
        {
          "output_type": "stream",
          "text": [
            "Epoch 344: 100%|██████████| 391/391 [00:24<00:00, 16.15it/s, acc=0.852, xentropy=0.512]\n",
            "  0%|          | 0/391 [00:00<?, ?it/s]"
          ],
          "name": "stderr"
        },
        {
          "output_type": "stream",
          "text": [
            "test_acc: 0.712\n"
          ],
          "name": "stdout"
        },
        {
          "output_type": "stream",
          "text": [
            "Epoch 345: 100%|██████████| 391/391 [00:24<00:00, 16.03it/s, acc=0.852, xentropy=0.510]\n",
            "  0%|          | 0/391 [00:00<?, ?it/s]"
          ],
          "name": "stderr"
        },
        {
          "output_type": "stream",
          "text": [
            "test_acc: 0.712\n"
          ],
          "name": "stdout"
        },
        {
          "output_type": "stream",
          "text": [
            "Epoch 346: 100%|██████████| 391/391 [00:24<00:00, 16.01it/s, acc=0.851, xentropy=0.512]\n",
            "  0%|          | 0/391 [00:00<?, ?it/s]"
          ],
          "name": "stderr"
        },
        {
          "output_type": "stream",
          "text": [
            "test_acc: 0.713\n"
          ],
          "name": "stdout"
        },
        {
          "output_type": "stream",
          "text": [
            "Epoch 347: 100%|██████████| 391/391 [00:24<00:00, 15.90it/s, acc=0.851, xentropy=0.513]\n",
            "  0%|          | 0/391 [00:00<?, ?it/s]"
          ],
          "name": "stderr"
        },
        {
          "output_type": "stream",
          "text": [
            "test_acc: 0.713\n"
          ],
          "name": "stdout"
        },
        {
          "output_type": "stream",
          "text": [
            "Epoch 348: 100%|██████████| 391/391 [00:24<00:00, 15.83it/s, acc=0.853, xentropy=0.509]\n",
            "  0%|          | 0/391 [00:00<?, ?it/s]"
          ],
          "name": "stderr"
        },
        {
          "output_type": "stream",
          "text": [
            "test_acc: 0.712\n"
          ],
          "name": "stdout"
        },
        {
          "output_type": "stream",
          "text": [
            "Epoch 349: 100%|██████████| 391/391 [00:24<00:00, 15.78it/s, acc=0.849, xentropy=0.514]\n",
            "  0%|          | 0/391 [00:00<?, ?it/s]"
          ],
          "name": "stderr"
        },
        {
          "output_type": "stream",
          "text": [
            "test_acc: 0.713\n"
          ],
          "name": "stdout"
        },
        {
          "output_type": "stream",
          "text": [
            "Epoch 350: 100%|██████████| 391/391 [00:24<00:00, 15.89it/s, acc=0.850, xentropy=0.515]\n",
            "  0%|          | 0/391 [00:00<?, ?it/s]"
          ],
          "name": "stderr"
        },
        {
          "output_type": "stream",
          "text": [
            "test_acc: 0.713\n"
          ],
          "name": "stdout"
        },
        {
          "output_type": "stream",
          "text": [
            "Epoch 351: 100%|██████████| 391/391 [00:24<00:00, 16.01it/s, acc=0.850, xentropy=0.515]\n",
            "  0%|          | 0/391 [00:00<?, ?it/s]"
          ],
          "name": "stderr"
        },
        {
          "output_type": "stream",
          "text": [
            "test_acc: 0.712\n"
          ],
          "name": "stdout"
        },
        {
          "output_type": "stream",
          "text": [
            "Epoch 352: 100%|██████████| 391/391 [00:24<00:00, 15.85it/s, acc=0.850, xentropy=0.517]\n",
            "  0%|          | 0/391 [00:00<?, ?it/s]"
          ],
          "name": "stderr"
        },
        {
          "output_type": "stream",
          "text": [
            "test_acc: 0.712\n"
          ],
          "name": "stdout"
        },
        {
          "output_type": "stream",
          "text": [
            "Epoch 353: 100%|██████████| 391/391 [00:24<00:00, 15.92it/s, acc=0.854, xentropy=0.508]\n",
            "  0%|          | 0/391 [00:00<?, ?it/s]"
          ],
          "name": "stderr"
        },
        {
          "output_type": "stream",
          "text": [
            "test_acc: 0.712\n"
          ],
          "name": "stdout"
        },
        {
          "output_type": "stream",
          "text": [
            "Epoch 354: 100%|██████████| 391/391 [00:24<00:00, 16.00it/s, acc=0.853, xentropy=0.508]\n",
            "  0%|          | 0/391 [00:00<?, ?it/s]"
          ],
          "name": "stderr"
        },
        {
          "output_type": "stream",
          "text": [
            "test_acc: 0.713\n"
          ],
          "name": "stdout"
        },
        {
          "output_type": "stream",
          "text": [
            "Epoch 355: 100%|██████████| 391/391 [00:24<00:00, 15.72it/s, acc=0.854, xentropy=0.508]\n",
            "  0%|          | 0/391 [00:00<?, ?it/s]"
          ],
          "name": "stderr"
        },
        {
          "output_type": "stream",
          "text": [
            "test_acc: 0.713\n"
          ],
          "name": "stdout"
        },
        {
          "output_type": "stream",
          "text": [
            "Epoch 356: 100%|██████████| 391/391 [00:24<00:00, 15.90it/s, acc=0.850, xentropy=0.512]\n",
            "  0%|          | 0/391 [00:00<?, ?it/s]"
          ],
          "name": "stderr"
        },
        {
          "output_type": "stream",
          "text": [
            "test_acc: 0.713\n"
          ],
          "name": "stdout"
        },
        {
          "output_type": "stream",
          "text": [
            "Epoch 357: 100%|██████████| 391/391 [00:24<00:00, 15.90it/s, acc=0.852, xentropy=0.511]\n",
            "  0%|          | 0/391 [00:00<?, ?it/s]"
          ],
          "name": "stderr"
        },
        {
          "output_type": "stream",
          "text": [
            "test_acc: 0.713\n"
          ],
          "name": "stdout"
        },
        {
          "output_type": "stream",
          "text": [
            "Epoch 358: 100%|██████████| 391/391 [00:24<00:00, 15.69it/s, acc=0.853, xentropy=0.512]\n",
            "  0%|          | 0/391 [00:00<?, ?it/s]"
          ],
          "name": "stderr"
        },
        {
          "output_type": "stream",
          "text": [
            "test_acc: 0.712\n"
          ],
          "name": "stdout"
        },
        {
          "output_type": "stream",
          "text": [
            "Epoch 359: 100%|██████████| 391/391 [00:24<00:00, 15.75it/s, acc=0.850, xentropy=0.517]\n",
            "  0%|          | 0/391 [00:00<?, ?it/s]"
          ],
          "name": "stderr"
        },
        {
          "output_type": "stream",
          "text": [
            "test_acc: 0.712\n"
          ],
          "name": "stdout"
        },
        {
          "output_type": "stream",
          "text": [
            "Epoch 360: 100%|██████████| 391/391 [00:24<00:00, 15.84it/s, acc=0.850, xentropy=0.514]\n",
            "  0%|          | 0/391 [00:00<?, ?it/s]"
          ],
          "name": "stderr"
        },
        {
          "output_type": "stream",
          "text": [
            "test_acc: 0.713\n"
          ],
          "name": "stdout"
        },
        {
          "output_type": "stream",
          "text": [
            "Epoch 361: 100%|██████████| 391/391 [00:24<00:00, 15.72it/s, acc=0.851, xentropy=0.513]\n",
            "  0%|          | 0/391 [00:00<?, ?it/s]"
          ],
          "name": "stderr"
        },
        {
          "output_type": "stream",
          "text": [
            "test_acc: 0.713\n"
          ],
          "name": "stdout"
        },
        {
          "output_type": "stream",
          "text": [
            "Epoch 362: 100%|██████████| 391/391 [00:24<00:00, 15.92it/s, acc=0.851, xentropy=0.511]\n",
            "  0%|          | 0/391 [00:00<?, ?it/s]"
          ],
          "name": "stderr"
        },
        {
          "output_type": "stream",
          "text": [
            "test_acc: 0.713\n"
          ],
          "name": "stdout"
        },
        {
          "output_type": "stream",
          "text": [
            "Epoch 363: 100%|██████████| 391/391 [00:24<00:00, 15.81it/s, acc=0.853, xentropy=0.511]\n",
            "  0%|          | 0/391 [00:00<?, ?it/s]"
          ],
          "name": "stderr"
        },
        {
          "output_type": "stream",
          "text": [
            "test_acc: 0.712\n"
          ],
          "name": "stdout"
        },
        {
          "output_type": "stream",
          "text": [
            "Epoch 364: 100%|██████████| 391/391 [00:24<00:00, 15.81it/s, acc=0.854, xentropy=0.506]\n",
            "  0%|          | 0/391 [00:00<?, ?it/s]"
          ],
          "name": "stderr"
        },
        {
          "output_type": "stream",
          "text": [
            "test_acc: 0.713\n"
          ],
          "name": "stdout"
        },
        {
          "output_type": "stream",
          "text": [
            "Epoch 365: 100%|██████████| 391/391 [00:24<00:00, 15.82it/s, acc=0.852, xentropy=0.510]\n",
            "  0%|          | 0/391 [00:00<?, ?it/s]"
          ],
          "name": "stderr"
        },
        {
          "output_type": "stream",
          "text": [
            "test_acc: 0.712\n"
          ],
          "name": "stdout"
        },
        {
          "output_type": "stream",
          "text": [
            "Epoch 366: 100%|██████████| 391/391 [00:24<00:00, 15.80it/s, acc=0.852, xentropy=0.511]\n",
            "  0%|          | 0/391 [00:00<?, ?it/s]"
          ],
          "name": "stderr"
        },
        {
          "output_type": "stream",
          "text": [
            "test_acc: 0.714\n"
          ],
          "name": "stdout"
        },
        {
          "output_type": "stream",
          "text": [
            "Epoch 367: 100%|██████████| 391/391 [00:24<00:00, 15.81it/s, acc=0.852, xentropy=0.513]\n",
            "  0%|          | 0/391 [00:00<?, ?it/s]"
          ],
          "name": "stderr"
        },
        {
          "output_type": "stream",
          "text": [
            "test_acc: 0.710\n"
          ],
          "name": "stdout"
        },
        {
          "output_type": "stream",
          "text": [
            "Epoch 368: 100%|██████████| 391/391 [00:25<00:00, 15.50it/s, acc=0.852, xentropy=0.509]\n",
            "  0%|          | 0/391 [00:00<?, ?it/s]"
          ],
          "name": "stderr"
        },
        {
          "output_type": "stream",
          "text": [
            "test_acc: 0.712\n"
          ],
          "name": "stdout"
        },
        {
          "output_type": "stream",
          "text": [
            "Epoch 369: 100%|██████████| 391/391 [00:24<00:00, 15.70it/s, acc=0.847, xentropy=0.521]\n",
            "  0%|          | 0/391 [00:00<?, ?it/s]"
          ],
          "name": "stderr"
        },
        {
          "output_type": "stream",
          "text": [
            "test_acc: 0.713\n"
          ],
          "name": "stdout"
        },
        {
          "output_type": "stream",
          "text": [
            "Epoch 370: 100%|██████████| 391/391 [00:24<00:00, 15.64it/s, acc=0.854, xentropy=0.505]\n",
            "  0%|          | 0/391 [00:00<?, ?it/s]"
          ],
          "name": "stderr"
        },
        {
          "output_type": "stream",
          "text": [
            "test_acc: 0.713\n"
          ],
          "name": "stdout"
        },
        {
          "output_type": "stream",
          "text": [
            "Epoch 371: 100%|██████████| 391/391 [00:24<00:00, 15.87it/s, acc=0.851, xentropy=0.512]\n",
            "  0%|          | 0/391 [00:00<?, ?it/s]"
          ],
          "name": "stderr"
        },
        {
          "output_type": "stream",
          "text": [
            "test_acc: 0.714\n"
          ],
          "name": "stdout"
        },
        {
          "output_type": "stream",
          "text": [
            "Epoch 372: 100%|██████████| 391/391 [00:25<00:00, 15.62it/s, acc=0.853, xentropy=0.510]\n",
            "  0%|          | 0/391 [00:00<?, ?it/s]"
          ],
          "name": "stderr"
        },
        {
          "output_type": "stream",
          "text": [
            "test_acc: 0.712\n"
          ],
          "name": "stdout"
        },
        {
          "output_type": "stream",
          "text": [
            "Epoch 373: 100%|██████████| 391/391 [00:24<00:00, 15.83it/s, acc=0.851, xentropy=0.514]\n",
            "  0%|          | 0/391 [00:00<?, ?it/s]"
          ],
          "name": "stderr"
        },
        {
          "output_type": "stream",
          "text": [
            "test_acc: 0.712\n"
          ],
          "name": "stdout"
        },
        {
          "output_type": "stream",
          "text": [
            "Epoch 374: 100%|██████████| 391/391 [00:24<00:00, 15.79it/s, acc=0.852, xentropy=0.515]\n",
            "  0%|          | 0/391 [00:00<?, ?it/s]"
          ],
          "name": "stderr"
        },
        {
          "output_type": "stream",
          "text": [
            "test_acc: 0.712\n"
          ],
          "name": "stdout"
        },
        {
          "output_type": "stream",
          "text": [
            "Epoch 375: 100%|██████████| 391/391 [00:24<00:00, 15.79it/s, acc=0.852, xentropy=0.512]\n",
            "  0%|          | 0/391 [00:00<?, ?it/s]"
          ],
          "name": "stderr"
        },
        {
          "output_type": "stream",
          "text": [
            "test_acc: 0.713\n"
          ],
          "name": "stdout"
        },
        {
          "output_type": "stream",
          "text": [
            "Epoch 376: 100%|██████████| 391/391 [00:24<00:00, 15.72it/s, acc=0.850, xentropy=0.513]\n",
            "  0%|          | 0/391 [00:00<?, ?it/s]"
          ],
          "name": "stderr"
        },
        {
          "output_type": "stream",
          "text": [
            "test_acc: 0.712\n"
          ],
          "name": "stdout"
        },
        {
          "output_type": "stream",
          "text": [
            "Epoch 377: 100%|██████████| 391/391 [00:24<00:00, 15.76it/s, acc=0.850, xentropy=0.517]\n",
            "  0%|          | 0/391 [00:00<?, ?it/s]"
          ],
          "name": "stderr"
        },
        {
          "output_type": "stream",
          "text": [
            "test_acc: 0.714\n"
          ],
          "name": "stdout"
        },
        {
          "output_type": "stream",
          "text": [
            "Epoch 378: 100%|██████████| 391/391 [00:24<00:00, 15.74it/s, acc=0.851, xentropy=0.513]\n",
            "  0%|          | 0/391 [00:00<?, ?it/s]"
          ],
          "name": "stderr"
        },
        {
          "output_type": "stream",
          "text": [
            "test_acc: 0.712\n"
          ],
          "name": "stdout"
        },
        {
          "output_type": "stream",
          "text": [
            "Epoch 379: 100%|██████████| 391/391 [00:24<00:00, 15.71it/s, acc=0.851, xentropy=0.514]\n",
            "  0%|          | 0/391 [00:00<?, ?it/s]"
          ],
          "name": "stderr"
        },
        {
          "output_type": "stream",
          "text": [
            "test_acc: 0.712\n"
          ],
          "name": "stdout"
        },
        {
          "output_type": "stream",
          "text": [
            "Epoch 380: 100%|██████████| 391/391 [00:24<00:00, 15.85it/s, acc=0.852, xentropy=0.511]\n",
            "  0%|          | 0/391 [00:00<?, ?it/s]"
          ],
          "name": "stderr"
        },
        {
          "output_type": "stream",
          "text": [
            "test_acc: 0.712\n"
          ],
          "name": "stdout"
        },
        {
          "output_type": "stream",
          "text": [
            "Epoch 381: 100%|██████████| 391/391 [00:24<00:00, 15.76it/s, acc=0.851, xentropy=0.515]\n",
            "  0%|          | 0/391 [00:00<?, ?it/s]"
          ],
          "name": "stderr"
        },
        {
          "output_type": "stream",
          "text": [
            "test_acc: 0.713\n"
          ],
          "name": "stdout"
        },
        {
          "output_type": "stream",
          "text": [
            "Epoch 382: 100%|██████████| 391/391 [00:24<00:00, 15.77it/s, acc=0.852, xentropy=0.510]\n",
            "  0%|          | 0/391 [00:00<?, ?it/s]"
          ],
          "name": "stderr"
        },
        {
          "output_type": "stream",
          "text": [
            "test_acc: 0.711\n"
          ],
          "name": "stdout"
        },
        {
          "output_type": "stream",
          "text": [
            "Epoch 383: 100%|██████████| 391/391 [00:24<00:00, 15.84it/s, acc=0.854, xentropy=0.508]\n",
            "  0%|          | 0/391 [00:00<?, ?it/s]"
          ],
          "name": "stderr"
        },
        {
          "output_type": "stream",
          "text": [
            "test_acc: 0.714\n"
          ],
          "name": "stdout"
        },
        {
          "output_type": "stream",
          "text": [
            "Epoch 384: 100%|██████████| 391/391 [00:24<00:00, 15.65it/s, acc=0.851, xentropy=0.514]\n",
            "  0%|          | 0/391 [00:00<?, ?it/s]"
          ],
          "name": "stderr"
        },
        {
          "output_type": "stream",
          "text": [
            "test_acc: 0.713\n"
          ],
          "name": "stdout"
        },
        {
          "output_type": "stream",
          "text": [
            "Epoch 385: 100%|██████████| 391/391 [00:24<00:00, 15.99it/s, acc=0.851, xentropy=0.514]\n",
            "  0%|          | 0/391 [00:00<?, ?it/s]"
          ],
          "name": "stderr"
        },
        {
          "output_type": "stream",
          "text": [
            "test_acc: 0.712\n"
          ],
          "name": "stdout"
        },
        {
          "output_type": "stream",
          "text": [
            "Epoch 386: 100%|██████████| 391/391 [00:24<00:00, 15.94it/s, acc=0.851, xentropy=0.517]\n",
            "  0%|          | 0/391 [00:00<?, ?it/s]"
          ],
          "name": "stderr"
        },
        {
          "output_type": "stream",
          "text": [
            "test_acc: 0.714\n"
          ],
          "name": "stdout"
        },
        {
          "output_type": "stream",
          "text": [
            "Epoch 387: 100%|██████████| 391/391 [00:24<00:00, 15.74it/s, acc=0.854, xentropy=0.505]\n",
            "  0%|          | 0/391 [00:00<?, ?it/s]"
          ],
          "name": "stderr"
        },
        {
          "output_type": "stream",
          "text": [
            "test_acc: 0.713\n"
          ],
          "name": "stdout"
        },
        {
          "output_type": "stream",
          "text": [
            "Epoch 388: 100%|██████████| 391/391 [00:24<00:00, 15.80it/s, acc=0.852, xentropy=0.513]\n",
            "  0%|          | 0/391 [00:00<?, ?it/s]"
          ],
          "name": "stderr"
        },
        {
          "output_type": "stream",
          "text": [
            "test_acc: 0.712\n"
          ],
          "name": "stdout"
        },
        {
          "output_type": "stream",
          "text": [
            "Epoch 389: 100%|██████████| 391/391 [00:25<00:00, 15.58it/s, acc=0.851, xentropy=0.512]\n",
            "  0%|          | 0/391 [00:00<?, ?it/s]"
          ],
          "name": "stderr"
        },
        {
          "output_type": "stream",
          "text": [
            "test_acc: 0.712\n"
          ],
          "name": "stdout"
        },
        {
          "output_type": "stream",
          "text": [
            "Epoch 390: 100%|██████████| 391/391 [00:24<00:00, 15.74it/s, acc=0.854, xentropy=0.511]\n",
            "  0%|          | 0/391 [00:00<?, ?it/s]"
          ],
          "name": "stderr"
        },
        {
          "output_type": "stream",
          "text": [
            "test_acc: 0.711\n"
          ],
          "name": "stdout"
        },
        {
          "output_type": "stream",
          "text": [
            "Epoch 391: 100%|██████████| 391/391 [00:24<00:00, 15.86it/s, acc=0.853, xentropy=0.507]\n",
            "  0%|          | 0/391 [00:00<?, ?it/s]"
          ],
          "name": "stderr"
        },
        {
          "output_type": "stream",
          "text": [
            "test_acc: 0.712\n"
          ],
          "name": "stdout"
        },
        {
          "output_type": "stream",
          "text": [
            "Epoch 392: 100%|██████████| 391/391 [00:24<00:00, 15.82it/s, acc=0.851, xentropy=0.512]\n",
            "  0%|          | 0/391 [00:00<?, ?it/s]"
          ],
          "name": "stderr"
        },
        {
          "output_type": "stream",
          "text": [
            "test_acc: 0.713\n"
          ],
          "name": "stdout"
        },
        {
          "output_type": "stream",
          "text": [
            "Epoch 393: 100%|██████████| 391/391 [00:25<00:00, 15.54it/s, acc=0.852, xentropy=0.513]\n",
            "  0%|          | 0/391 [00:00<?, ?it/s]"
          ],
          "name": "stderr"
        },
        {
          "output_type": "stream",
          "text": [
            "test_acc: 0.712\n"
          ],
          "name": "stdout"
        },
        {
          "output_type": "stream",
          "text": [
            "Epoch 394: 100%|██████████| 391/391 [00:25<00:00, 15.59it/s, acc=0.852, xentropy=0.513]\n",
            "  0%|          | 0/391 [00:00<?, ?it/s]"
          ],
          "name": "stderr"
        },
        {
          "output_type": "stream",
          "text": [
            "test_acc: 0.713\n"
          ],
          "name": "stdout"
        },
        {
          "output_type": "stream",
          "text": [
            "Epoch 395: 100%|██████████| 391/391 [00:25<00:00, 15.52it/s, acc=0.852, xentropy=0.515]\n",
            "  0%|          | 0/391 [00:00<?, ?it/s]"
          ],
          "name": "stderr"
        },
        {
          "output_type": "stream",
          "text": [
            "test_acc: 0.712\n"
          ],
          "name": "stdout"
        },
        {
          "output_type": "stream",
          "text": [
            "Epoch 396: 100%|██████████| 391/391 [00:25<00:00, 15.45it/s, acc=0.852, xentropy=0.512]\n",
            "  0%|          | 0/391 [00:00<?, ?it/s]"
          ],
          "name": "stderr"
        },
        {
          "output_type": "stream",
          "text": [
            "test_acc: 0.714\n"
          ],
          "name": "stdout"
        },
        {
          "output_type": "stream",
          "text": [
            "Epoch 397: 100%|██████████| 391/391 [00:24<00:00, 15.84it/s, acc=0.853, xentropy=0.511]\n",
            "  0%|          | 0/391 [00:00<?, ?it/s]"
          ],
          "name": "stderr"
        },
        {
          "output_type": "stream",
          "text": [
            "test_acc: 0.712\n"
          ],
          "name": "stdout"
        },
        {
          "output_type": "stream",
          "text": [
            "Epoch 398: 100%|██████████| 391/391 [00:25<00:00, 15.64it/s, acc=0.853, xentropy=0.514]\n",
            "  0%|          | 0/391 [00:00<?, ?it/s]"
          ],
          "name": "stderr"
        },
        {
          "output_type": "stream",
          "text": [
            "test_acc: 0.712\n"
          ],
          "name": "stdout"
        },
        {
          "output_type": "stream",
          "text": [
            "Epoch 399: 100%|██████████| 391/391 [00:24<00:00, 15.68it/s, acc=0.851, xentropy=0.512]\n"
          ],
          "name": "stderr"
        },
        {
          "output_type": "stream",
          "text": [
            "test_acc: 0.712\n"
          ],
          "name": "stdout"
        }
      ]
    },
    {
      "cell_type": "code",
      "metadata": {
        "id": "YxkRYUnbJU00",
        "colab_type": "code",
        "colab": {
          "base_uri": "https://localhost:8080/",
          "height": 1000
        },
        "outputId": "e194c261-5cf2-4f03-97d2-a4c638156bd6"
      },
      "source": [
        "train(325,400,0.000001)"
      ],
      "execution_count": 33,
      "outputs": [
        {
          "output_type": "stream",
          "text": [
            "Epoch 325: 100%|██████████| 391/391 [00:25<00:00, 15.63it/s, acc=0.851, xentropy=0.515]\n",
            "  0%|          | 0/391 [00:00<?, ?it/s]"
          ],
          "name": "stderr"
        },
        {
          "output_type": "stream",
          "text": [
            "test_acc: 0.711\n"
          ],
          "name": "stdout"
        },
        {
          "output_type": "stream",
          "text": [
            "Epoch 326: 100%|██████████| 391/391 [00:25<00:00, 15.64it/s, acc=0.852, xentropy=0.512]\n",
            "  0%|          | 0/391 [00:00<?, ?it/s]"
          ],
          "name": "stderr"
        },
        {
          "output_type": "stream",
          "text": [
            "test_acc: 0.712\n"
          ],
          "name": "stdout"
        },
        {
          "output_type": "stream",
          "text": [
            "Epoch 327: 100%|██████████| 391/391 [00:24<00:00, 15.82it/s, acc=0.852, xentropy=0.512]\n",
            "  0%|          | 0/391 [00:00<?, ?it/s]"
          ],
          "name": "stderr"
        },
        {
          "output_type": "stream",
          "text": [
            "test_acc: 0.712\n"
          ],
          "name": "stdout"
        },
        {
          "output_type": "stream",
          "text": [
            "Epoch 328: 100%|██████████| 391/391 [00:24<00:00, 15.91it/s, acc=0.851, xentropy=0.511]\n",
            "  0%|          | 0/391 [00:00<?, ?it/s]"
          ],
          "name": "stderr"
        },
        {
          "output_type": "stream",
          "text": [
            "test_acc: 0.714\n"
          ],
          "name": "stdout"
        },
        {
          "output_type": "stream",
          "text": [
            "Epoch 329: 100%|██████████| 391/391 [00:24<00:00, 15.70it/s, acc=0.852, xentropy=0.512]\n",
            "  0%|          | 0/391 [00:00<?, ?it/s]"
          ],
          "name": "stderr"
        },
        {
          "output_type": "stream",
          "text": [
            "test_acc: 0.711\n"
          ],
          "name": "stdout"
        },
        {
          "output_type": "stream",
          "text": [
            "Epoch 330: 100%|██████████| 391/391 [00:24<00:00, 15.83it/s, acc=0.853, xentropy=0.510]\n",
            "  0%|          | 0/391 [00:00<?, ?it/s]"
          ],
          "name": "stderr"
        },
        {
          "output_type": "stream",
          "text": [
            "test_acc: 0.713\n"
          ],
          "name": "stdout"
        },
        {
          "output_type": "stream",
          "text": [
            "Epoch 331: 100%|██████████| 391/391 [00:24<00:00, 15.81it/s, acc=0.852, xentropy=0.512]\n",
            "  0%|          | 0/391 [00:00<?, ?it/s]"
          ],
          "name": "stderr"
        },
        {
          "output_type": "stream",
          "text": [
            "test_acc: 0.711\n"
          ],
          "name": "stdout"
        },
        {
          "output_type": "stream",
          "text": [
            "Epoch 332: 100%|██████████| 391/391 [00:24<00:00, 15.71it/s, acc=0.849, xentropy=0.520]\n",
            "  0%|          | 0/391 [00:00<?, ?it/s]"
          ],
          "name": "stderr"
        },
        {
          "output_type": "stream",
          "text": [
            "test_acc: 0.711\n"
          ],
          "name": "stdout"
        },
        {
          "output_type": "stream",
          "text": [
            "Epoch 333: 100%|██████████| 391/391 [00:24<00:00, 15.67it/s, acc=0.850, xentropy=0.515]\n",
            "  0%|          | 0/391 [00:00<?, ?it/s]"
          ],
          "name": "stderr"
        },
        {
          "output_type": "stream",
          "text": [
            "test_acc: 0.713\n"
          ],
          "name": "stdout"
        },
        {
          "output_type": "stream",
          "text": [
            "Epoch 334: 100%|██████████| 391/391 [00:24<00:00, 15.96it/s, acc=0.852, xentropy=0.513]\n",
            "  0%|          | 0/391 [00:00<?, ?it/s]"
          ],
          "name": "stderr"
        },
        {
          "output_type": "stream",
          "text": [
            "test_acc: 0.711\n"
          ],
          "name": "stdout"
        },
        {
          "output_type": "stream",
          "text": [
            "Epoch 335: 100%|██████████| 391/391 [00:24<00:00, 15.82it/s, acc=0.852, xentropy=0.511]\n",
            "  0%|          | 0/391 [00:00<?, ?it/s]"
          ],
          "name": "stderr"
        },
        {
          "output_type": "stream",
          "text": [
            "test_acc: 0.711\n"
          ],
          "name": "stdout"
        },
        {
          "output_type": "stream",
          "text": [
            "Epoch 336: 100%|██████████| 391/391 [00:24<00:00, 15.79it/s, acc=0.852, xentropy=0.512]\n",
            "  0%|          | 0/391 [00:00<?, ?it/s]"
          ],
          "name": "stderr"
        },
        {
          "output_type": "stream",
          "text": [
            "test_acc: 0.712\n"
          ],
          "name": "stdout"
        },
        {
          "output_type": "stream",
          "text": [
            "Epoch 337: 100%|██████████| 391/391 [00:24<00:00, 15.82it/s, acc=0.849, xentropy=0.515]\n",
            "  0%|          | 0/391 [00:00<?, ?it/s]"
          ],
          "name": "stderr"
        },
        {
          "output_type": "stream",
          "text": [
            "test_acc: 0.712\n"
          ],
          "name": "stdout"
        },
        {
          "output_type": "stream",
          "text": [
            "Epoch 338: 100%|██████████| 391/391 [00:25<00:00, 15.59it/s, acc=0.851, xentropy=0.513]\n",
            "  0%|          | 0/391 [00:00<?, ?it/s]"
          ],
          "name": "stderr"
        },
        {
          "output_type": "stream",
          "text": [
            "test_acc: 0.713\n"
          ],
          "name": "stdout"
        },
        {
          "output_type": "stream",
          "text": [
            "Epoch 339: 100%|██████████| 391/391 [00:24<00:00, 15.89it/s, acc=0.854, xentropy=0.514]\n",
            "  0%|          | 0/391 [00:00<?, ?it/s]"
          ],
          "name": "stderr"
        },
        {
          "output_type": "stream",
          "text": [
            "test_acc: 0.714\n"
          ],
          "name": "stdout"
        },
        {
          "output_type": "stream",
          "text": [
            "Epoch 340: 100%|██████████| 391/391 [00:24<00:00, 15.99it/s, acc=0.854, xentropy=0.510]\n",
            "  0%|          | 0/391 [00:00<?, ?it/s]"
          ],
          "name": "stderr"
        },
        {
          "output_type": "stream",
          "text": [
            "test_acc: 0.711\n"
          ],
          "name": "stdout"
        },
        {
          "output_type": "stream",
          "text": [
            "Epoch 341: 100%|██████████| 391/391 [00:24<00:00, 15.87it/s, acc=0.853, xentropy=0.508]\n",
            "  0%|          | 0/391 [00:00<?, ?it/s]"
          ],
          "name": "stderr"
        },
        {
          "output_type": "stream",
          "text": [
            "test_acc: 0.712\n"
          ],
          "name": "stdout"
        },
        {
          "output_type": "stream",
          "text": [
            "Epoch 342: 100%|██████████| 391/391 [00:24<00:00, 15.95it/s, acc=0.852, xentropy=0.512]\n",
            "  0%|          | 0/391 [00:00<?, ?it/s]"
          ],
          "name": "stderr"
        },
        {
          "output_type": "stream",
          "text": [
            "test_acc: 0.712\n"
          ],
          "name": "stdout"
        },
        {
          "output_type": "stream",
          "text": [
            "Epoch 343: 100%|██████████| 391/391 [00:24<00:00, 15.77it/s, acc=0.853, xentropy=0.507]\n",
            "  0%|          | 0/391 [00:00<?, ?it/s]"
          ],
          "name": "stderr"
        },
        {
          "output_type": "stream",
          "text": [
            "test_acc: 0.712\n"
          ],
          "name": "stdout"
        },
        {
          "output_type": "stream",
          "text": [
            "Epoch 344: 100%|██████████| 391/391 [00:24<00:00, 15.84it/s, acc=0.854, xentropy=0.508]\n",
            "  0%|          | 0/391 [00:00<?, ?it/s]"
          ],
          "name": "stderr"
        },
        {
          "output_type": "stream",
          "text": [
            "test_acc: 0.713\n"
          ],
          "name": "stdout"
        },
        {
          "output_type": "stream",
          "text": [
            "Epoch 345: 100%|██████████| 391/391 [00:24<00:00, 15.87it/s, acc=0.850, xentropy=0.516]\n",
            "  0%|          | 0/391 [00:00<?, ?it/s]"
          ],
          "name": "stderr"
        },
        {
          "output_type": "stream",
          "text": [
            "test_acc: 0.713\n"
          ],
          "name": "stdout"
        },
        {
          "output_type": "stream",
          "text": [
            "Epoch 346: 100%|██████████| 391/391 [00:24<00:00, 15.84it/s, acc=0.850, xentropy=0.517]\n",
            "  0%|          | 0/391 [00:00<?, ?it/s]"
          ],
          "name": "stderr"
        },
        {
          "output_type": "stream",
          "text": [
            "test_acc: 0.713\n"
          ],
          "name": "stdout"
        },
        {
          "output_type": "stream",
          "text": [
            "Epoch 347: 100%|██████████| 391/391 [00:24<00:00, 15.72it/s, acc=0.854, xentropy=0.508]\n",
            "  0%|          | 0/391 [00:00<?, ?it/s]"
          ],
          "name": "stderr"
        },
        {
          "output_type": "stream",
          "text": [
            "test_acc: 0.711\n"
          ],
          "name": "stdout"
        },
        {
          "output_type": "stream",
          "text": [
            "Epoch 348: 100%|██████████| 391/391 [00:24<00:00, 16.10it/s, acc=0.852, xentropy=0.508]\n",
            "  0%|          | 0/391 [00:00<?, ?it/s]"
          ],
          "name": "stderr"
        },
        {
          "output_type": "stream",
          "text": [
            "test_acc: 0.712\n"
          ],
          "name": "stdout"
        },
        {
          "output_type": "stream",
          "text": [
            "Epoch 349: 100%|██████████| 391/391 [00:24<00:00, 15.74it/s, acc=0.852, xentropy=0.511]\n",
            "  0%|          | 0/391 [00:00<?, ?it/s]"
          ],
          "name": "stderr"
        },
        {
          "output_type": "stream",
          "text": [
            "test_acc: 0.713\n"
          ],
          "name": "stdout"
        },
        {
          "output_type": "stream",
          "text": [
            "Epoch 350: 100%|██████████| 391/391 [00:24<00:00, 15.85it/s, acc=0.852, xentropy=0.511]\n",
            "  0%|          | 0/391 [00:00<?, ?it/s]"
          ],
          "name": "stderr"
        },
        {
          "output_type": "stream",
          "text": [
            "test_acc: 0.714\n"
          ],
          "name": "stdout"
        },
        {
          "output_type": "stream",
          "text": [
            "Epoch 351: 100%|██████████| 391/391 [00:24<00:00, 15.84it/s, acc=0.853, xentropy=0.508]\n",
            "  0%|          | 0/391 [00:00<?, ?it/s]"
          ],
          "name": "stderr"
        },
        {
          "output_type": "stream",
          "text": [
            "test_acc: 0.713\n"
          ],
          "name": "stdout"
        },
        {
          "output_type": "stream",
          "text": [
            "Epoch 352: 100%|██████████| 391/391 [00:24<00:00, 15.86it/s, acc=0.854, xentropy=0.506]\n",
            "  0%|          | 0/391 [00:00<?, ?it/s]"
          ],
          "name": "stderr"
        },
        {
          "output_type": "stream",
          "text": [
            "test_acc: 0.712\n"
          ],
          "name": "stdout"
        },
        {
          "output_type": "stream",
          "text": [
            "Epoch 353: 100%|██████████| 391/391 [00:24<00:00, 15.90it/s, acc=0.853, xentropy=0.509]\n",
            "  0%|          | 0/391 [00:00<?, ?it/s]"
          ],
          "name": "stderr"
        },
        {
          "output_type": "stream",
          "text": [
            "test_acc: 0.712\n"
          ],
          "name": "stdout"
        },
        {
          "output_type": "stream",
          "text": [
            "Epoch 354: 100%|██████████| 391/391 [00:24<00:00, 15.98it/s, acc=0.851, xentropy=0.515]\n",
            "  0%|          | 0/391 [00:00<?, ?it/s]"
          ],
          "name": "stderr"
        },
        {
          "output_type": "stream",
          "text": [
            "test_acc: 0.712\n"
          ],
          "name": "stdout"
        },
        {
          "output_type": "stream",
          "text": [
            "Epoch 355: 100%|██████████| 391/391 [00:24<00:00, 15.72it/s, acc=0.854, xentropy=0.508]\n",
            "  0%|          | 0/391 [00:00<?, ?it/s]"
          ],
          "name": "stderr"
        },
        {
          "output_type": "stream",
          "text": [
            "test_acc: 0.712\n"
          ],
          "name": "stdout"
        },
        {
          "output_type": "stream",
          "text": [
            "Epoch 356: 100%|██████████| 391/391 [00:24<00:00, 15.80it/s, acc=0.852, xentropy=0.508]\n",
            "  0%|          | 0/391 [00:00<?, ?it/s]"
          ],
          "name": "stderr"
        },
        {
          "output_type": "stream",
          "text": [
            "test_acc: 0.713\n"
          ],
          "name": "stdout"
        },
        {
          "output_type": "stream",
          "text": [
            "Epoch 357: 100%|██████████| 391/391 [00:24<00:00, 15.96it/s, acc=0.852, xentropy=0.514]\n",
            "  0%|          | 0/391 [00:00<?, ?it/s]"
          ],
          "name": "stderr"
        },
        {
          "output_type": "stream",
          "text": [
            "test_acc: 0.713\n"
          ],
          "name": "stdout"
        },
        {
          "output_type": "stream",
          "text": [
            "Epoch 358: 100%|██████████| 391/391 [00:25<00:00, 15.60it/s, acc=0.852, xentropy=0.510]\n",
            "  0%|          | 0/391 [00:00<?, ?it/s]"
          ],
          "name": "stderr"
        },
        {
          "output_type": "stream",
          "text": [
            "test_acc: 0.713\n"
          ],
          "name": "stdout"
        },
        {
          "output_type": "stream",
          "text": [
            "Epoch 359: 100%|██████████| 391/391 [00:24<00:00, 15.95it/s, acc=0.851, xentropy=0.510]\n",
            "  0%|          | 0/391 [00:00<?, ?it/s]"
          ],
          "name": "stderr"
        },
        {
          "output_type": "stream",
          "text": [
            "test_acc: 0.712\n"
          ],
          "name": "stdout"
        },
        {
          "output_type": "stream",
          "text": [
            "Epoch 360: 100%|██████████| 391/391 [00:24<00:00, 15.79it/s, acc=0.853, xentropy=0.510]\n",
            "  0%|          | 0/391 [00:00<?, ?it/s]"
          ],
          "name": "stderr"
        },
        {
          "output_type": "stream",
          "text": [
            "test_acc: 0.712\n"
          ],
          "name": "stdout"
        },
        {
          "output_type": "stream",
          "text": [
            "Epoch 361: 100%|██████████| 391/391 [00:25<00:00, 15.55it/s, acc=0.853, xentropy=0.512]\n",
            "  0%|          | 0/391 [00:00<?, ?it/s]"
          ],
          "name": "stderr"
        },
        {
          "output_type": "stream",
          "text": [
            "test_acc: 0.712\n"
          ],
          "name": "stdout"
        },
        {
          "output_type": "stream",
          "text": [
            "Epoch 362: 100%|██████████| 391/391 [00:24<00:00, 15.88it/s, acc=0.853, xentropy=0.511]\n",
            "  0%|          | 0/391 [00:00<?, ?it/s]"
          ],
          "name": "stderr"
        },
        {
          "output_type": "stream",
          "text": [
            "test_acc: 0.712\n"
          ],
          "name": "stdout"
        },
        {
          "output_type": "stream",
          "text": [
            "Epoch 363: 100%|██████████| 391/391 [00:24<00:00, 15.81it/s, acc=0.851, xentropy=0.512]\n",
            "  0%|          | 0/391 [00:00<?, ?it/s]"
          ],
          "name": "stderr"
        },
        {
          "output_type": "stream",
          "text": [
            "test_acc: 0.713\n"
          ],
          "name": "stdout"
        },
        {
          "output_type": "stream",
          "text": [
            "Epoch 364: 100%|██████████| 391/391 [00:24<00:00, 15.79it/s, acc=0.850, xentropy=0.514]\n",
            "  0%|          | 0/391 [00:00<?, ?it/s]"
          ],
          "name": "stderr"
        },
        {
          "output_type": "stream",
          "text": [
            "test_acc: 0.712\n"
          ],
          "name": "stdout"
        },
        {
          "output_type": "stream",
          "text": [
            "Epoch 365: 100%|██████████| 391/391 [00:24<00:00, 15.77it/s, acc=0.852, xentropy=0.510]\n",
            "  0%|          | 0/391 [00:00<?, ?it/s]"
          ],
          "name": "stderr"
        },
        {
          "output_type": "stream",
          "text": [
            "test_acc: 0.712\n"
          ],
          "name": "stdout"
        },
        {
          "output_type": "stream",
          "text": [
            "Epoch 366: 100%|██████████| 391/391 [00:24<00:00, 15.88it/s, acc=0.855, xentropy=0.503]\n",
            "  0%|          | 0/391 [00:00<?, ?it/s]"
          ],
          "name": "stderr"
        },
        {
          "output_type": "stream",
          "text": [
            "test_acc: 0.713\n"
          ],
          "name": "stdout"
        },
        {
          "output_type": "stream",
          "text": [
            "Epoch 367: 100%|██████████| 391/391 [00:25<00:00, 15.53it/s, acc=0.852, xentropy=0.511]\n",
            "  0%|          | 0/391 [00:00<?, ?it/s]"
          ],
          "name": "stderr"
        },
        {
          "output_type": "stream",
          "text": [
            "test_acc: 0.714\n"
          ],
          "name": "stdout"
        },
        {
          "output_type": "stream",
          "text": [
            "Epoch 368: 100%|██████████| 391/391 [00:25<00:00, 15.64it/s, acc=0.851, xentropy=0.513]\n",
            "  0%|          | 0/391 [00:00<?, ?it/s]"
          ],
          "name": "stderr"
        },
        {
          "output_type": "stream",
          "text": [
            "test_acc: 0.712\n"
          ],
          "name": "stdout"
        },
        {
          "output_type": "stream",
          "text": [
            "Epoch 369: 100%|██████████| 391/391 [00:24<00:00, 15.75it/s, acc=0.851, xentropy=0.510]\n",
            "  0%|          | 0/391 [00:00<?, ?it/s]"
          ],
          "name": "stderr"
        },
        {
          "output_type": "stream",
          "text": [
            "test_acc: 0.711\n"
          ],
          "name": "stdout"
        },
        {
          "output_type": "stream",
          "text": [
            "Epoch 370: 100%|██████████| 391/391 [00:24<00:00, 15.75it/s, acc=0.852, xentropy=0.512]\n",
            "  0%|          | 0/391 [00:00<?, ?it/s]"
          ],
          "name": "stderr"
        },
        {
          "output_type": "stream",
          "text": [
            "test_acc: 0.713\n"
          ],
          "name": "stdout"
        },
        {
          "output_type": "stream",
          "text": [
            "Epoch 371: 100%|██████████| 391/391 [00:24<00:00, 15.73it/s, acc=0.852, xentropy=0.512]\n",
            "  0%|          | 0/391 [00:00<?, ?it/s]"
          ],
          "name": "stderr"
        },
        {
          "output_type": "stream",
          "text": [
            "test_acc: 0.713\n"
          ],
          "name": "stdout"
        },
        {
          "output_type": "stream",
          "text": [
            "Epoch 372: 100%|██████████| 391/391 [00:25<00:00, 15.59it/s, acc=0.850, xentropy=0.515]\n",
            "  0%|          | 0/391 [00:00<?, ?it/s]"
          ],
          "name": "stderr"
        },
        {
          "output_type": "stream",
          "text": [
            "test_acc: 0.711\n"
          ],
          "name": "stdout"
        },
        {
          "output_type": "stream",
          "text": [
            "Epoch 373: 100%|██████████| 391/391 [00:24<00:00, 15.88it/s, acc=0.853, xentropy=0.511]\n",
            "  0%|          | 0/391 [00:00<?, ?it/s]"
          ],
          "name": "stderr"
        },
        {
          "output_type": "stream",
          "text": [
            "test_acc: 0.712\n"
          ],
          "name": "stdout"
        },
        {
          "output_type": "stream",
          "text": [
            "Epoch 374: 100%|██████████| 391/391 [00:25<00:00, 15.59it/s, acc=0.851, xentropy=0.512]\n",
            "  0%|          | 0/391 [00:00<?, ?it/s]"
          ],
          "name": "stderr"
        },
        {
          "output_type": "stream",
          "text": [
            "test_acc: 0.712\n"
          ],
          "name": "stdout"
        },
        {
          "output_type": "stream",
          "text": [
            "Epoch 375: 100%|██████████| 391/391 [00:25<00:00, 15.56it/s, acc=0.851, xentropy=0.516]\n",
            "  0%|          | 0/391 [00:00<?, ?it/s]"
          ],
          "name": "stderr"
        },
        {
          "output_type": "stream",
          "text": [
            "test_acc: 0.712\n"
          ],
          "name": "stdout"
        },
        {
          "output_type": "stream",
          "text": [
            "Epoch 376: 100%|██████████| 391/391 [00:25<00:00, 15.61it/s, acc=0.852, xentropy=0.515]\n",
            "  0%|          | 0/391 [00:00<?, ?it/s]"
          ],
          "name": "stderr"
        },
        {
          "output_type": "stream",
          "text": [
            "test_acc: 0.712\n"
          ],
          "name": "stdout"
        },
        {
          "output_type": "stream",
          "text": [
            "Epoch 377: 100%|██████████| 391/391 [00:24<00:00, 15.75it/s, acc=0.852, xentropy=0.515]\n",
            "  0%|          | 0/391 [00:00<?, ?it/s]"
          ],
          "name": "stderr"
        },
        {
          "output_type": "stream",
          "text": [
            "test_acc: 0.712\n"
          ],
          "name": "stdout"
        },
        {
          "output_type": "stream",
          "text": [
            "Epoch 378: 100%|██████████| 391/391 [00:24<00:00, 15.80it/s, acc=0.852, xentropy=0.512]\n",
            "  0%|          | 0/391 [00:00<?, ?it/s]"
          ],
          "name": "stderr"
        },
        {
          "output_type": "stream",
          "text": [
            "test_acc: 0.713\n"
          ],
          "name": "stdout"
        },
        {
          "output_type": "stream",
          "text": [
            "Epoch 379: 100%|██████████| 391/391 [00:25<00:00, 15.51it/s, acc=0.851, xentropy=0.513]\n",
            "  0%|          | 0/391 [00:00<?, ?it/s]"
          ],
          "name": "stderr"
        },
        {
          "output_type": "stream",
          "text": [
            "test_acc: 0.712\n"
          ],
          "name": "stdout"
        },
        {
          "output_type": "stream",
          "text": [
            "Epoch 380: 100%|██████████| 391/391 [00:25<00:00, 15.64it/s, acc=0.850, xentropy=0.516]\n",
            "  0%|          | 0/391 [00:00<?, ?it/s]"
          ],
          "name": "stderr"
        },
        {
          "output_type": "stream",
          "text": [
            "test_acc: 0.713\n"
          ],
          "name": "stdout"
        },
        {
          "output_type": "stream",
          "text": [
            "Epoch 381: 100%|██████████| 391/391 [00:24<00:00, 15.71it/s, acc=0.849, xentropy=0.519]\n",
            "  0%|          | 0/391 [00:00<?, ?it/s]"
          ],
          "name": "stderr"
        },
        {
          "output_type": "stream",
          "text": [
            "test_acc: 0.711\n"
          ],
          "name": "stdout"
        },
        {
          "output_type": "stream",
          "text": [
            "Epoch 382: 100%|██████████| 391/391 [00:24<00:00, 15.73it/s, acc=0.852, xentropy=0.511]\n",
            "  0%|          | 0/391 [00:00<?, ?it/s]"
          ],
          "name": "stderr"
        },
        {
          "output_type": "stream",
          "text": [
            "test_acc: 0.713\n"
          ],
          "name": "stdout"
        },
        {
          "output_type": "stream",
          "text": [
            "Epoch 383: 100%|██████████| 391/391 [00:24<00:00, 15.72it/s, acc=0.854, xentropy=0.508]\n",
            "  0%|          | 0/391 [00:00<?, ?it/s]"
          ],
          "name": "stderr"
        },
        {
          "output_type": "stream",
          "text": [
            "test_acc: 0.710\n"
          ],
          "name": "stdout"
        },
        {
          "output_type": "stream",
          "text": [
            "Epoch 384: 100%|██████████| 391/391 [00:24<00:00, 15.80it/s, acc=0.852, xentropy=0.515]\n",
            "  0%|          | 0/391 [00:00<?, ?it/s]"
          ],
          "name": "stderr"
        },
        {
          "output_type": "stream",
          "text": [
            "test_acc: 0.714\n"
          ],
          "name": "stdout"
        },
        {
          "output_type": "stream",
          "text": [
            "Epoch 385: 100%|██████████| 391/391 [00:24<00:00, 15.65it/s, acc=0.850, xentropy=0.511]\n",
            "  0%|          | 0/391 [00:00<?, ?it/s]"
          ],
          "name": "stderr"
        },
        {
          "output_type": "stream",
          "text": [
            "test_acc: 0.712\n"
          ],
          "name": "stdout"
        },
        {
          "output_type": "stream",
          "text": [
            "Epoch 386: 100%|██████████| 391/391 [00:25<00:00, 15.50it/s, acc=0.850, xentropy=0.516]\n",
            "  0%|          | 0/391 [00:00<?, ?it/s]"
          ],
          "name": "stderr"
        },
        {
          "output_type": "stream",
          "text": [
            "test_acc: 0.712\n"
          ],
          "name": "stdout"
        },
        {
          "output_type": "stream",
          "text": [
            "Epoch 387: 100%|██████████| 391/391 [00:25<00:00, 15.64it/s, acc=0.850, xentropy=0.518]\n",
            "  0%|          | 0/391 [00:00<?, ?it/s]"
          ],
          "name": "stderr"
        },
        {
          "output_type": "stream",
          "text": [
            "test_acc: 0.713\n"
          ],
          "name": "stdout"
        },
        {
          "output_type": "stream",
          "text": [
            "Epoch 388: 100%|██████████| 391/391 [00:25<00:00, 15.47it/s, acc=0.852, xentropy=0.512]\n",
            "  0%|          | 0/391 [00:00<?, ?it/s]"
          ],
          "name": "stderr"
        },
        {
          "output_type": "stream",
          "text": [
            "test_acc: 0.712\n"
          ],
          "name": "stdout"
        },
        {
          "output_type": "stream",
          "text": [
            "Epoch 389: 100%|██████████| 391/391 [00:25<00:00, 15.56it/s, acc=0.851, xentropy=0.511]\n",
            "  0%|          | 0/391 [00:00<?, ?it/s]"
          ],
          "name": "stderr"
        },
        {
          "output_type": "stream",
          "text": [
            "test_acc: 0.710\n"
          ],
          "name": "stdout"
        },
        {
          "output_type": "stream",
          "text": [
            "Epoch 390: 100%|██████████| 391/391 [00:24<00:00, 15.72it/s, acc=0.853, xentropy=0.511]\n",
            "  0%|          | 0/391 [00:00<?, ?it/s]"
          ],
          "name": "stderr"
        },
        {
          "output_type": "stream",
          "text": [
            "test_acc: 0.712\n"
          ],
          "name": "stdout"
        },
        {
          "output_type": "stream",
          "text": [
            "Epoch 391: 100%|██████████| 391/391 [00:25<00:00, 15.63it/s, acc=0.852, xentropy=0.510]\n",
            "  0%|          | 0/391 [00:00<?, ?it/s]"
          ],
          "name": "stderr"
        },
        {
          "output_type": "stream",
          "text": [
            "test_acc: 0.712\n"
          ],
          "name": "stdout"
        },
        {
          "output_type": "stream",
          "text": [
            "Epoch 392: 100%|██████████| 391/391 [00:24<00:00, 15.85it/s, acc=0.852, xentropy=0.511]\n",
            "  0%|          | 0/391 [00:00<?, ?it/s]"
          ],
          "name": "stderr"
        },
        {
          "output_type": "stream",
          "text": [
            "test_acc: 0.711\n"
          ],
          "name": "stdout"
        },
        {
          "output_type": "stream",
          "text": [
            "Epoch 393: 100%|██████████| 391/391 [00:25<00:00, 15.63it/s, acc=0.851, xentropy=0.515]\n",
            "  0%|          | 0/391 [00:00<?, ?it/s]"
          ],
          "name": "stderr"
        },
        {
          "output_type": "stream",
          "text": [
            "test_acc: 0.713\n"
          ],
          "name": "stdout"
        },
        {
          "output_type": "stream",
          "text": [
            "Epoch 394: 100%|██████████| 391/391 [00:25<00:00, 15.59it/s, acc=0.851, xentropy=0.512]\n",
            "  0%|          | 0/391 [00:00<?, ?it/s]"
          ],
          "name": "stderr"
        },
        {
          "output_type": "stream",
          "text": [
            "test_acc: 0.713\n"
          ],
          "name": "stdout"
        },
        {
          "output_type": "stream",
          "text": [
            "Epoch 395: 100%|██████████| 391/391 [00:24<00:00, 15.74it/s, acc=0.854, xentropy=0.504]\n",
            "  0%|          | 0/391 [00:00<?, ?it/s]"
          ],
          "name": "stderr"
        },
        {
          "output_type": "stream",
          "text": [
            "test_acc: 0.712\n"
          ],
          "name": "stdout"
        },
        {
          "output_type": "stream",
          "text": [
            "Epoch 396: 100%|██████████| 391/391 [00:25<00:00, 15.62it/s, acc=0.853, xentropy=0.510]\n",
            "  0%|          | 0/391 [00:00<?, ?it/s]"
          ],
          "name": "stderr"
        },
        {
          "output_type": "stream",
          "text": [
            "test_acc: 0.713\n"
          ],
          "name": "stdout"
        },
        {
          "output_type": "stream",
          "text": [
            "Epoch 397: 100%|██████████| 391/391 [00:25<00:00, 15.58it/s, acc=0.851, xentropy=0.515]\n",
            "  0%|          | 0/391 [00:00<?, ?it/s]"
          ],
          "name": "stderr"
        },
        {
          "output_type": "stream",
          "text": [
            "test_acc: 0.711\n"
          ],
          "name": "stdout"
        },
        {
          "output_type": "stream",
          "text": [
            "Epoch 398: 100%|██████████| 391/391 [00:24<00:00, 15.73it/s, acc=0.851, xentropy=0.513]\n",
            "  0%|          | 0/391 [00:00<?, ?it/s]"
          ],
          "name": "stderr"
        },
        {
          "output_type": "stream",
          "text": [
            "test_acc: 0.714\n"
          ],
          "name": "stdout"
        },
        {
          "output_type": "stream",
          "text": [
            "Epoch 399: 100%|██████████| 391/391 [00:24<00:00, 15.74it/s, acc=0.851, xentropy=0.515]\n"
          ],
          "name": "stderr"
        },
        {
          "output_type": "stream",
          "text": [
            "test_acc: 0.713\n"
          ],
          "name": "stdout"
        }
      ]
    },
    {
      "cell_type": "code",
      "metadata": {
        "id": "L7PNjaiMSxml",
        "colab_type": "code",
        "colab": {
          "base_uri": "https://localhost:8080/",
          "height": 1000
        },
        "outputId": "7b490bf8-bb82-440b-a461-2fc8ac972128"
      },
      "source": [
        "train(325,400,0.0000005)"
      ],
      "execution_count": 0,
      "outputs": [
        {
          "output_type": "stream",
          "text": [
            "Epoch 325: 100%|██████████| 391/391 [00:24<00:00, 15.84it/s, acc=0.851, xentropy=0.510]\n",
            "  0%|          | 0/391 [00:00<?, ?it/s]"
          ],
          "name": "stderr"
        },
        {
          "output_type": "stream",
          "text": [
            "test_acc: 0.712\n"
          ],
          "name": "stdout"
        },
        {
          "output_type": "stream",
          "text": [
            "Epoch 326: 100%|██████████| 391/391 [00:24<00:00, 16.12it/s, acc=0.852, xentropy=0.512]\n",
            "  0%|          | 0/391 [00:00<?, ?it/s]"
          ],
          "name": "stderr"
        },
        {
          "output_type": "stream",
          "text": [
            "test_acc: 0.712\n"
          ],
          "name": "stdout"
        },
        {
          "output_type": "stream",
          "text": [
            "Epoch 327: 100%|██████████| 391/391 [00:24<00:00, 15.94it/s, acc=0.850, xentropy=0.515]\n",
            "  0%|          | 0/391 [00:00<?, ?it/s]"
          ],
          "name": "stderr"
        },
        {
          "output_type": "stream",
          "text": [
            "test_acc: 0.713\n"
          ],
          "name": "stdout"
        },
        {
          "output_type": "stream",
          "text": [
            "Epoch 328: 100%|██████████| 391/391 [00:24<00:00, 15.97it/s, acc=0.852, xentropy=0.516]\n",
            "  0%|          | 0/391 [00:00<?, ?it/s]"
          ],
          "name": "stderr"
        },
        {
          "output_type": "stream",
          "text": [
            "test_acc: 0.712\n"
          ],
          "name": "stdout"
        },
        {
          "output_type": "stream",
          "text": [
            "Epoch 329: 100%|██████████| 391/391 [00:24<00:00, 16.07it/s, acc=0.852, xentropy=0.507]\n",
            "  0%|          | 0/391 [00:00<?, ?it/s]"
          ],
          "name": "stderr"
        },
        {
          "output_type": "stream",
          "text": [
            "test_acc: 0.714\n"
          ],
          "name": "stdout"
        },
        {
          "output_type": "stream",
          "text": [
            "Epoch 330: 100%|██████████| 391/391 [00:24<00:00, 16.14it/s, acc=0.852, xentropy=0.512]\n",
            "  0%|          | 0/391 [00:00<?, ?it/s]"
          ],
          "name": "stderr"
        },
        {
          "output_type": "stream",
          "text": [
            "test_acc: 0.711\n"
          ],
          "name": "stdout"
        },
        {
          "output_type": "stream",
          "text": [
            "Epoch 331: 100%|██████████| 391/391 [00:24<00:00, 16.19it/s, acc=0.852, xentropy=0.509]\n",
            "  0%|          | 0/391 [00:00<?, ?it/s]"
          ],
          "name": "stderr"
        },
        {
          "output_type": "stream",
          "text": [
            "test_acc: 0.713\n"
          ],
          "name": "stdout"
        },
        {
          "output_type": "stream",
          "text": [
            "Epoch 332: 100%|██████████| 391/391 [00:24<00:00, 16.22it/s, acc=0.852, xentropy=0.510]\n",
            "  0%|          | 0/391 [00:00<?, ?it/s]"
          ],
          "name": "stderr"
        },
        {
          "output_type": "stream",
          "text": [
            "test_acc: 0.712\n"
          ],
          "name": "stdout"
        },
        {
          "output_type": "stream",
          "text": [
            "Epoch 333: 100%|██████████| 391/391 [00:24<00:00, 16.00it/s, acc=0.851, xentropy=0.514]\n",
            "  0%|          | 0/391 [00:00<?, ?it/s]"
          ],
          "name": "stderr"
        },
        {
          "output_type": "stream",
          "text": [
            "test_acc: 0.713\n"
          ],
          "name": "stdout"
        },
        {
          "output_type": "stream",
          "text": [
            "Epoch 334: 100%|██████████| 391/391 [00:24<00:00, 16.06it/s, acc=0.849, xentropy=0.514]\n",
            "  0%|          | 0/391 [00:00<?, ?it/s]"
          ],
          "name": "stderr"
        },
        {
          "output_type": "stream",
          "text": [
            "test_acc: 0.711\n"
          ],
          "name": "stdout"
        },
        {
          "output_type": "stream",
          "text": [
            "Epoch 335: 100%|██████████| 391/391 [00:24<00:00, 16.22it/s, acc=0.852, xentropy=0.511]\n",
            "  0%|          | 0/391 [00:00<?, ?it/s]"
          ],
          "name": "stderr"
        },
        {
          "output_type": "stream",
          "text": [
            "test_acc: 0.713\n"
          ],
          "name": "stdout"
        },
        {
          "output_type": "stream",
          "text": [
            "Epoch 336: 100%|██████████| 391/391 [00:24<00:00, 16.22it/s, acc=0.849, xentropy=0.518]\n",
            "  0%|          | 0/391 [00:00<?, ?it/s]"
          ],
          "name": "stderr"
        },
        {
          "output_type": "stream",
          "text": [
            "test_acc: 0.712\n"
          ],
          "name": "stdout"
        },
        {
          "output_type": "stream",
          "text": [
            "Epoch 337: 100%|██████████| 391/391 [00:24<00:00, 16.04it/s, acc=0.849, xentropy=0.516]\n",
            "  0%|          | 0/391 [00:00<?, ?it/s]"
          ],
          "name": "stderr"
        },
        {
          "output_type": "stream",
          "text": [
            "test_acc: 0.711\n"
          ],
          "name": "stdout"
        },
        {
          "output_type": "stream",
          "text": [
            "Epoch 338: 100%|██████████| 391/391 [00:24<00:00, 16.11it/s, acc=0.854, xentropy=0.508]\n",
            "  0%|          | 0/391 [00:00<?, ?it/s]"
          ],
          "name": "stderr"
        },
        {
          "output_type": "stream",
          "text": [
            "test_acc: 0.711\n"
          ],
          "name": "stdout"
        },
        {
          "output_type": "stream",
          "text": [
            "Epoch 339: 100%|██████████| 391/391 [00:24<00:00, 16.11it/s, acc=0.852, xentropy=0.511]\n",
            "  0%|          | 0/391 [00:00<?, ?it/s]"
          ],
          "name": "stderr"
        },
        {
          "output_type": "stream",
          "text": [
            "test_acc: 0.712\n"
          ],
          "name": "stdout"
        },
        {
          "output_type": "stream",
          "text": [
            "Epoch 340: 100%|██████████| 391/391 [00:24<00:00, 16.12it/s, acc=0.852, xentropy=0.511]\n",
            "  0%|          | 0/391 [00:00<?, ?it/s]"
          ],
          "name": "stderr"
        },
        {
          "output_type": "stream",
          "text": [
            "test_acc: 0.712\n"
          ],
          "name": "stdout"
        },
        {
          "output_type": "stream",
          "text": [
            "Epoch 341: 100%|██████████| 391/391 [00:23<00:00, 16.34it/s, acc=0.853, xentropy=0.511]\n",
            "  0%|          | 0/391 [00:00<?, ?it/s]"
          ],
          "name": "stderr"
        },
        {
          "output_type": "stream",
          "text": [
            "test_acc: 0.713\n"
          ],
          "name": "stdout"
        },
        {
          "output_type": "stream",
          "text": [
            "Epoch 342: 100%|██████████| 391/391 [00:24<00:00, 16.12it/s, acc=0.852, xentropy=0.511]\n",
            "  0%|          | 0/391 [00:00<?, ?it/s]"
          ],
          "name": "stderr"
        },
        {
          "output_type": "stream",
          "text": [
            "test_acc: 0.712\n"
          ],
          "name": "stdout"
        },
        {
          "output_type": "stream",
          "text": [
            "Epoch 343: 100%|██████████| 391/391 [00:24<00:00, 16.17it/s, acc=0.851, xentropy=0.512]\n",
            "  0%|          | 0/391 [00:00<?, ?it/s]"
          ],
          "name": "stderr"
        },
        {
          "output_type": "stream",
          "text": [
            "test_acc: 0.713\n"
          ],
          "name": "stdout"
        },
        {
          "output_type": "stream",
          "text": [
            "Epoch 344: 100%|██████████| 391/391 [00:24<00:00, 16.26it/s, acc=0.851, xentropy=0.516]\n",
            "  0%|          | 0/391 [00:00<?, ?it/s]"
          ],
          "name": "stderr"
        },
        {
          "output_type": "stream",
          "text": [
            "test_acc: 0.713\n"
          ],
          "name": "stdout"
        },
        {
          "output_type": "stream",
          "text": [
            "Epoch 345: 100%|██████████| 391/391 [00:24<00:00, 16.23it/s, acc=0.853, xentropy=0.509]\n",
            "  0%|          | 0/391 [00:00<?, ?it/s]"
          ],
          "name": "stderr"
        },
        {
          "output_type": "stream",
          "text": [
            "test_acc: 0.712\n"
          ],
          "name": "stdout"
        },
        {
          "output_type": "stream",
          "text": [
            "Epoch 346: 100%|██████████| 391/391 [00:24<00:00, 16.27it/s, acc=0.851, xentropy=0.512]\n",
            "  0%|          | 0/391 [00:00<?, ?it/s]"
          ],
          "name": "stderr"
        },
        {
          "output_type": "stream",
          "text": [
            "test_acc: 0.712\n"
          ],
          "name": "stdout"
        },
        {
          "output_type": "stream",
          "text": [
            "Epoch 347: 100%|██████████| 391/391 [00:23<00:00, 16.40it/s, acc=0.854, xentropy=0.507]\n",
            "  0%|          | 0/391 [00:00<?, ?it/s]"
          ],
          "name": "stderr"
        },
        {
          "output_type": "stream",
          "text": [
            "test_acc: 0.711\n"
          ],
          "name": "stdout"
        },
        {
          "output_type": "stream",
          "text": [
            "Epoch 348: 100%|██████████| 391/391 [00:24<00:00, 16.19it/s, acc=0.853, xentropy=0.508]\n",
            "  0%|          | 0/391 [00:00<?, ?it/s]"
          ],
          "name": "stderr"
        },
        {
          "output_type": "stream",
          "text": [
            "test_acc: 0.712\n"
          ],
          "name": "stdout"
        },
        {
          "output_type": "stream",
          "text": [
            "Epoch 349: 100%|██████████| 391/391 [00:24<00:00, 16.11it/s, acc=0.852, xentropy=0.512]\n",
            "  0%|          | 0/391 [00:00<?, ?it/s]"
          ],
          "name": "stderr"
        },
        {
          "output_type": "stream",
          "text": [
            "test_acc: 0.713\n"
          ],
          "name": "stdout"
        },
        {
          "output_type": "stream",
          "text": [
            "Epoch 350: 100%|██████████| 391/391 [00:24<00:00, 16.22it/s, acc=0.852, xentropy=0.509]\n",
            "  0%|          | 0/391 [00:00<?, ?it/s]"
          ],
          "name": "stderr"
        },
        {
          "output_type": "stream",
          "text": [
            "test_acc: 0.713\n"
          ],
          "name": "stdout"
        },
        {
          "output_type": "stream",
          "text": [
            "Epoch 351: 100%|██████████| 391/391 [00:24<00:00, 16.27it/s, acc=0.852, xentropy=0.508]\n",
            "  0%|          | 0/391 [00:00<?, ?it/s]"
          ],
          "name": "stderr"
        },
        {
          "output_type": "stream",
          "text": [
            "test_acc: 0.714\n"
          ],
          "name": "stdout"
        },
        {
          "output_type": "stream",
          "text": [
            "Epoch 352: 100%|██████████| 391/391 [00:24<00:00, 16.15it/s, acc=0.853, xentropy=0.512]\n",
            "  0%|          | 0/391 [00:00<?, ?it/s]"
          ],
          "name": "stderr"
        },
        {
          "output_type": "stream",
          "text": [
            "test_acc: 0.711\n"
          ],
          "name": "stdout"
        },
        {
          "output_type": "stream",
          "text": [
            "Epoch 353: 100%|██████████| 391/391 [00:24<00:00, 16.16it/s, acc=0.851, xentropy=0.514]\n",
            "  0%|          | 0/391 [00:00<?, ?it/s]"
          ],
          "name": "stderr"
        },
        {
          "output_type": "stream",
          "text": [
            "test_acc: 0.713\n"
          ],
          "name": "stdout"
        },
        {
          "output_type": "stream",
          "text": [
            "Epoch 354: 100%|██████████| 391/391 [00:24<00:00, 16.18it/s, acc=0.852, xentropy=0.510]\n",
            "  0%|          | 0/391 [00:00<?, ?it/s]"
          ],
          "name": "stderr"
        },
        {
          "output_type": "stream",
          "text": [
            "test_acc: 0.712\n"
          ],
          "name": "stdout"
        },
        {
          "output_type": "stream",
          "text": [
            "Epoch 355: 100%|██████████| 391/391 [00:24<00:00, 16.22it/s, acc=0.852, xentropy=0.511]\n",
            "  0%|          | 0/391 [00:00<?, ?it/s]"
          ],
          "name": "stderr"
        },
        {
          "output_type": "stream",
          "text": [
            "test_acc: 0.714\n"
          ],
          "name": "stdout"
        },
        {
          "output_type": "stream",
          "text": [
            "Epoch 356: 100%|██████████| 391/391 [00:24<00:00, 16.17it/s, acc=0.853, xentropy=0.513]\n",
            "  0%|          | 0/391 [00:00<?, ?it/s]"
          ],
          "name": "stderr"
        },
        {
          "output_type": "stream",
          "text": [
            "test_acc: 0.713\n"
          ],
          "name": "stdout"
        },
        {
          "output_type": "stream",
          "text": [
            "Epoch 357: 100%|██████████| 391/391 [00:24<00:00, 16.29it/s, acc=0.850, xentropy=0.512]\n",
            "  0%|          | 0/391 [00:00<?, ?it/s]"
          ],
          "name": "stderr"
        },
        {
          "output_type": "stream",
          "text": [
            "test_acc: 0.711\n"
          ],
          "name": "stdout"
        },
        {
          "output_type": "stream",
          "text": [
            "Epoch 358: 100%|██████████| 391/391 [00:23<00:00, 16.30it/s, acc=0.854, xentropy=0.507]\n",
            "  0%|          | 0/391 [00:00<?, ?it/s]"
          ],
          "name": "stderr"
        },
        {
          "output_type": "stream",
          "text": [
            "test_acc: 0.712\n"
          ],
          "name": "stdout"
        },
        {
          "output_type": "stream",
          "text": [
            "Epoch 359: 100%|██████████| 391/391 [00:23<00:00, 16.42it/s, acc=0.852, xentropy=0.509]\n",
            "  0%|          | 0/391 [00:00<?, ?it/s]"
          ],
          "name": "stderr"
        },
        {
          "output_type": "stream",
          "text": [
            "test_acc: 0.714\n"
          ],
          "name": "stdout"
        },
        {
          "output_type": "stream",
          "text": [
            "Epoch 360: 100%|██████████| 391/391 [00:24<00:00, 16.20it/s, acc=0.852, xentropy=0.512]\n",
            "  0%|          | 0/391 [00:00<?, ?it/s]"
          ],
          "name": "stderr"
        },
        {
          "output_type": "stream",
          "text": [
            "test_acc: 0.714\n"
          ],
          "name": "stdout"
        },
        {
          "output_type": "stream",
          "text": [
            "Epoch 361: 100%|██████████| 391/391 [00:24<00:00, 16.17it/s, acc=0.854, xentropy=0.508]\n",
            "  0%|          | 0/391 [00:00<?, ?it/s]"
          ],
          "name": "stderr"
        },
        {
          "output_type": "stream",
          "text": [
            "test_acc: 0.712\n"
          ],
          "name": "stdout"
        },
        {
          "output_type": "stream",
          "text": [
            "Epoch 362:  73%|███████▎  | 285/391 [00:17<00:06, 15.84it/s, acc=0.852, xentropy=0.512]"
          ],
          "name": "stderr"
        }
      ]
    },
    {
      "cell_type": "code",
      "metadata": {
        "id": "fidfhniKbOFe",
        "colab_type": "code",
        "colab": {}
      },
      "source": [
        ""
      ],
      "execution_count": 0,
      "outputs": []
    }
  ]
}